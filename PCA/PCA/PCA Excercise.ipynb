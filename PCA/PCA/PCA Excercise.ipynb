{
 "cells": [
  {
   "cell_type": "markdown",
   "id": "4e52de2e-4e3a-4a81-9e9c-3ed1672b5de9",
   "metadata": {},
   "source": [
    "1. Load heart disease dataset in pandas dataframe\r",
    "2. \n",
    "Remove outliers using Z score. Usual guideline is to remove anything that has Z score > 3 formula or Z score < -\n",
    "3. Convert text columns to numbers using label encoding and one hot encoding life"
   ]
  },
  {
   "cell_type": "markdown",
   "id": "3ad55bd6-8774-4894-b680-a348e363d4b1",
   "metadata": {},
   "source": [
    "4. Apply scaling\n",
    "5. Build a classification model using various methods (SVM, logistic regression, random forest) and check which model gives you the best accuracy\n",
    "6. Now use PCA to reduce dimensions, retrain your model and see what impact it has on your model in terms of accuracy. Keep in mind that many times doing PCA reduces the accuracy but computation is much lighter and that's the trade off you need to consider while building models in real life"
   ]
  },
  {
   "cell_type": "code",
   "execution_count": null,
   "id": "d8f2e1f5-3e91-4750-9c50-bf3d814da2a5",
   "metadata": {},
   "outputs": [],
   "source": []
  }
 ],
 "metadata": {
  "kernelspec": {
   "display_name": "Python 3 (ipykernel)",
   "language": "python",
   "name": "python3"
  },
  "language_info": {
   "codemirror_mode": {
    "name": "ipython",
    "version": 3
   },
   "file_extension": ".py",
   "mimetype": "text/x-python",
   "name": "python",
   "nbconvert_exporter": "python",
   "pygments_lexer": "ipython3",
   "version": "3.11.5"
  }
 },
 "nbformat": 4,
 "nbformat_minor": 5
}
