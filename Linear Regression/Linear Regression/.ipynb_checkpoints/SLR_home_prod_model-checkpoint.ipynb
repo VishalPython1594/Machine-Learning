{
 "cells": [
  {
   "cell_type": "code",
   "execution_count": null,
   "metadata": {},
   "outputs": [],
   "source": [
    "# Import the necessary lib.\n",
    "# Load the data into DF\n",
    "# Identify the X (feature) and Y (outcome/response) variables in the DF \n",
    "# Splitting the data into training and validation data\n",
    "# Model fitting\n",
    "# Model Diagnostics ###\n",
    "# Model Performance"
   ]
  },
  {
   "cell_type": "code",
   "execution_count": 8,
   "metadata": {},
   "outputs": [],
   "source": [
    "import pandas as pd \n",
    "import numpy as np"
   ]
  },
  {
   "cell_type": "code",
   "execution_count": 9,
   "metadata": {},
   "outputs": [],
   "source": [
    "data = pd.read_csv('HomeProducts_raw_data.csv')\n",
    "df = pd.DataFrame(data = data)"
   ]
  },
  {
   "cell_type": "code",
   "execution_count": 11,
   "metadata": {},
   "outputs": [],
   "source": [
    "# Statsmodel is a library that has a host of statistical learning models. \n",
    "# OLS() model : resides in the Statsmodel\n",
    "\n",
    "import statsmodels.api as sm"
   ]
  },
  {
   "cell_type": "code",
   "execution_count": 12,
   "metadata": {},
   "outputs": [],
   "source": [
    "# To estimate regr coeff (B0), a constant term of 1 needs to be added as a separate column. This value \n",
    "# temp. remains the same for all rows. Eventually, this will help the model arrive at B0(intercept)\n",
    "\n",
    "X = sm.add_constant(df['Advertisement'].values)\n",
    "y = df['Sales'].values"
   ]
  },
  {
   "cell_type": "code",
   "execution_count": 14,
   "metadata": {},
   "outputs": [],
   "source": [
    "# X"
   ]
  },
  {
   "cell_type": "code",
   "execution_count": 15,
   "metadata": {},
   "outputs": [],
   "source": [
    "# Fitting the Model using OLS method; pass y and X as parameters\n",
    "# OLS is Ordinary Least Squares\n",
    "\n",
    "model = sm.OLS(y, X).fit()\n",
    "\n",
    "# The fit() method on OLS estimates the reg coeff. and returns the model information to the 'model' \n",
    "# variable. The model information contains the reg coeff., accuracy measures and residual values. "
   ]
  },
  {
   "cell_type": "code",
   "execution_count": 17,
   "metadata": {},
   "outputs": [
    {
     "name": "stdout",
     "output_type": "stream",
     "text": [
      "[61.55535534  3.07617744]\n"
     ]
    }
   ],
   "source": [
    "# Getting the reg coefficients\n",
    "\n",
    "print(model.params)\n",
    "\n",
    "# constant, slope"
   ]
  },
  {
   "cell_type": "code",
   "execution_count": 28,
   "metadata": {},
   "outputs": [
    {
     "data": {
      "text/html": [
       "<table class=\"simpletable\">\n",
       "<caption>OLS Regression Results</caption>\n",
       "<tr>\n",
       "  <th>Dep. Variable:</th>            <td>y</td>        <th>  R-squared:         </th> <td>   0.156</td>\n",
       "</tr>\n",
       "<tr>\n",
       "  <th>Model:</th>                   <td>OLS</td>       <th>  Adj. R-squared:    </th> <td>   0.139</td>\n",
       "</tr>\n",
       "<tr>\n",
       "  <th>Method:</th>             <td>Least Squares</td>  <th>  F-statistic:       </th> <td>   8.893</td>\n",
       "</tr>\n",
       "<tr>\n",
       "  <th>Date:</th>             <td>Mon, 11 Jul 2022</td> <th>  Prob (F-statistic):</th>  <td>0.00449</td>\n",
       "</tr>\n",
       "<tr>\n",
       "  <th>Time:</th>                 <td>21:14:13</td>     <th>  Log-Likelihood:    </th> <td> -283.20</td>\n",
       "</tr>\n",
       "<tr>\n",
       "  <th>No. Observations:</th>      <td>    50</td>      <th>  AIC:               </th> <td>   570.4</td>\n",
       "</tr>\n",
       "<tr>\n",
       "  <th>Df Residuals:</th>          <td>    48</td>      <th>  BIC:               </th> <td>   574.2</td>\n",
       "</tr>\n",
       "<tr>\n",
       "  <th>Df Model:</th>              <td>     1</td>      <th>                     </th>     <td> </td>   \n",
       "</tr>\n",
       "<tr>\n",
       "  <th>Covariance Type:</th>      <td>nonrobust</td>    <th>                     </th>     <td> </td>   \n",
       "</tr>\n",
       "</table>\n",
       "<table class=\"simpletable\">\n",
       "<tr>\n",
       "    <td></td>       <th>coef</th>     <th>std err</th>      <th>t</th>      <th>P>|t|</th>  <th>[0.025</th>    <th>0.975]</th>  \n",
       "</tr>\n",
       "<tr>\n",
       "  <th>const</th> <td>   61.5554</td> <td>   66.702</td> <td>    0.923</td> <td> 0.361</td> <td>  -72.558</td> <td>  195.669</td>\n",
       "</tr>\n",
       "<tr>\n",
       "  <th>x1</th>    <td>    3.0762</td> <td>    1.032</td> <td>    2.982</td> <td> 0.004</td> <td>    1.002</td> <td>    5.150</td>\n",
       "</tr>\n",
       "</table>\n",
       "<table class=\"simpletable\">\n",
       "<tr>\n",
       "  <th>Omnibus:</th>       <td> 1.393</td> <th>  Durbin-Watson:     </th> <td>   2.012</td>\n",
       "</tr>\n",
       "<tr>\n",
       "  <th>Prob(Omnibus):</th> <td> 0.498</td> <th>  Jarque-Bera (JB):  </th> <td>   1.291</td>\n",
       "</tr>\n",
       "<tr>\n",
       "  <th>Skew:</th>          <td> 0.256</td> <th>  Prob(JB):          </th> <td>   0.524</td>\n",
       "</tr>\n",
       "<tr>\n",
       "  <th>Kurtosis:</th>      <td> 2.403</td> <th>  Cond. No.          </th> <td>    428.</td>\n",
       "</tr>\n",
       "</table><br/><br/>Warnings:<br/>[1] Standard Errors assume that the covariance matrix of the errors is correctly specified."
      ],
      "text/plain": [
       "<class 'statsmodels.iolib.summary.Summary'>\n",
       "\"\"\"\n",
       "                            OLS Regression Results                            \n",
       "==============================================================================\n",
       "Dep. Variable:                      y   R-squared:                       0.156\n",
       "Model:                            OLS   Adj. R-squared:                  0.139\n",
       "Method:                 Least Squares   F-statistic:                     8.893\n",
       "Date:                Mon, 11 Jul 2022   Prob (F-statistic):            0.00449\n",
       "Time:                        21:14:13   Log-Likelihood:                -283.20\n",
       "No. Observations:                  50   AIC:                             570.4\n",
       "Df Residuals:                      48   BIC:                             574.2\n",
       "Df Model:                           1                                         \n",
       "Covariance Type:            nonrobust                                         \n",
       "==============================================================================\n",
       "                 coef    std err          t      P>|t|      [0.025      0.975]\n",
       "------------------------------------------------------------------------------\n",
       "const         61.5554     66.702      0.923      0.361     -72.558     195.669\n",
       "x1             3.0762      1.032      2.982      0.004       1.002       5.150\n",
       "==============================================================================\n",
       "Omnibus:                        1.393   Durbin-Watson:                   2.012\n",
       "Prob(Omnibus):                  0.498   Jarque-Bera (JB):                1.291\n",
       "Skew:                           0.256   Prob(JB):                        0.524\n",
       "Kurtosis:                       2.403   Cond. No.                         428.\n",
       "==============================================================================\n",
       "\n",
       "Warnings:\n",
       "[1] Standard Errors assume that the covariance matrix of the errors is correctly specified.\n",
       "\"\"\""
      ]
     },
     "execution_count": 28,
     "metadata": {},
     "output_type": "execute_result"
    }
   ],
   "source": [
    "# Information required for Diagnostics\n",
    "\n",
    "model.summary()"
   ]
  },
  {
   "cell_type": "code",
   "execution_count": 21,
   "metadata": {},
   "outputs": [],
   "source": [
    "# Prediction of X values (Y-hat: fitted values)\n",
    "# predict() method takes in new values of X as a parameter and returns values of Y\n",
    "\n",
    "pred_y = model.predict(X)\n",
    "\n",
    "# pred_y"
   ]
  },
  {
   "cell_type": "markdown",
   "metadata": {},
   "source": [
    "#### Import Performance metrics - R squared and MSE"
   ]
  },
  {
   "cell_type": "code",
   "execution_count": 22,
   "metadata": {},
   "outputs": [
    {
     "data": {
      "text/plain": [
       "0.15631530754337541"
      ]
     },
     "execution_count": 22,
     "metadata": {},
     "output_type": "execute_result"
    }
   ],
   "source": [
    "# Measure the accuracy of our predictions: r2_score: R-squared\n",
    "# MSE : Mean Squared Error\n",
    "\n",
    "from sklearn.metrics import r2_score, mean_squared_error\n",
    "\n",
    "r2_score(y, pred_y)"
   ]
  },
  {
   "cell_type": "code",
   "execution_count": null,
   "metadata": {},
   "outputs": [],
   "source": [
    "# The model only explains 15.6% of the variance in Y. "
   ]
  },
  {
   "cell_type": "code",
   "execution_count": 26,
   "metadata": {},
   "outputs": [
    {
     "data": {
      "text/plain": [
       "4866.041177799038"
      ]
     },
     "execution_count": 26,
     "metadata": {},
     "output_type": "execute_result"
    }
   ],
   "source": [
    "# MSE (mean of the square of the difference between y and pred_y)\n",
    "\n",
    "mse = mean_squared_error(y, pred_y)\n",
    "mse"
   ]
  },
  {
   "cell_type": "code",
   "execution_count": 25,
   "metadata": {},
   "outputs": [
    {
     "data": {
      "text/plain": [
       "69.75701525867515"
      ]
     },
     "execution_count": 25,
     "metadata": {},
     "output_type": "execute_result"
    }
   ],
   "source": [
    "# RMSE: root mean squared error\n",
    "\n",
    "np.sqrt(mse)"
   ]
  },
  {
   "cell_type": "code",
   "execution_count": null,
   "metadata": {},
   "outputs": [],
   "source": [
    "# RMSE means the average error the model makes in predicting the outomce. The smaller the value of \n",
    "# RMSE, the better the model is. "
   ]
  },
  {
   "cell_type": "markdown",
   "metadata": {},
   "source": [
    "# With train test split"
   ]
  },
  {
   "cell_type": "code",
   "execution_count": 3,
   "metadata": {},
   "outputs": [
    {
     "data": {
      "text/html": [
       "<div>\n",
       "<style scoped>\n",
       "    .dataframe tbody tr th:only-of-type {\n",
       "        vertical-align: middle;\n",
       "    }\n",
       "\n",
       "    .dataframe tbody tr th {\n",
       "        vertical-align: top;\n",
       "    }\n",
       "\n",
       "    .dataframe thead th {\n",
       "        text-align: right;\n",
       "    }\n",
       "</style>\n",
       "<table border=\"1\" class=\"dataframe\">\n",
       "  <thead>\n",
       "    <tr style=\"text-align: right;\">\n",
       "      <th></th>\n",
       "      <th>S.I</th>\n",
       "      <th>Advertisement</th>\n",
       "      <th>Sales</th>\n",
       "    </tr>\n",
       "  </thead>\n",
       "  <tbody>\n",
       "    <tr>\n",
       "      <th>0</th>\n",
       "      <td>1</td>\n",
       "      <td>62.00</td>\n",
       "      <td>270.0</td>\n",
       "    </tr>\n",
       "    <tr>\n",
       "      <th>1</th>\n",
       "      <td>2</td>\n",
       "      <td>76.33</td>\n",
       "      <td>200.0</td>\n",
       "    </tr>\n",
       "    <tr>\n",
       "      <th>2</th>\n",
       "      <td>3</td>\n",
       "      <td>72.00</td>\n",
       "      <td>240.0</td>\n",
       "    </tr>\n",
       "    <tr>\n",
       "      <th>3</th>\n",
       "      <td>4</td>\n",
       "      <td>60.00</td>\n",
       "      <td>250.0</td>\n",
       "    </tr>\n",
       "  </tbody>\n",
       "</table>\n",
       "</div>"
      ],
      "text/plain": [
       "   S.I  Advertisement  Sales\n",
       "0    1          62.00  270.0\n",
       "1    2          76.33  200.0\n",
       "2    3          72.00  240.0\n",
       "3    4          60.00  250.0"
      ]
     },
     "execution_count": 3,
     "metadata": {},
     "output_type": "execute_result"
    }
   ],
   "source": [
    "data = pd.read_csv('HomeProducts_raw_data.csv')\n",
    "df = pd.DataFrame(data = data)\n",
    "df.head(4)"
   ]
  },
  {
   "cell_type": "code",
   "execution_count": 170,
   "metadata": {
    "scrolled": true
   },
   "outputs": [
    {
     "name": "stdout",
     "output_type": "stream",
     "text": [
      "<class 'pandas.core.frame.DataFrame'>\n",
      "RangeIndex: 50 entries, 0 to 49\n",
      "Data columns (total 3 columns):\n",
      " #   Column         Non-Null Count  Dtype  \n",
      "---  ------         --------------  -----  \n",
      " 0   S.I            50 non-null     int64  \n",
      " 1   Advertisement  50 non-null     float64\n",
      " 2   Sales          50 non-null     float64\n",
      "dtypes: float64(2), int64(1)\n",
      "memory usage: 1.3 KB\n"
     ]
    }
   ],
   "source": [
    "df.info()"
   ]
  },
  {
   "cell_type": "code",
   "execution_count": 7,
   "metadata": {},
   "outputs": [],
   "source": [
    "X = sm.add_constant(df['Advertisement'].values)"
   ]
  },
  {
   "cell_type": "code",
   "execution_count": 172,
   "metadata": {},
   "outputs": [],
   "source": [
    " #X"
   ]
  },
  {
   "cell_type": "code",
   "execution_count": 173,
   "metadata": {},
   "outputs": [],
   "source": [
    "y = df['Sales'].values"
   ]
  },
  {
   "cell_type": "code",
   "execution_count": 174,
   "metadata": {},
   "outputs": [],
   "source": [
    "# y"
   ]
  },
  {
   "cell_type": "markdown",
   "metadata": {},
   "source": [
    "#### Import from Sklearn, train test split"
   ]
  },
  {
   "cell_type": "code",
   "execution_count": 29,
   "metadata": {},
   "outputs": [],
   "source": [
    "# train_test_split() function from sklearn.model_selection module provides the ability to split\n",
    "# the dataset randomly into training and validation datasets\n",
    "\n",
    "from sklearn.model_selection import train_test_split"
   ]
  },
  {
   "cell_type": "code",
   "execution_count": 30,
   "metadata": {},
   "outputs": [],
   "source": [
    "# training data > model learning (fit)\n",
    "# testing data > model evaluation/perf.metrics\n",
    "\n",
    "# Source: X and y data\n",
    "\n",
    "# training data > X and y > train_X and train_y [ model will learn from this..]\n",
    "# train_X, train_y are subsets of X and y respectively.\n",
    "\n",
    "# testing data > X and y > test_X and test_y [model will predict using test_X and perf. evaluation\n",
    "# will happen against test_y]\n",
    "\n",
    "# random_state is just a seed value for repeatability of results. \n",
    "\n",
    "train_X, test_X, train_y, test_y = train_test_split(X, y, train_size = 0.8, random_state = 101) "
   ]
  },
  {
   "cell_type": "code",
   "execution_count": 31,
   "metadata": {},
   "outputs": [],
   "source": [
    "# model learns from training data alone\n",
    "# OLS method takes in training y and training X data as parameters\n",
    "\n",
    "model = sm.OLS(train_y, train_X).fit()"
   ]
  },
  {
   "cell_type": "code",
   "execution_count": 32,
   "metadata": {},
   "outputs": [
    {
     "data": {
      "text/plain": [
       "array([26.21637012,  3.64022056])"
      ]
     },
     "execution_count": 32,
     "metadata": {},
     "output_type": "execute_result"
    }
   ],
   "source": [
    "# params gives you B0 and B1\n",
    "model.params"
   ]
  },
  {
   "cell_type": "code",
   "execution_count": 179,
   "metadata": {},
   "outputs": [
    {
     "data": {
      "text/html": [
       "<table class=\"simpletable\">\n",
       "<caption>OLS Regression Results</caption>\n",
       "<tr>\n",
       "  <th>Dep. Variable:</th>            <td>y</td>        <th>  R-squared:         </th> <td>   0.190</td>\n",
       "</tr>\n",
       "<tr>\n",
       "  <th>Model:</th>                   <td>OLS</td>       <th>  Adj. R-squared:    </th> <td>   0.169</td>\n",
       "</tr>\n",
       "<tr>\n",
       "  <th>Method:</th>             <td>Least Squares</td>  <th>  F-statistic:       </th> <td>   8.925</td>\n",
       "</tr>\n",
       "<tr>\n",
       "  <th>Date:</th>             <td>Mon, 11 Jul 2022</td> <th>  Prob (F-statistic):</th>  <td>0.00491</td>\n",
       "</tr>\n",
       "<tr>\n",
       "  <th>Time:</th>                 <td>14:44:13</td>     <th>  Log-Likelihood:    </th> <td> -228.52</td>\n",
       "</tr>\n",
       "<tr>\n",
       "  <th>No. Observations:</th>      <td>    40</td>      <th>  AIC:               </th> <td>   461.0</td>\n",
       "</tr>\n",
       "<tr>\n",
       "  <th>Df Residuals:</th>          <td>    38</td>      <th>  BIC:               </th> <td>   464.4</td>\n",
       "</tr>\n",
       "<tr>\n",
       "  <th>Df Model:</th>              <td>     1</td>      <th>                     </th>     <td> </td>   \n",
       "</tr>\n",
       "<tr>\n",
       "  <th>Covariance Type:</th>      <td>nonrobust</td>    <th>                     </th>     <td> </td>   \n",
       "</tr>\n",
       "</table>\n",
       "<table class=\"simpletable\">\n",
       "<tr>\n",
       "    <td></td>       <th>coef</th>     <th>std err</th>      <th>t</th>      <th>P>|t|</th>  <th>[0.025</th>    <th>0.975]</th>  \n",
       "</tr>\n",
       "<tr>\n",
       "  <th>const</th> <td>   26.2164</td> <td>   79.018</td> <td>    0.332</td> <td> 0.742</td> <td> -133.747</td> <td>  186.180</td>\n",
       "</tr>\n",
       "<tr>\n",
       "  <th>x1</th>    <td>    3.6402</td> <td>    1.219</td> <td>    2.987</td> <td> 0.005</td> <td>    1.173</td> <td>    6.107</td>\n",
       "</tr>\n",
       "</table>\n",
       "<table class=\"simpletable\">\n",
       "<tr>\n",
       "  <th>Omnibus:</th>       <td> 2.389</td> <th>  Durbin-Watson:     </th> <td>   1.795</td>\n",
       "</tr>\n",
       "<tr>\n",
       "  <th>Prob(Omnibus):</th> <td> 0.303</td> <th>  Jarque-Bera (JB):  </th> <td>   1.681</td>\n",
       "</tr>\n",
       "<tr>\n",
       "  <th>Skew:</th>          <td> 0.296</td> <th>  Prob(JB):          </th> <td>   0.432</td>\n",
       "</tr>\n",
       "<tr>\n",
       "  <th>Kurtosis:</th>      <td> 2.189</td> <th>  Cond. No.          </th> <td>    431.</td>\n",
       "</tr>\n",
       "</table><br/><br/>Warnings:<br/>[1] Standard Errors assume that the covariance matrix of the errors is correctly specified."
      ],
      "text/plain": [
       "<class 'statsmodels.iolib.summary.Summary'>\n",
       "\"\"\"\n",
       "                            OLS Regression Results                            \n",
       "==============================================================================\n",
       "Dep. Variable:                      y   R-squared:                       0.190\n",
       "Model:                            OLS   Adj. R-squared:                  0.169\n",
       "Method:                 Least Squares   F-statistic:                     8.925\n",
       "Date:                Mon, 11 Jul 2022   Prob (F-statistic):            0.00491\n",
       "Time:                        14:44:13   Log-Likelihood:                -228.52\n",
       "No. Observations:                  40   AIC:                             461.0\n",
       "Df Residuals:                      38   BIC:                             464.4\n",
       "Df Model:                           1                                         \n",
       "Covariance Type:            nonrobust                                         \n",
       "==============================================================================\n",
       "                 coef    std err          t      P>|t|      [0.025      0.975]\n",
       "------------------------------------------------------------------------------\n",
       "const         26.2164     79.018      0.332      0.742    -133.747     186.180\n",
       "x1             3.6402      1.219      2.987      0.005       1.173       6.107\n",
       "==============================================================================\n",
       "Omnibus:                        2.389   Durbin-Watson:                   1.795\n",
       "Prob(Omnibus):                  0.303   Jarque-Bera (JB):                1.681\n",
       "Skew:                           0.296   Prob(JB):                        0.432\n",
       "Kurtosis:                       2.189   Cond. No.                         431.\n",
       "==============================================================================\n",
       "\n",
       "Warnings:\n",
       "[1] Standard Errors assume that the covariance matrix of the errors is correctly specified.\n",
       "\"\"\""
      ]
     },
     "execution_count": 179,
     "metadata": {},
     "output_type": "execute_result"
    }
   ],
   "source": [
    "# summary gives a list of statistical information\n",
    "model.summary()"
   ]
  },
  {
   "cell_type": "code",
   "execution_count": 37,
   "metadata": {},
   "outputs": [
    {
     "data": {
      "text/plain": [
       "array([215.50783911, 273.75136802, 208.22739799, 226.42850078,\n",
       "       277.39158858, 304.07440527, 208.22739799, 273.75136802,\n",
       "       297.04877959, 277.39158858])"
      ]
     },
     "execution_count": 37,
     "metadata": {},
     "output_type": "execute_result"
    }
   ],
   "source": [
    "# Making prediction using test_X data\n",
    "\n",
    "pred_y = model.predict(test_X) \n",
    "pred_y"
   ]
  },
  {
   "cell_type": "markdown",
   "metadata": {},
   "source": [
    "#### Import Performance metrics - R squared and MSE"
   ]
  },
  {
   "cell_type": "code",
   "execution_count": 38,
   "metadata": {},
   "outputs": [],
   "source": [
    "# Evaluate the model using performance metrics from sklearn\n",
    "\n",
    "from sklearn.metrics import r2_score, mean_squared_error"
   ]
  },
  {
   "cell_type": "code",
   "execution_count": 39,
   "metadata": {},
   "outputs": [
    {
     "data": {
      "text/plain": [
       "-0.31688907822716117"
      ]
     },
     "execution_count": 39,
     "metadata": {},
     "output_type": "execute_result"
    }
   ],
   "source": [
    "r2_score(test_y, pred_y)"
   ]
  },
  {
   "cell_type": "code",
   "execution_count": 40,
   "metadata": {},
   "outputs": [
    {
     "data": {
      "text/plain": [
       "54.949212497745265"
      ]
     },
     "execution_count": 40,
     "metadata": {},
     "output_type": "execute_result"
    }
   ],
   "source": [
    "# RMSE \n",
    "\n",
    "np.sqrt(mean_squared_error(test_y, pred_y))"
   ]
  },
  {
   "cell_type": "markdown",
   "metadata": {},
   "source": [
    "### Predicting a single observation"
   ]
  },
  {
   "cell_type": "code",
   "execution_count": 142,
   "metadata": {},
   "outputs": [],
   "source": [
    "X_new = [1, 60]\n",
    "\n",
    "pred_y_new = model.predict(X_new) "
   ]
  },
  {
   "cell_type": "code",
   "execution_count": 143,
   "metadata": {},
   "outputs": [
    {
     "data": {
      "text/plain": [
       "array([244.62960356])"
      ]
     },
     "execution_count": 143,
     "metadata": {},
     "output_type": "execute_result"
    }
   ],
   "source": [
    "pred_y_new"
   ]
  },
  {
   "cell_type": "markdown",
   "metadata": {},
   "source": [
    "### Prediction Intervals"
   ]
  },
  {
   "cell_type": "code",
   "execution_count": 2,
   "metadata": {},
   "outputs": [],
   "source": [
    "from statsmodels.sandbox.regression.predstd import wls_prediction_std"
   ]
  },
  {
   "cell_type": "code",
   "execution_count": 147,
   "metadata": {},
   "outputs": [],
   "source": [
    "_, pred_y_low, pred_y_high = wls_prediction_std(model, X_new, alpha = 0.05)"
   ]
  },
  {
   "cell_type": "code",
   "execution_count": 148,
   "metadata": {},
   "outputs": [
    {
     "data": {
      "text/plain": [
       "(array([90.25770469]), array([399.00150244]))"
      ]
     },
     "execution_count": 148,
     "metadata": {},
     "output_type": "execute_result"
    }
   ],
   "source": [
    "pred_y_low, pred_y_high"
   ]
  },
  {
   "cell_type": "markdown",
   "metadata": {},
   "source": [
    "### Normal P-P Plot"
   ]
  },
  {
   "cell_type": "code",
   "execution_count": 149,
   "metadata": {},
   "outputs": [],
   "source": [
    "import matplotlib.pyplot as plt"
   ]
  },
  {
   "cell_type": "code",
   "execution_count": 150,
   "metadata": {},
   "outputs": [
    {
     "data": {
      "text/plain": [
       "array([ -61.79379415,  -84.58717743,  -38.75136802,  -55.82026982,\n",
       "        -50.03180914,    5.37039644,   97.89733776,  -49.23291193,\n",
       "         77.89419647, -135.55026524,  -47.41280165,   42.21171978,\n",
       "         66.22741891,  -15.50783911,   12.65083755,   52.45821999,\n",
       "        -11.37461813,   19.8464264 ,  -96.15136802,  -48.31225025,\n",
       "        -77.59269137,   56.48138437,  109.93127867,   97.37336773,\n",
       "        -16.98938301, -120.11114747,  161.52907309,   73.57149922,\n",
       "         18.08995532,  122.65083755,  -68.26982412,   90.12686752,\n",
       "        121.64532362,   -0.98938301,  -26.47092691,  -95.50783911,\n",
       "        -21.03180914,    4.79254375,  -64.62960356,  -44.62960356])"
      ]
     },
     "execution_count": 150,
     "metadata": {},
     "output_type": "execute_result"
    }
   ],
   "source": [
    "sales_residuals = model.resid\n",
    "sales_residuals"
   ]
  },
  {
   "cell_type": "code",
   "execution_count": 153,
   "metadata": {},
   "outputs": [
    {
     "data": {
      "text/plain": [
       "<Figure size 576x1152 with 0 Axes>"
      ]
     },
     "metadata": {},
     "output_type": "display_data"
    },
    {
     "data": {
      "image/png": "[encoded data removed]",
      "text/plain": [
       "<Figure size 432x288 with 1 Axes>"
      ]
     },
     "metadata": {
      "needs_background": "light"
     },
     "output_type": "display_data"
    }
   ],
   "source": [
    "probplot = sm.ProbPlot(sales_residuals)\n",
    "plt.figure(figsize = (8, 16))\n",
    "probplot.ppplot(line='45')\n",
    "plt.title('Normal P-P Plot of Regression Standardized Residuals')\n",
    "plt.show()"
   ]
  },
  {
   "cell_type": "markdown",
   "metadata": {},
   "source": [
    "### Test for Constant Variance"
   ]
  },
  {
   "cell_type": "code",
   "execution_count": 155,
   "metadata": {},
   "outputs": [],
   "source": [
    "def standardize(vals):\n",
    "    return (vals - vals.mean())/vals.std()"
   ]
  },
  {
   "cell_type": "code",
   "execution_count": 156,
   "metadata": {},
   "outputs": [
    {
     "data": {
      "text/plain": [
       "Text(0, 0.5, 'Standardized Residuals')"
      ]
     },
     "execution_count": 156,
     "metadata": {},
     "output_type": "execute_result"
    },
    {
     "data": {
      "image/png": "[encoded data removed]",
      "text/plain": [
       "<Figure size 432x288 with 1 Axes>"
      ]
     },
     "metadata": {
      "needs_background": "light"
     },
     "output_type": "display_data"
    }
   ],
   "source": [
    "plt.scatter(standardize(model.fittedvalues), standardize(sales_residuals))\n",
    "plt.title('Residuals vs Predicted Values')\n",
    "plt.xlabel('Standardized Predicted Values')\n",
    "plt.ylabel('Standardized Residuals')"
   ]
  },
  {
   "cell_type": "code",
   "execution_count": null,
   "metadata": {},
   "outputs": [],
   "source": []
  },
  {
   "cell_type": "markdown",
   "metadata": {},
   "source": [
    "### Outlier Analysis"
   ]
  },
  {
   "cell_type": "markdown",
   "metadata": {},
   "source": [
    "#### Z score"
   ]
  },
  {
   "cell_type": "code",
   "execution_count": 157,
   "metadata": {},
   "outputs": [],
   "source": [
    "from scipy.stats import zscore"
   ]
  },
  {
   "cell_type": "code",
   "execution_count": 158,
   "metadata": {},
   "outputs": [],
   "source": [
    "df['Z_score_sales'] = zscore(df['Sales'])"
   ]
  },
  {
   "cell_type": "code",
   "execution_count": 159,
   "metadata": {},
   "outputs": [
    {
     "data": {
      "text/html": [
       "<div>\n",
       "<style scoped>\n",
       "    .dataframe tbody tr th:only-of-type {\n",
       "        vertical-align: middle;\n",
       "    }\n",
       "\n",
       "    .dataframe tbody tr th {\n",
       "        vertical-align: top;\n",
       "    }\n",
       "\n",
       "    .dataframe thead th {\n",
       "        text-align: right;\n",
       "    }\n",
       "</style>\n",
       "<table border=\"1\" class=\"dataframe\">\n",
       "  <thead>\n",
       "    <tr style=\"text-align: right;\">\n",
       "      <th></th>\n",
       "      <th>S.I</th>\n",
       "      <th>Advertisement</th>\n",
       "      <th>Sales</th>\n",
       "      <th>Z_score_sales</th>\n",
       "    </tr>\n",
       "  </thead>\n",
       "  <tbody>\n",
       "    <tr>\n",
       "      <th>0</th>\n",
       "      <td>1</td>\n",
       "      <td>62.00</td>\n",
       "      <td>270.0</td>\n",
       "      <td>0.155481</td>\n",
       "    </tr>\n",
       "    <tr>\n",
       "      <th>1</th>\n",
       "      <td>2</td>\n",
       "      <td>76.33</td>\n",
       "      <td>200.0</td>\n",
       "      <td>-0.766241</td>\n",
       "    </tr>\n",
       "    <tr>\n",
       "      <th>2</th>\n",
       "      <td>3</td>\n",
       "      <td>72.00</td>\n",
       "      <td>240.0</td>\n",
       "      <td>-0.239543</td>\n",
       "    </tr>\n",
       "    <tr>\n",
       "      <th>3</th>\n",
       "      <td>4</td>\n",
       "      <td>60.00</td>\n",
       "      <td>250.0</td>\n",
       "      <td>-0.107868</td>\n",
       "    </tr>\n",
       "    <tr>\n",
       "      <th>4</th>\n",
       "      <td>5</td>\n",
       "      <td>61.00</td>\n",
       "      <td>180.0</td>\n",
       "      <td>-1.029590</td>\n",
       "    </tr>\n",
       "  </tbody>\n",
       "</table>\n",
       "</div>"
      ],
      "text/plain": [
       "   S.I  Advertisement  Sales  Z_score_sales\n",
       "0    1          62.00  270.0       0.155481\n",
       "1    2          76.33  200.0      -0.766241\n",
       "2    3          72.00  240.0      -0.239543\n",
       "3    4          60.00  250.0      -0.107868\n",
       "4    5          61.00  180.0      -1.029590"
      ]
     },
     "execution_count": 159,
     "metadata": {},
     "output_type": "execute_result"
    }
   ],
   "source": [
    "df.head()"
   ]
  },
  {
   "cell_type": "code",
   "execution_count": 160,
   "metadata": {},
   "outputs": [
    {
     "data": {
      "text/html": [
       "<div>\n",
       "<style scoped>\n",
       "    .dataframe tbody tr th:only-of-type {\n",
       "        vertical-align: middle;\n",
       "    }\n",
       "\n",
       "    .dataframe tbody tr th {\n",
       "        vertical-align: top;\n",
       "    }\n",
       "\n",
       "    .dataframe thead th {\n",
       "        text-align: right;\n",
       "    }\n",
       "</style>\n",
       "<table border=\"1\" class=\"dataframe\">\n",
       "  <thead>\n",
       "    <tr style=\"text-align: right;\">\n",
       "      <th></th>\n",
       "      <th>S.I</th>\n",
       "      <th>Advertisement</th>\n",
       "      <th>Sales</th>\n",
       "      <th>Z_score_sales</th>\n",
       "    </tr>\n",
       "  </thead>\n",
       "  <tbody>\n",
       "  </tbody>\n",
       "</table>\n",
       "</div>"
      ],
      "text/plain": [
       "Empty DataFrame\n",
       "Columns: [S.I, Advertisement, Sales, Z_score_sales]\n",
       "Index: []"
      ]
     },
     "execution_count": 160,
     "metadata": {},
     "output_type": "execute_result"
    }
   ],
   "source": [
    "df[(df['Z_score_sales'] > 3.0) | (df['Z_score_sales'] < -3.0)]"
   ]
  },
  {
   "cell_type": "code",
   "execution_count": null,
   "metadata": {},
   "outputs": [],
   "source": []
  },
  {
   "cell_type": "markdown",
   "metadata": {},
   "source": [
    "### Cook's Distance"
   ]
  },
  {
   "cell_type": "code",
   "execution_count": 180,
   "metadata": {},
   "outputs": [
    {
     "data": {
      "text/plain": [
       "Text(0, 0.5, 'Cooks Distance')"
      ]
     },
     "execution_count": 180,
     "metadata": {},
     "output_type": "execute_result"
    },
    {
     "data": {
      "image/png": "[encoded data removed]",
      "text/plain": [
       "<Figure size 432x288 with 1 Axes>"
      ]
     },
     "metadata": {
      "needs_background": "light"
     },
     "output_type": "display_data"
    }
   ],
   "source": [
    "sales_influence = model.get_influence()\n",
    "\n",
    "(c, p) = sales_influence.cooks_distance\n",
    "\n",
    "# c is cook's distance, p is corresponding p-values\n",
    "\n",
    "plt.stem(np.arange(len(c)), np.round(c,3), markerfmt='C0o')\n",
    "\n",
    "plt.title('Cooks distance for all observations in Sales data set')\n",
    "\n",
    "plt.xlabel('Row index')\n",
    "\n",
    "plt.ylabel('Cooks Distance')\n",
    "\n",
    "# look for > 1"
   ]
  },
  {
   "cell_type": "markdown",
   "metadata": {},
   "source": [
    "### Leverage Plots"
   ]
  },
  {
   "cell_type": "code",
   "execution_count": 181,
   "metadata": {},
   "outputs": [],
   "source": [
    "from statsmodels.graphics.regressionplots import influence_plot"
   ]
  },
  {
   "cell_type": "code",
   "execution_count": 182,
   "metadata": {},
   "outputs": [
    {
     "data": {
      "image/png": "[encoded data removed]",
      "text/plain": [
       "<Figure size 576x432 with 1 Axes>"
      ]
     },
     "metadata": {
      "needs_background": "light"
     },
     "output_type": "display_data"
    }
   ],
   "source": [
    "fig, ax = plt.subplots(figsize=(8,6))\n",
    "influence_plot(model, ax = ax )\n",
    "plt.title('Leverage Value Vs Residuals')\n",
    "plt.show()"
   ]
  },
  {
   "cell_type": "code",
   "execution_count": 184,
   "metadata": {},
   "outputs": [],
   "source": [
    "from statsmodels.stats.outliers_influence import OLSInfluence as olsi"
   ]
  },
  {
   "cell_type": "markdown",
   "metadata": {},
   "source": [
    "In statistics, a studentized residual is the quotient resulting from the division of a residual by \n",
    "an estimate of its standard deviation. \n",
    "It is a form of a Student's t-statistic, with the estimate of error varying between points."
   ]
  },
  {
   "cell_type": "code",
   "execution_count": 185,
   "metadata": {},
   "outputs": [],
   "source": [
    "studentized_residuals = olsi(model).resid_studentized"
   ]
  },
  {
   "cell_type": "markdown",
   "metadata": {},
   "source": [
    "hat matrix, also known as the influence matrix, since it describes the\n",
    "influence of each observation on the predicted values of the response variable. \n",
    "Hat matrix plays a crucial\n",
    "role in identifying the outliers and influential observations in the sample.\n"
   ]
  },
  {
   "cell_type": "code",
   "execution_count": 186,
   "metadata": {},
   "outputs": [],
   "source": [
    "leverage_pts = olsi(model).hat_matrix_diag"
   ]
  },
  {
   "cell_type": "code",
   "execution_count": 187,
   "metadata": {},
   "outputs": [],
   "source": [
    "high_resid = [i for i in studentized_residuals if abs(i) > 3] "
   ]
  },
  {
   "cell_type": "code",
   "execution_count": 188,
   "metadata": {},
   "outputs": [
    {
     "data": {
      "text/plain": [
       "[]"
      ]
     },
     "execution_count": 188,
     "metadata": {},
     "output_type": "execute_result"
    }
   ],
   "source": [
    "high_resid"
   ]
  },
  {
   "cell_type": "code",
   "execution_count": 189,
   "metadata": {},
   "outputs": [
    {
     "data": {
      "text/plain": [
       "array([0.08328084, 0.08501176, 0.02897811, 0.03620766, 0.03411988,\n",
       "       0.02943969, 0.02512524, 0.05617436, 0.21351021, 0.02532372,\n",
       "       0.05337748, 0.05186598, 0.04817801, 0.06354714, 0.03481225,\n",
       "       0.02787947, 0.02506318, 0.07571565, 0.02897811, 0.04136452,\n",
       "       0.05071203, 0.07673944, 0.04228768, 0.11682312, 0.03186311,\n",
       "       0.0271958 , 0.0259392 , 0.04681397, 0.02616999, 0.03481225,\n",
       "       0.02754198, 0.0621624 , 0.11879879, 0.03186311, 0.0259392 ,\n",
       "       0.06354714, 0.03411988, 0.02983824, 0.02943969, 0.02943969])"
      ]
     },
     "execution_count": 189,
     "metadata": {},
     "output_type": "execute_result"
    }
   ],
   "source": [
    "leverage_pts"
   ]
  },
  {
   "cell_type": "code",
   "execution_count": 190,
   "metadata": {},
   "outputs": [],
   "source": [
    "high_lev = [i for i in leverage_pts if abs(i) > (3/len(X))] "
   ]
  },
  {
   "cell_type": "code",
   "execution_count": 196,
   "metadata": {},
   "outputs": [
    {
     "data": {
      "text/plain": [
       "[0.08328084078833486,\n",
       " 0.08501176323129325,\n",
       " 0.2135102053146799,\n",
       " 0.06354714207589304,\n",
       " 0.07571564513616164,\n",
       " 0.07673943647522491,\n",
       " 0.1168231211473163,\n",
       " 0.06216240412152638,\n",
       " 0.11879879102939972,\n",
       " 0.06354714207589304]"
      ]
     },
     "execution_count": 196,
     "metadata": {},
     "output_type": "execute_result"
    }
   ],
   "source": [
    "high_lev"
   ]
  },
  {
   "cell_type": "code",
   "execution_count": 200,
   "metadata": {},
   "outputs": [],
   "source": [
    "pos = [np.where(leverage_pts == x)[0][0] for x in high_lev]"
   ]
  },
  {
   "cell_type": "code",
   "execution_count": 193,
   "metadata": {},
   "outputs": [
    {
     "data": {
      "text/plain": [
       "[0, 1, 8, 13, 17, 21, 23, 31, 32, 13]"
      ]
     },
     "execution_count": 193,
     "metadata": {},
     "output_type": "execute_result"
    }
   ],
   "source": [
    "pos"
   ]
  },
  {
   "cell_type": "code",
   "execution_count": 201,
   "metadata": {},
   "outputs": [
    {
     "name": "stdout",
     "output_type": "stream",
     "text": [
      "S.I                1.0\n",
      "Advertisement     62.0\n",
      "Sales            270.0\n",
      "Name: 0, dtype: float64\n",
      "S.I                2.00\n",
      "Advertisement     76.33\n",
      "Sales            200.00\n",
      "Name: 1, dtype: float64\n",
      "S.I                9.0\n",
      "Advertisement     82.8\n",
      "Sales            425.0\n",
      "Name: 8, dtype: float64\n",
      "S.I               14.0\n",
      "Advertisement     83.0\n",
      "Sales            450.0\n",
      "Name: 13, dtype: float64\n",
      "S.I               18.0\n",
      "Advertisement     68.4\n",
      "Sales            280.0\n",
      "Name: 17, dtype: float64\n",
      "S.I               22.0\n",
      "Advertisement     50.0\n",
      "Sales            260.0\n",
      "Name: 21, dtype: float64\n",
      "S.I               24.0\n",
      "Advertisement     52.0\n",
      "Sales            120.0\n",
      "Name: 23, dtype: float64\n",
      "S.I               32.0\n",
      "Advertisement     60.0\n",
      "Sales            200.0\n",
      "Name: 31, dtype: float64\n",
      "S.I               33.0\n",
      "Advertisement     55.0\n",
      "Sales            300.0\n",
      "Name: 32, dtype: float64\n",
      "S.I               14.0\n",
      "Advertisement     83.0\n",
      "Sales            450.0\n",
      "Name: 13, dtype: float64\n"
     ]
    }
   ],
   "source": [
    "for n in pos:\n",
    "    print(df.iloc[n])"
   ]
  },
  {
   "cell_type": "code",
   "execution_count": null,
   "metadata": {},
   "outputs": [],
   "source": []
  }
 ],
 "metadata": {
  "kernelspec": {
   "display_name": "Python 3 (ipykernel)",
   "language": "python",
   "name": "python3"
  },
  "language_info": {
   "codemirror_mode": {
    "name": "ipython",
    "version": 3
   },
   "file_extension": ".py",
   "mimetype": "text/x-python",
   "name": "python",
   "nbconvert_exporter": "python",
   "pygments_lexer": "ipython3",
   "version": "3.11.5"
  }
 },
 "nbformat": 4,
 "nbformat_minor": 2
}
