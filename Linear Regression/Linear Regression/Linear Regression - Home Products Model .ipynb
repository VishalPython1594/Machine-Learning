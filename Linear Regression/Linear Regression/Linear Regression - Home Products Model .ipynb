{
 "cells": [
  {
   "cell_type": "code",
   "execution_count": 1,
   "id": "56ee67d4",
   "metadata": {},
   "outputs": [],
   "source": [
    "# Import the necessary lib.\n",
    "# Load the data into DF\n",
    "# Identify the X (feature) and Y (outcome/response) variables in the DF \n",
    "# Splitting the data into training and validation data\n",
    "# Model fitting\n",
    "# Model Diagnostics ###\n",
    "# Model Performance"
   ]
  },
  {
   "cell_type": "code",
   "execution_count": 2,
   "id": "e73cd837",
   "metadata": {},
   "outputs": [],
   "source": [
    "import pandas as pd\n",
    "import numpy as np\n",
    "import matplotlib.pyplot as plt\n",
    "import seaborn as sns"
   ]
  },
  {
   "cell_type": "code",
   "execution_count": 3,
   "id": "72b19579",
   "metadata": {},
   "outputs": [],
   "source": [
    "df = pd.read_csv('HomeProducts_raw_data.csv')"
   ]
  },
  {
   "cell_type": "code",
   "execution_count": 4,
   "id": "5367df99",
   "metadata": {},
   "outputs": [
    {
     "data": {
      "text/html": [
       "<div>\n",
       "<style scoped>\n",
       "    .dataframe tbody tr th:only-of-type {\n",
       "        vertical-align: middle;\n",
       "    }\n",
       "\n",
       "    .dataframe tbody tr th {\n",
       "        vertical-align: top;\n",
       "    }\n",
       "\n",
       "    .dataframe thead th {\n",
       "        text-align: right;\n",
       "    }\n",
       "</style>\n",
       "<table border=\"1\" class=\"dataframe\">\n",
       "  <thead>\n",
       "    <tr style=\"text-align: right;\">\n",
       "      <th></th>\n",
       "      <th>S.I</th>\n",
       "      <th>Advertisement</th>\n",
       "      <th>Sales</th>\n",
       "    </tr>\n",
       "  </thead>\n",
       "  <tbody>\n",
       "    <tr>\n",
       "      <th>0</th>\n",
       "      <td>1</td>\n",
       "      <td>62.00</td>\n",
       "      <td>270.0</td>\n",
       "    </tr>\n",
       "    <tr>\n",
       "      <th>1</th>\n",
       "      <td>2</td>\n",
       "      <td>76.33</td>\n",
       "      <td>200.0</td>\n",
       "    </tr>\n",
       "    <tr>\n",
       "      <th>2</th>\n",
       "      <td>3</td>\n",
       "      <td>72.00</td>\n",
       "      <td>240.0</td>\n",
       "    </tr>\n",
       "    <tr>\n",
       "      <th>3</th>\n",
       "      <td>4</td>\n",
       "      <td>60.00</td>\n",
       "      <td>250.0</td>\n",
       "    </tr>\n",
       "    <tr>\n",
       "      <th>4</th>\n",
       "      <td>5</td>\n",
       "      <td>61.00</td>\n",
       "      <td>180.0</td>\n",
       "    </tr>\n",
       "    <tr>\n",
       "      <th>5</th>\n",
       "      <td>6</td>\n",
       "      <td>55.00</td>\n",
       "      <td>300.0</td>\n",
       "    </tr>\n",
       "    <tr>\n",
       "      <th>6</th>\n",
       "      <td>7</td>\n",
       "      <td>70.00</td>\n",
       "      <td>260.0</td>\n",
       "    </tr>\n",
       "    <tr>\n",
       "      <th>7</th>\n",
       "      <td>8</td>\n",
       "      <td>68.00</td>\n",
       "      <td>235.0</td>\n",
       "    </tr>\n",
       "    <tr>\n",
       "      <th>8</th>\n",
       "      <td>9</td>\n",
       "      <td>82.80</td>\n",
       "      <td>425.0</td>\n",
       "    </tr>\n",
       "    <tr>\n",
       "      <th>9</th>\n",
       "      <td>10</td>\n",
       "      <td>59.00</td>\n",
       "      <td>240.0</td>\n",
       "    </tr>\n",
       "    <tr>\n",
       "      <th>10</th>\n",
       "      <td>11</td>\n",
       "      <td>58.00</td>\n",
       "      <td>250.0</td>\n",
       "    </tr>\n",
       "    <tr>\n",
       "      <th>11</th>\n",
       "      <td>12</td>\n",
       "      <td>60.00</td>\n",
       "      <td>180.0</td>\n",
       "    </tr>\n",
       "    <tr>\n",
       "      <th>12</th>\n",
       "      <td>13</td>\n",
       "      <td>66.00</td>\n",
       "      <td>428.0</td>\n",
       "    </tr>\n",
       "    <tr>\n",
       "      <th>13</th>\n",
       "      <td>14</td>\n",
       "      <td>83.00</td>\n",
       "      <td>450.0</td>\n",
       "    </tr>\n",
       "    <tr>\n",
       "      <th>14</th>\n",
       "      <td>15</td>\n",
       "      <td>68.00</td>\n",
       "      <td>300.0</td>\n",
       "    </tr>\n",
       "    <tr>\n",
       "      <th>15</th>\n",
       "      <td>16</td>\n",
       "      <td>37.33</td>\n",
       "      <td>240.0</td>\n",
       "    </tr>\n",
       "    <tr>\n",
       "      <th>16</th>\n",
       "      <td>17</td>\n",
       "      <td>79.00</td>\n",
       "      <td>252.0</td>\n",
       "    </tr>\n",
       "    <tr>\n",
       "      <th>17</th>\n",
       "      <td>18</td>\n",
       "      <td>68.40</td>\n",
       "      <td>280.0</td>\n",
       "    </tr>\n",
       "    <tr>\n",
       "      <th>18</th>\n",
       "      <td>19</td>\n",
       "      <td>70.00</td>\n",
       "      <td>231.0</td>\n",
       "    </tr>\n",
       "    <tr>\n",
       "      <th>19</th>\n",
       "      <td>20</td>\n",
       "      <td>59.00</td>\n",
       "      <td>224.0</td>\n",
       "    </tr>\n",
       "    <tr>\n",
       "      <th>20</th>\n",
       "      <td>21</td>\n",
       "      <td>63.00</td>\n",
       "      <td>120.0</td>\n",
       "    </tr>\n",
       "    <tr>\n",
       "      <th>21</th>\n",
       "      <td>22</td>\n",
       "      <td>50.00</td>\n",
       "      <td>260.0</td>\n",
       "    </tr>\n",
       "    <tr>\n",
       "      <th>22</th>\n",
       "      <td>23</td>\n",
       "      <td>69.00</td>\n",
       "      <td>300.0</td>\n",
       "    </tr>\n",
       "    <tr>\n",
       "      <th>23</th>\n",
       "      <td>24</td>\n",
       "      <td>52.00</td>\n",
       "      <td>120.0</td>\n",
       "    </tr>\n",
       "    <tr>\n",
       "      <th>24</th>\n",
       "      <td>25</td>\n",
       "      <td>49.00</td>\n",
       "      <td>120.0</td>\n",
       "    </tr>\n",
       "    <tr>\n",
       "      <th>25</th>\n",
       "      <td>26</td>\n",
       "      <td>64.60</td>\n",
       "      <td>250.0</td>\n",
       "    </tr>\n",
       "    <tr>\n",
       "      <th>26</th>\n",
       "      <td>27</td>\n",
       "      <td>50.00</td>\n",
       "      <td>180.0</td>\n",
       "    </tr>\n",
       "    <tr>\n",
       "      <th>27</th>\n",
       "      <td>28</td>\n",
       "      <td>74.00</td>\n",
       "      <td>218.0</td>\n",
       "    </tr>\n",
       "    <tr>\n",
       "      <th>28</th>\n",
       "      <td>29</td>\n",
       "      <td>58.00</td>\n",
       "      <td>360.0</td>\n",
       "    </tr>\n",
       "    <tr>\n",
       "      <th>29</th>\n",
       "      <td>30</td>\n",
       "      <td>67.00</td>\n",
       "      <td>150.0</td>\n",
       "    </tr>\n",
       "    <tr>\n",
       "      <th>30</th>\n",
       "      <td>31</td>\n",
       "      <td>75.00</td>\n",
       "      <td>250.0</td>\n",
       "    </tr>\n",
       "    <tr>\n",
       "      <th>31</th>\n",
       "      <td>32</td>\n",
       "      <td>60.00</td>\n",
       "      <td>200.0</td>\n",
       "    </tr>\n",
       "    <tr>\n",
       "      <th>32</th>\n",
       "      <td>33</td>\n",
       "      <td>55.00</td>\n",
       "      <td>300.0</td>\n",
       "    </tr>\n",
       "    <tr>\n",
       "      <th>33</th>\n",
       "      <td>34</td>\n",
       "      <td>78.00</td>\n",
       "      <td>330.0</td>\n",
       "    </tr>\n",
       "    <tr>\n",
       "      <th>34</th>\n",
       "      <td>35</td>\n",
       "      <td>50.08</td>\n",
       "      <td>265.0</td>\n",
       "    </tr>\n",
       "    <tr>\n",
       "      <th>35</th>\n",
       "      <td>36</td>\n",
       "      <td>56.00</td>\n",
       "      <td>340.0</td>\n",
       "    </tr>\n",
       "    <tr>\n",
       "      <th>36</th>\n",
       "      <td>37</td>\n",
       "      <td>68.00</td>\n",
       "      <td>177.6</td>\n",
       "    </tr>\n",
       "    <tr>\n",
       "      <th>37</th>\n",
       "      <td>38</td>\n",
       "      <td>52.00</td>\n",
       "      <td>236.0</td>\n",
       "    </tr>\n",
       "    <tr>\n",
       "      <th>38</th>\n",
       "      <td>39</td>\n",
       "      <td>54.00</td>\n",
       "      <td>265.0</td>\n",
       "    </tr>\n",
       "    <tr>\n",
       "      <th>39</th>\n",
       "      <td>40</td>\n",
       "      <td>52.00</td>\n",
       "      <td>200.0</td>\n",
       "    </tr>\n",
       "    <tr>\n",
       "      <th>40</th>\n",
       "      <td>41</td>\n",
       "      <td>76.00</td>\n",
       "      <td>393.0</td>\n",
       "    </tr>\n",
       "    <tr>\n",
       "      <th>41</th>\n",
       "      <td>42</td>\n",
       "      <td>64.80</td>\n",
       "      <td>360.0</td>\n",
       "    </tr>\n",
       "    <tr>\n",
       "      <th>42</th>\n",
       "      <td>43</td>\n",
       "      <td>74.40</td>\n",
       "      <td>300.0</td>\n",
       "    </tr>\n",
       "    <tr>\n",
       "      <th>43</th>\n",
       "      <td>44</td>\n",
       "      <td>74.50</td>\n",
       "      <td>250.0</td>\n",
       "    </tr>\n",
       "    <tr>\n",
       "      <th>44</th>\n",
       "      <td>45</td>\n",
       "      <td>73.50</td>\n",
       "      <td>360.0</td>\n",
       "    </tr>\n",
       "    <tr>\n",
       "      <th>45</th>\n",
       "      <td>46</td>\n",
       "      <td>57.58</td>\n",
       "      <td>180.0</td>\n",
       "    </tr>\n",
       "    <tr>\n",
       "      <th>46</th>\n",
       "      <td>47</td>\n",
       "      <td>68.00</td>\n",
       "      <td>180.0</td>\n",
       "    </tr>\n",
       "    <tr>\n",
       "      <th>47</th>\n",
       "      <td>48</td>\n",
       "      <td>69.00</td>\n",
       "      <td>270.0</td>\n",
       "    </tr>\n",
       "    <tr>\n",
       "      <th>48</th>\n",
       "      <td>49</td>\n",
       "      <td>66.00</td>\n",
       "      <td>240.0</td>\n",
       "    </tr>\n",
       "    <tr>\n",
       "      <th>49</th>\n",
       "      <td>50</td>\n",
       "      <td>60.80</td>\n",
       "      <td>300.0</td>\n",
       "    </tr>\n",
       "  </tbody>\n",
       "</table>\n",
       "</div>"
      ],
      "text/plain": [
       "    S.I  Advertisement  Sales\n",
       "0     1          62.00  270.0\n",
       "1     2          76.33  200.0\n",
       "2     3          72.00  240.0\n",
       "3     4          60.00  250.0\n",
       "4     5          61.00  180.0\n",
       "5     6          55.00  300.0\n",
       "6     7          70.00  260.0\n",
       "7     8          68.00  235.0\n",
       "8     9          82.80  425.0\n",
       "9    10          59.00  240.0\n",
       "10   11          58.00  250.0\n",
       "11   12          60.00  180.0\n",
       "12   13          66.00  428.0\n",
       "13   14          83.00  450.0\n",
       "14   15          68.00  300.0\n",
       "15   16          37.33  240.0\n",
       "16   17          79.00  252.0\n",
       "17   18          68.40  280.0\n",
       "18   19          70.00  231.0\n",
       "19   20          59.00  224.0\n",
       "20   21          63.00  120.0\n",
       "21   22          50.00  260.0\n",
       "22   23          69.00  300.0\n",
       "23   24          52.00  120.0\n",
       "24   25          49.00  120.0\n",
       "25   26          64.60  250.0\n",
       "26   27          50.00  180.0\n",
       "27   28          74.00  218.0\n",
       "28   29          58.00  360.0\n",
       "29   30          67.00  150.0\n",
       "30   31          75.00  250.0\n",
       "31   32          60.00  200.0\n",
       "32   33          55.00  300.0\n",
       "33   34          78.00  330.0\n",
       "34   35          50.08  265.0\n",
       "35   36          56.00  340.0\n",
       "36   37          68.00  177.6\n",
       "37   38          52.00  236.0\n",
       "38   39          54.00  265.0\n",
       "39   40          52.00  200.0\n",
       "40   41          76.00  393.0\n",
       "41   42          64.80  360.0\n",
       "42   43          74.40  300.0\n",
       "43   44          74.50  250.0\n",
       "44   45          73.50  360.0\n",
       "45   46          57.58  180.0\n",
       "46   47          68.00  180.0\n",
       "47   48          69.00  270.0\n",
       "48   49          66.00  240.0\n",
       "49   50          60.80  300.0"
      ]
     },
     "execution_count": 4,
     "metadata": {},
     "output_type": "execute_result"
    }
   ],
   "source": [
    "df"
   ]
  },
  {
   "cell_type": "markdown",
   "id": "9da05ca2",
   "metadata": {},
   "source": [
    "### Statsmodel is a library that has a host of statistical learning models. \n",
    "### OLS() model : resides in the Statsmodel"
   ]
  },
  {
   "cell_type": "code",
   "execution_count": 8,
   "id": "12498712",
   "metadata": {},
   "outputs": [],
   "source": [
    "x = sm.add_constant(df.Advertisement.values)\n",
    "y = df.Sales.values"
   ]
  },
  {
   "cell_type": "markdown",
   "id": "b6c42c59",
   "metadata": {},
   "source": [
    "#### # To estimate regr coeff (B0), a constant term of 1 needs to be added as a separate column. This value \n",
    "#### temp. remains the same for all rows. Eventually, this will help the model arrive at B0(intercept)"
   ]
  },
  {
   "cell_type": "code",
   "execution_count": 7,
   "id": "22b81951",
   "metadata": {},
   "outputs": [],
   "source": [
    "import statsmodels.api as sm"
   ]
  },
  {
   "cell_type": "markdown",
   "id": "6055e5ce",
   "metadata": {},
   "source": [
    "#### Fitting the Model using OLS method; pass y and X as parameters\n",
    "#### OLS is Ordinary Least Squares"
   ]
  },
  {
   "cell_type": "code",
   "execution_count": 10,
   "id": "4e24405e",
   "metadata": {},
   "outputs": [],
   "source": [
    "model = sm.OLS(y,x).fit()"
   ]
  },
  {
   "cell_type": "markdown",
   "id": "b1796faa",
   "metadata": {},
   "source": [
    "#### The fit() method on OLS estimates the reg coeff. and returns the model information to the 'model' \n",
    "#### variable. The model information contains the reg coeff., accuracy measures and residual values. "
   ]
  },
  {
   "cell_type": "code",
   "execution_count": 12,
   "id": "b2aa79aa",
   "metadata": {},
   "outputs": [],
   "source": [
    "##  Getting the reg coefficients\n",
    "\n",
    "# constant, slope"
   ]
  },
  {
   "cell_type": "code",
   "execution_count": 11,
   "id": "9c32756e",
   "metadata": {},
   "outputs": [
    {
     "data": {
      "text/plain": [
       "array([61.55535534,  3.07617744])"
      ]
     },
     "execution_count": 11,
     "metadata": {},
     "output_type": "execute_result"
    }
   ],
   "source": [
    "model.params"
   ]
  },
  {
   "cell_type": "code",
   "execution_count": 13,
   "id": "7ef6dd07",
   "metadata": {},
   "outputs": [],
   "source": [
    "# Information required for Diagnostics"
   ]
  },
  {
   "cell_type": "code",
   "execution_count": 14,
   "id": "a41f1a6f",
   "metadata": {},
   "outputs": [
    {
     "data": {
      "text/html": [
       "<table class=\"simpletable\">\n",
       "<caption>OLS Regression Results</caption>\n",
       "<tr>\n",
       "  <th>Dep. Variable:</th>            <td>y</td>        <th>  R-squared:         </th> <td>   0.156</td>\n",
       "</tr>\n",
       "<tr>\n",
       "  <th>Model:</th>                   <td>OLS</td>       <th>  Adj. R-squared:    </th> <td>   0.139</td>\n",
       "</tr>\n",
       "<tr>\n",
       "  <th>Method:</th>             <td>Least Squares</td>  <th>  F-statistic:       </th> <td>   8.893</td>\n",
       "</tr>\n",
       "<tr>\n",
       "  <th>Date:</th>             <td>Thu, 16 May 2024</td> <th>  Prob (F-statistic):</th>  <td>0.00449</td>\n",
       "</tr>\n",
       "<tr>\n",
       "  <th>Time:</th>                 <td>17:29:52</td>     <th>  Log-Likelihood:    </th> <td> -283.20</td>\n",
       "</tr>\n",
       "<tr>\n",
       "  <th>No. Observations:</th>      <td>    50</td>      <th>  AIC:               </th> <td>   570.4</td>\n",
       "</tr>\n",
       "<tr>\n",
       "  <th>Df Residuals:</th>          <td>    48</td>      <th>  BIC:               </th> <td>   574.2</td>\n",
       "</tr>\n",
       "<tr>\n",
       "  <th>Df Model:</th>              <td>     1</td>      <th>                     </th>     <td> </td>   \n",
       "</tr>\n",
       "<tr>\n",
       "  <th>Covariance Type:</th>      <td>nonrobust</td>    <th>                     </th>     <td> </td>   \n",
       "</tr>\n",
       "</table>\n",
       "<table class=\"simpletable\">\n",
       "<tr>\n",
       "    <td></td>       <th>coef</th>     <th>std err</th>      <th>t</th>      <th>P>|t|</th>  <th>[0.025</th>    <th>0.975]</th>  \n",
       "</tr>\n",
       "<tr>\n",
       "  <th>const</th> <td>   61.5554</td> <td>   66.702</td> <td>    0.923</td> <td> 0.361</td> <td>  -72.558</td> <td>  195.669</td>\n",
       "</tr>\n",
       "<tr>\n",
       "  <th>x1</th>    <td>    3.0762</td> <td>    1.032</td> <td>    2.982</td> <td> 0.004</td> <td>    1.002</td> <td>    5.150</td>\n",
       "</tr>\n",
       "</table>\n",
       "<table class=\"simpletable\">\n",
       "<tr>\n",
       "  <th>Omnibus:</th>       <td> 1.393</td> <th>  Durbin-Watson:     </th> <td>   2.012</td>\n",
       "</tr>\n",
       "<tr>\n",
       "  <th>Prob(Omnibus):</th> <td> 0.498</td> <th>  Jarque-Bera (JB):  </th> <td>   1.291</td>\n",
       "</tr>\n",
       "<tr>\n",
       "  <th>Skew:</th>          <td> 0.256</td> <th>  Prob(JB):          </th> <td>   0.524</td>\n",
       "</tr>\n",
       "<tr>\n",
       "  <th>Kurtosis:</th>      <td> 2.403</td> <th>  Cond. No.          </th> <td>    428.</td>\n",
       "</tr>\n",
       "</table><br/><br/>Notes:<br/>[1] Standard Errors assume that the covariance matrix of the errors is correctly specified."
      ],
      "text/latex": [
       "\\begin{center}\n",
       "\\begin{tabular}{lclc}\n",
       "\\toprule\n",
       "\\textbf{Dep. Variable:}    &        y         & \\textbf{  R-squared:         } &     0.156   \\\\\n",
       "\\textbf{Model:}            &       OLS        & \\textbf{  Adj. R-squared:    } &     0.139   \\\\\n",
       "\\textbf{Method:}           &  Least Squares   & \\textbf{  F-statistic:       } &     8.893   \\\\\n",
       "\\textbf{Date:}             & Thu, 16 May 2024 & \\textbf{  Prob (F-statistic):} &  0.00449    \\\\\n",
       "\\textbf{Time:}             &     17:29:52     & \\textbf{  Log-Likelihood:    } &   -283.20   \\\\\n",
       "\\textbf{No. Observations:} &          50      & \\textbf{  AIC:               } &     570.4   \\\\\n",
       "\\textbf{Df Residuals:}     &          48      & \\textbf{  BIC:               } &     574.2   \\\\\n",
       "\\textbf{Df Model:}         &           1      & \\textbf{                     } &             \\\\\n",
       "\\textbf{Covariance Type:}  &    nonrobust     & \\textbf{                     } &             \\\\\n",
       "\\bottomrule\n",
       "\\end{tabular}\n",
       "\\begin{tabular}{lcccccc}\n",
       "               & \\textbf{coef} & \\textbf{std err} & \\textbf{t} & \\textbf{P$> |$t$|$} & \\textbf{[0.025} & \\textbf{0.975]}  \\\\\n",
       "\\midrule\n",
       "\\textbf{const} &      61.5554  &       66.702     &     0.923  &         0.361        &      -72.558    &      195.669     \\\\\n",
       "\\textbf{x1}    &       3.0762  &        1.032     &     2.982  &         0.004        &        1.002    &        5.150     \\\\\n",
       "\\bottomrule\n",
       "\\end{tabular}\n",
       "\\begin{tabular}{lclc}\n",
       "\\textbf{Omnibus:}       &  1.393 & \\textbf{  Durbin-Watson:     } &    2.012  \\\\\n",
       "\\textbf{Prob(Omnibus):} &  0.498 & \\textbf{  Jarque-Bera (JB):  } &    1.291  \\\\\n",
       "\\textbf{Skew:}          &  0.256 & \\textbf{  Prob(JB):          } &    0.524  \\\\\n",
       "\\textbf{Kurtosis:}      &  2.403 & \\textbf{  Cond. No.          } &     428.  \\\\\n",
       "\\bottomrule\n",
       "\\end{tabular}\n",
       "%\\caption{OLS Regression Results}\n",
       "\\end{center}\n",
       "\n",
       "Notes: \\newline\n",
       " [1] Standard Errors assume that the covariance matrix of the errors is correctly specified."
      ],
      "text/plain": [
       "<class 'statsmodels.iolib.summary.Summary'>\n",
       "\"\"\"\n",
       "                            OLS Regression Results                            \n",
       "==============================================================================\n",
       "Dep. Variable:                      y   R-squared:                       0.156\n",
       "Model:                            OLS   Adj. R-squared:                  0.139\n",
       "Method:                 Least Squares   F-statistic:                     8.893\n",
       "Date:                Thu, 16 May 2024   Prob (F-statistic):            0.00449\n",
       "Time:                        17:29:52   Log-Likelihood:                -283.20\n",
       "No. Observations:                  50   AIC:                             570.4\n",
       "Df Residuals:                      48   BIC:                             574.2\n",
       "Df Model:                           1                                         \n",
       "Covariance Type:            nonrobust                                         \n",
       "==============================================================================\n",
       "                 coef    std err          t      P>|t|      [0.025      0.975]\n",
       "------------------------------------------------------------------------------\n",
       "const         61.5554     66.702      0.923      0.361     -72.558     195.669\n",
       "x1             3.0762      1.032      2.982      0.004       1.002       5.150\n",
       "==============================================================================\n",
       "Omnibus:                        1.393   Durbin-Watson:                   2.012\n",
       "Prob(Omnibus):                  0.498   Jarque-Bera (JB):                1.291\n",
       "Skew:                           0.256   Prob(JB):                        0.524\n",
       "Kurtosis:                       2.403   Cond. No.                         428.\n",
       "==============================================================================\n",
       "\n",
       "Notes:\n",
       "[1] Standard Errors assume that the covariance matrix of the errors is correctly specified.\n",
       "\"\"\""
      ]
     },
     "execution_count": 14,
     "metadata": {},
     "output_type": "execute_result"
    }
   ],
   "source": [
    "model.summary()"
   ]
  },
  {
   "cell_type": "markdown",
   "id": "3c216576",
   "metadata": {},
   "source": [
    "#### Prediction of X values (Y-hat: fitted values)\n",
    "#### predict() method takes in new values of X as a parameter and returns values of Y\n",
    "#### # pred_y"
   ]
  },
  {
   "cell_type": "code",
   "execution_count": 15,
   "id": "c75f5fba",
   "metadata": {},
   "outputs": [],
   "source": [
    "pred_y = model.predict(x)"
   ]
  },
  {
   "cell_type": "markdown",
   "id": "df1bfb22",
   "metadata": {},
   "source": [
    "#### Important Performance Metrics - R square and MSE"
   ]
  },
  {
   "cell_type": "markdown",
   "id": "820cda2f",
   "metadata": {},
   "source": [
    "####  Measure the accuracy of our predictions: r2_score: R-squared\n",
    "#### MSE : Mean Squared Error"
   ]
  },
  {
   "cell_type": "code",
   "execution_count": 17,
   "id": "0fb167fa",
   "metadata": {},
   "outputs": [],
   "source": [
    "from sklearn.metrics import r2_score, mean_squared_error"
   ]
  },
  {
   "cell_type": "code",
   "execution_count": 18,
   "id": "796b9bc2",
   "metadata": {},
   "outputs": [
    {
     "data": {
      "text/plain": [
       "0.1563153075433753"
      ]
     },
     "execution_count": 18,
     "metadata": {},
     "output_type": "execute_result"
    }
   ],
   "source": [
    "r2_score(y,pred_y)"
   ]
  },
  {
   "cell_type": "code",
   "execution_count": 19,
   "id": "def8bb60",
   "metadata": {},
   "outputs": [],
   "source": [
    "# The model only explains 15.6% of the variance in Y. "
   ]
  },
  {
   "cell_type": "markdown",
   "id": "36522bf4",
   "metadata": {},
   "source": [
    "#### MSE (mean of the square of the difference between y and pred_y)"
   ]
  },
  {
   "cell_type": "code",
   "execution_count": 20,
   "id": "a219d599",
   "metadata": {},
   "outputs": [
    {
     "data": {
      "text/plain": [
       "4866.041177799039"
      ]
     },
     "execution_count": 20,
     "metadata": {},
     "output_type": "execute_result"
    }
   ],
   "source": [
    "mse = mean_squared_error(y,pred_y)\n",
    "mse"
   ]
  },
  {
   "cell_type": "markdown",
   "id": "64f92586",
   "metadata": {},
   "source": [
    "##### RMSE: root mean squared error"
   ]
  },
  {
   "cell_type": "code",
   "execution_count": 21,
   "id": "a2081405",
   "metadata": {},
   "outputs": [
    {
     "data": {
      "text/plain": [
       "69.75701525867517"
      ]
     },
     "execution_count": 21,
     "metadata": {},
     "output_type": "execute_result"
    }
   ],
   "source": [
    "rmse = np.sqrt(mse)\n",
    "rmse"
   ]
  },
  {
   "cell_type": "markdown",
   "id": "8b4b1b9a",
   "metadata": {},
   "source": [
    "#### RMSE means the average error the model makes in predicting the outomce. The smaller the value of \n",
    "#### RMSE, the better the model is. "
   ]
  },
  {
   "cell_type": "code",
   "execution_count": null,
   "id": "e44f6798",
   "metadata": {},
   "outputs": [],
   "source": []
  },
  {
   "cell_type": "markdown",
   "id": "b4156c58",
   "metadata": {},
   "source": [
    "# With Train Test Split"
   ]
  },
  {
   "cell_type": "code",
   "execution_count": 22,
   "id": "8a44523c",
   "metadata": {},
   "outputs": [],
   "source": [
    "df1 = pd.read_csv('HomeProducts_raw_data.csv')"
   ]
  },
  {
   "cell_type": "code",
   "execution_count": 23,
   "id": "084c051a",
   "metadata": {},
   "outputs": [],
   "source": [
    "x1 = sm.add_constant(df.Advertisement.values)\n",
    "y1 = df.Sales.values"
   ]
  },
  {
   "cell_type": "markdown",
   "id": "6f8e0b4b",
   "metadata": {},
   "source": [
    "#### train_test_split() function from sklearn.model_selection module provides the ability to split\n",
    "#### the dataset randomly into training and validation datasets\n"
   ]
  },
  {
   "cell_type": "code",
   "execution_count": 24,
   "id": "38766a0d",
   "metadata": {},
   "outputs": [],
   "source": [
    "from sklearn.model_selection import train_test_split\n",
    "from sklearn.linear_model import LinearRegression"
   ]
  },
  {
   "cell_type": "markdown",
   "id": "8026085c",
   "metadata": {},
   "source": [
    "##### # training data > model learning (fit)\n",
    "#### # testing data > model evaluation/perf.metrics\n",
    "\n",
    "#### # Source: X and y data\n",
    "\n",
    "#### # training data > X and y > train_X and train_y [ model will learn from this..]\n",
    "#### # train_X, train_y are subsets of X and y respectively.\n",
    "\n",
    "#### # testing data > X and y > test_X and test_y [model will predict using test_X and perf. evaluation\n",
    "#### # will happen against test_y]\n",
    "\n",
    "#### # random_state is just a seed value for repeatability of results. "
   ]
  },
  {
   "cell_type": "code",
   "execution_count": 25,
   "id": "af8d6b25",
   "metadata": {},
   "outputs": [],
   "source": [
    "x1_train,x1_test,y1_train,y1_test = train_test_split(x1,y1,train_size=0.8,random_state=42)"
   ]
  },
  {
   "cell_type": "markdown",
   "id": "18d06c70",
   "metadata": {},
   "source": [
    "###  model learns from training data alone\n",
    "### OLS method takes in training y and training X data as parameters"
   ]
  },
  {
   "cell_type": "code",
   "execution_count": 30,
   "id": "a0f54d68",
   "metadata": {},
   "outputs": [],
   "source": [
    "model_t = sm.OLS(y1_train, x1_train).fit()"
   ]
  },
  {
   "cell_type": "markdown",
   "id": "3caddde4",
   "metadata": {},
   "source": [
    "##### params gives you B0 and B1"
   ]
  },
  {
   "cell_type": "code",
   "execution_count": 31,
   "id": "a5fbaae4",
   "metadata": {},
   "outputs": [
    {
     "data": {
      "text/plain": [
       "array([106.61049393,   2.3742293 ])"
      ]
     },
     "execution_count": 31,
     "metadata": {},
     "output_type": "execute_result"
    }
   ],
   "source": [
    "model_t.params"
   ]
  },
  {
   "cell_type": "markdown",
   "id": "2651413f",
   "metadata": {},
   "source": [
    "#### summary gives a list of statistical information"
   ]
  },
  {
   "cell_type": "code",
   "execution_count": 32,
   "id": "4349f344",
   "metadata": {},
   "outputs": [
    {
     "data": {
      "text/html": [
       "<table class=\"simpletable\">\n",
       "<caption>OLS Regression Results</caption>\n",
       "<tr>\n",
       "  <th>Dep. Variable:</th>            <td>y</td>        <th>  R-squared:         </th> <td>   0.092</td>\n",
       "</tr>\n",
       "<tr>\n",
       "  <th>Model:</th>                   <td>OLS</td>       <th>  Adj. R-squared:    </th> <td>   0.068</td>\n",
       "</tr>\n",
       "<tr>\n",
       "  <th>Method:</th>             <td>Least Squares</td>  <th>  F-statistic:       </th> <td>   3.830</td>\n",
       "</tr>\n",
       "<tr>\n",
       "  <th>Date:</th>             <td>Thu, 16 May 2024</td> <th>  Prob (F-statistic):</th>  <td>0.0577</td> \n",
       "</tr>\n",
       "<tr>\n",
       "  <th>Time:</th>                 <td>17:56:02</td>     <th>  Log-Likelihood:    </th> <td> -228.16</td>\n",
       "</tr>\n",
       "<tr>\n",
       "  <th>No. Observations:</th>      <td>    40</td>      <th>  AIC:               </th> <td>   460.3</td>\n",
       "</tr>\n",
       "<tr>\n",
       "  <th>Df Residuals:</th>          <td>    38</td>      <th>  BIC:               </th> <td>   463.7</td>\n",
       "</tr>\n",
       "<tr>\n",
       "  <th>Df Model:</th>              <td>     1</td>      <th>                     </th>     <td> </td>   \n",
       "</tr>\n",
       "<tr>\n",
       "  <th>Covariance Type:</th>      <td>nonrobust</td>    <th>                     </th>     <td> </td>   \n",
       "</tr>\n",
       "</table>\n",
       "<table class=\"simpletable\">\n",
       "<tr>\n",
       "    <td></td>       <th>coef</th>     <th>std err</th>      <th>t</th>      <th>P>|t|</th>  <th>[0.025</th>    <th>0.975]</th>  \n",
       "</tr>\n",
       "<tr>\n",
       "  <th>const</th> <td>  106.6105</td> <td>   78.694</td> <td>    1.355</td> <td> 0.183</td> <td>  -52.697</td> <td>  265.918</td>\n",
       "</tr>\n",
       "<tr>\n",
       "  <th>x1</th>    <td>    2.3742</td> <td>    1.213</td> <td>    1.957</td> <td> 0.058</td> <td>   -0.082</td> <td>    4.830</td>\n",
       "</tr>\n",
       "</table>\n",
       "<table class=\"simpletable\">\n",
       "<tr>\n",
       "  <th>Omnibus:</th>       <td> 0.978</td> <th>  Durbin-Watson:     </th> <td>   2.242</td>\n",
       "</tr>\n",
       "<tr>\n",
       "  <th>Prob(Omnibus):</th> <td> 0.613</td> <th>  Jarque-Bera (JB):  </th> <td>   0.903</td>\n",
       "</tr>\n",
       "<tr>\n",
       "  <th>Skew:</th>          <td> 0.147</td> <th>  Prob(JB):          </th> <td>   0.637</td>\n",
       "</tr>\n",
       "<tr>\n",
       "  <th>Kurtosis:</th>      <td> 2.326</td> <th>  Cond. No.          </th> <td>    434.</td>\n",
       "</tr>\n",
       "</table><br/><br/>Notes:<br/>[1] Standard Errors assume that the covariance matrix of the errors is correctly specified."
      ],
      "text/latex": [
       "\\begin{center}\n",
       "\\begin{tabular}{lclc}\n",
       "\\toprule\n",
       "\\textbf{Dep. Variable:}    &        y         & \\textbf{  R-squared:         } &     0.092   \\\\\n",
       "\\textbf{Model:}            &       OLS        & \\textbf{  Adj. R-squared:    } &     0.068   \\\\\n",
       "\\textbf{Method:}           &  Least Squares   & \\textbf{  F-statistic:       } &     3.830   \\\\\n",
       "\\textbf{Date:}             & Thu, 16 May 2024 & \\textbf{  Prob (F-statistic):} &   0.0577    \\\\\n",
       "\\textbf{Time:}             &     17:56:02     & \\textbf{  Log-Likelihood:    } &   -228.16   \\\\\n",
       "\\textbf{No. Observations:} &          40      & \\textbf{  AIC:               } &     460.3   \\\\\n",
       "\\textbf{Df Residuals:}     &          38      & \\textbf{  BIC:               } &     463.7   \\\\\n",
       "\\textbf{Df Model:}         &           1      & \\textbf{                     } &             \\\\\n",
       "\\textbf{Covariance Type:}  &    nonrobust     & \\textbf{                     } &             \\\\\n",
       "\\bottomrule\n",
       "\\end{tabular}\n",
       "\\begin{tabular}{lcccccc}\n",
       "               & \\textbf{coef} & \\textbf{std err} & \\textbf{t} & \\textbf{P$> |$t$|$} & \\textbf{[0.025} & \\textbf{0.975]}  \\\\\n",
       "\\midrule\n",
       "\\textbf{const} &     106.6105  &       78.694     &     1.355  &         0.183        &      -52.697    &      265.918     \\\\\n",
       "\\textbf{x1}    &       2.3742  &        1.213     &     1.957  &         0.058        &       -0.082    &        4.830     \\\\\n",
       "\\bottomrule\n",
       "\\end{tabular}\n",
       "\\begin{tabular}{lclc}\n",
       "\\textbf{Omnibus:}       &  0.978 & \\textbf{  Durbin-Watson:     } &    2.242  \\\\\n",
       "\\textbf{Prob(Omnibus):} &  0.613 & \\textbf{  Jarque-Bera (JB):  } &    0.903  \\\\\n",
       "\\textbf{Skew:}          &  0.147 & \\textbf{  Prob(JB):          } &    0.637  \\\\\n",
       "\\textbf{Kurtosis:}      &  2.326 & \\textbf{  Cond. No.          } &     434.  \\\\\n",
       "\\bottomrule\n",
       "\\end{tabular}\n",
       "%\\caption{OLS Regression Results}\n",
       "\\end{center}\n",
       "\n",
       "Notes: \\newline\n",
       " [1] Standard Errors assume that the covariance matrix of the errors is correctly specified."
      ],
      "text/plain": [
       "<class 'statsmodels.iolib.summary.Summary'>\n",
       "\"\"\"\n",
       "                            OLS Regression Results                            \n",
       "==============================================================================\n",
       "Dep. Variable:                      y   R-squared:                       0.092\n",
       "Model:                            OLS   Adj. R-squared:                  0.068\n",
       "Method:                 Least Squares   F-statistic:                     3.830\n",
       "Date:                Thu, 16 May 2024   Prob (F-statistic):             0.0577\n",
       "Time:                        17:56:02   Log-Likelihood:                -228.16\n",
       "No. Observations:                  40   AIC:                             460.3\n",
       "Df Residuals:                      38   BIC:                             463.7\n",
       "Df Model:                           1                                         \n",
       "Covariance Type:            nonrobust                                         \n",
       "==============================================================================\n",
       "                 coef    std err          t      P>|t|      [0.025      0.975]\n",
       "------------------------------------------------------------------------------\n",
       "const        106.6105     78.694      1.355      0.183     -52.697     265.918\n",
       "x1             2.3742      1.213      1.957      0.058      -0.082       4.830\n",
       "==============================================================================\n",
       "Omnibus:                        0.978   Durbin-Watson:                   2.242\n",
       "Prob(Omnibus):                  0.613   Jarque-Bera (JB):                0.903\n",
       "Skew:                           0.147   Prob(JB):                        0.637\n",
       "Kurtosis:                       2.326   Cond. No.                         434.\n",
       "==============================================================================\n",
       "\n",
       "Notes:\n",
       "[1] Standard Errors assume that the covariance matrix of the errors is correctly specified.\n",
       "\"\"\""
      ]
     },
     "execution_count": 32,
     "metadata": {},
     "output_type": "execute_result"
    }
   ],
   "source": [
    "model_t.summary()"
   ]
  },
  {
   "cell_type": "markdown",
   "id": "24d33e88",
   "metadata": {},
   "source": [
    "### Making prediction using test_X data"
   ]
  },
  {
   "cell_type": "code",
   "execution_count": 33,
   "id": "ec37b094",
   "metadata": {},
   "outputs": [
    {
     "data": {
      "text/plain": [
       "array([303.67152597, 230.07041762, 284.67769156, 243.31861712,\n",
       "       269.00777817, 263.30962785, 225.32195902, 259.98570682,\n",
       "       237.19310553, 246.69002273])"
      ]
     },
     "execution_count": 33,
     "metadata": {},
     "output_type": "execute_result"
    }
   ],
   "source": [
    "yt_pred = model_t.predict(x1_test)\n",
    "yt_pred"
   ]
  },
  {
   "cell_type": "code",
   "execution_count": null,
   "id": "f4326ede",
   "metadata": {},
   "outputs": [],
   "source": []
  },
  {
   "cell_type": "markdown",
   "id": "a25f7c2b",
   "metadata": {},
   "source": [
    "### Import Performance metrics - R squared and MSE"
   ]
  },
  {
   "cell_type": "code",
   "execution_count": 34,
   "id": "c371c801",
   "metadata": {},
   "outputs": [],
   "source": [
    "# Measure the accuracy of our predictions: r2_score: R-squared\n",
    "# MSE : Mean Squared Error"
   ]
  },
  {
   "cell_type": "code",
   "execution_count": 37,
   "id": "5a4a4161",
   "metadata": {},
   "outputs": [
    {
     "data": {
      "text/plain": [
       "0.3805122592921437"
      ]
     },
     "execution_count": 37,
     "metadata": {},
     "output_type": "execute_result"
    }
   ],
   "source": [
    "r2_score(y1_test,yt_pred)"
   ]
  },
  {
   "cell_type": "code",
   "execution_count": 41,
   "id": "49f683da",
   "metadata": {},
   "outputs": [],
   "source": [
    "# MSE (mean of the square of the difference between y and pred_y)"
   ]
  },
  {
   "cell_type": "code",
   "execution_count": 42,
   "id": "ab03adbc",
   "metadata": {},
   "outputs": [
    {
     "data": {
      "text/plain": [
       "3480.5547019026476"
      ]
     },
     "execution_count": 42,
     "metadata": {},
     "output_type": "execute_result"
    }
   ],
   "source": [
    "mse_t = mean_squared_error(y1_test,yt_pred)\n",
    "mse_t"
   ]
  },
  {
   "cell_type": "markdown",
   "id": "23c11775",
   "metadata": {},
   "source": [
    "#### Rmse"
   ]
  },
  {
   "cell_type": "code",
   "execution_count": 43,
   "id": "2b337daf",
   "metadata": {},
   "outputs": [
    {
     "data": {
      "text/plain": [
       "58.9962261666172"
      ]
     },
     "execution_count": 43,
     "metadata": {},
     "output_type": "execute_result"
    }
   ],
   "source": [
    "rmse_t = np.sqrt(mse_t)\n",
    "rmse_t"
   ]
  },
  {
   "cell_type": "code",
   "execution_count": null,
   "id": "7628c130",
   "metadata": {},
   "outputs": [],
   "source": []
  },
  {
   "cell_type": "markdown",
   "id": "1ea067ea",
   "metadata": {},
   "source": [
    "### Predicting a single Observation"
   ]
  },
  {
   "cell_type": "code",
   "execution_count": 44,
   "id": "29db7b68",
   "metadata": {},
   "outputs": [],
   "source": [
    "x_new = [1,60]\n",
    "pred_y_new = model_t.predict(x_new)"
   ]
  },
  {
   "cell_type": "code",
   "execution_count": 45,
   "id": "fc558987",
   "metadata": {},
   "outputs": [
    {
     "data": {
      "text/plain": [
       "array([249.06425203])"
      ]
     },
     "execution_count": 45,
     "metadata": {},
     "output_type": "execute_result"
    }
   ],
   "source": [
    "pred_y_new"
   ]
  },
  {
   "cell_type": "code",
   "execution_count": null,
   "id": "625e3f06",
   "metadata": {},
   "outputs": [],
   "source": []
  },
  {
   "cell_type": "markdown",
   "id": "4e241871",
   "metadata": {},
   "source": [
    "### Prediction Intervals"
   ]
  },
  {
   "cell_type": "code",
   "execution_count": 52,
   "id": "02d1817d",
   "metadata": {},
   "outputs": [],
   "source": [
    "from statsmodels.sandbox.regression.predstd import wls_prediction_std"
   ]
  },
  {
   "cell_type": "code",
   "execution_count": 53,
   "id": "4380a941",
   "metadata": {},
   "outputs": [],
   "source": [
    "_, pred_y_low, pred_y_high = wls_prediction_std(model_t,x_new,alpha=0.05)"
   ]
  },
  {
   "cell_type": "code",
   "execution_count": 54,
   "id": "6b4cc06f",
   "metadata": {},
   "outputs": [
    {
     "data": {
      "text/plain": [
       "(array([96.05856835]), array([402.06993572]))"
      ]
     },
     "execution_count": 54,
     "metadata": {},
     "output_type": "execute_result"
    }
   ],
   "source": [
    "pred_y_low, pred_y_high"
   ]
  },
  {
   "cell_type": "code",
   "execution_count": null,
   "id": "8bcdb586",
   "metadata": {},
   "outputs": [],
   "source": []
  },
  {
   "cell_type": "markdown",
   "id": "b7645ccc",
   "metadata": {},
   "source": [
    "### Normal P-P Plot"
   ]
  },
  {
   "cell_type": "code",
   "execution_count": 55,
   "id": "42134e1a",
   "metadata": {},
   "outputs": [
    {
     "data": {
      "text/plain": [
       "array([ 164.69037215,  -71.43848134,    5.92958238,  121.80331989,\n",
       "          0.93574797,  -12.80654505,   99.53944732,  -88.05808645,\n",
       "         -0.43231575,   44.75952624,   -6.69002273,  -42.17460877,\n",
       "       -102.94772972,   39.48810264,  -49.06425203,   16.18728936,\n",
       "         78.88365239,  -64.30346226,   38.19962053,   62.80689447,\n",
       "       -115.68385715,  -69.06425203,  -90.45808645,  -87.83541653,\n",
       "         34.67804098,  -37.55500366,  -33.49057691,  100.43266517,\n",
       "       -110.07041762,  105.94807914,    5.68420657,   29.56768425,\n",
       "        -41.80654505,   49.03636452, -136.18693994,  -33.05808645,\n",
       "         16.74684602,   31.94191355,  115.68420657,   30.18112378])"
      ]
     },
     "execution_count": 55,
     "metadata": {},
     "output_type": "execute_result"
    }
   ],
   "source": [
    "sales_residuals = model_t.resid\n",
    "sales_residuals"
   ]
  },
  {
   "cell_type": "code",
   "execution_count": 56,
   "id": "15d55ea3",
   "metadata": {},
   "outputs": [
    {
     "data": {
      "text/plain": [
       "<Figure size 800x1600 with 0 Axes>"
      ]
     },
     "metadata": {},
     "output_type": "display_data"
    },
    {
     "data": {
      "image/png": "[encoded data removed]",
      "text/plain": [
       "<Figure size 640x480 with 1 Axes>"
      ]
     },
     "metadata": {},
     "output_type": "display_data"
    }
   ],
   "source": [
    "probplot = sm.ProbPlot(sales_residuals)\n",
    "plt.figure(figsize = (8,16))\n",
    "probplot.ppplot(line='45')\n",
    "plt.title('Normal P-P Plot of Regression Standardized Residuals')\n",
    "plt.show()"
   ]
  },
  {
   "cell_type": "code",
   "execution_count": null,
   "id": "d150ed11",
   "metadata": {},
   "outputs": [],
   "source": []
  },
  {
   "cell_type": "markdown",
   "id": "b57f6988",
   "metadata": {},
   "source": [
    "## Test for Constant Variance"
   ]
  },
  {
   "cell_type": "code",
   "execution_count": 57,
   "id": "59346747",
   "metadata": {},
   "outputs": [],
   "source": [
    "def standardize(vals):\n",
    "    return (vals - vals.mean())/vals.std()"
   ]
  },
  {
   "cell_type": "code",
   "execution_count": null,
   "id": "312350ce",
   "metadata": {},
   "outputs": [],
   "source": [
    "plt.scatter(standardize(model.fittedvalues), standardize(sales_residuals))\n",
    "plt.title('Residuals vs Predicted values')\n",
    "plt.xlabel('Standardized Predicted values')\n",
    "plt.ylabel('Standardized residuals')\n",
    "plt.show()"
   ]
  },
  {
   "cell_type": "code",
   "execution_count": 61,
   "id": "c74cb6d0",
   "metadata": {},
   "outputs": [
    {
     "data": {
      "text/plain": [
       "array([-0.19695027,  1.27116114,  0.82755176, -0.40185068, -0.29940047,\n",
       "       -0.91410169,  0.62265135,  0.41775095,  1.93401395, -0.50430088,\n",
       "       -0.60675108, -0.40185068,  0.21285054,  1.95450399,  0.41775095,\n",
       "       -2.72439677,  1.54470318,  0.45873103,  0.62265135, -0.50430088,\n",
       "       -0.09450007, -1.4263527 ,  0.52020115, -1.2214523 , -1.52880291,\n",
       "        0.06942026, -1.4263527 ,  1.03245216, -0.60675108,  0.31530074,\n",
       "        1.13490237, -0.40185068, -0.91410169,  1.44225298, -1.41815669,\n",
       "       -0.81165149,  0.41775095, -1.2214523 , -1.01655189, -1.2214523 ,\n",
       "        1.23735257,  0.0899103 ,  1.07343225,  1.08367727,  0.98122706,\n",
       "       -0.64978017,  0.41775095,  0.52020115,  0.21285054, -0.31989051])"
      ]
     },
     "execution_count": 61,
     "metadata": {},
     "output_type": "execute_result"
    }
   ],
   "source": [
    "standardize(model.fittedvalues)"
   ]
  },
  {
   "cell_type": "code",
   "execution_count": 62,
   "id": "b2c370c4",
   "metadata": {},
   "outputs": [
    {
     "data": {
      "text/plain": [
       "array([ 2.26838149, -0.98396601,  0.08167177,  1.67767182,  0.01288863,\n",
       "       -0.1763924 ,  1.37101785, -1.21287803, -0.00595455,  0.6165004 ,\n",
       "       -0.09214579, -0.58089675, -1.41796221,  0.54389385, -0.67579203,\n",
       "        0.22295746,  1.08651292, -0.88569102,  0.5261468 ,  0.86507787,\n",
       "       -1.59338471, -0.9512643 , -1.2459347 , -1.20981106,  0.47764192,\n",
       "       -0.5172681 , -0.46128625,  1.38332069, -1.51606736,  1.45928787,\n",
       "        0.07829206,  0.40725385, -0.57582718,  0.67540792, -1.87578624,\n",
       "       -0.4553293 ,  0.23066458,  0.43995556,  1.59338952,  0.41570313])"
      ]
     },
     "execution_count": 62,
     "metadata": {},
     "output_type": "execute_result"
    }
   ],
   "source": [
    "standardize(sales_residuals)"
   ]
  },
  {
   "cell_type": "code",
   "execution_count": null,
   "id": "bdbcda07",
   "metadata": {},
   "outputs": [],
   "source": []
  }
 ],
 "metadata": {
  "kernelspec": {
   "display_name": "Python 3 (ipykernel)",
   "language": "python",
   "name": "python3"
  },
  "language_info": {
   "codemirror_mode": {
    "name": "ipython",
    "version": 3
   },
   "file_extension": ".py",
   "mimetype": "text/x-python",
   "name": "python",
   "nbconvert_exporter": "python",
   "pygments_lexer": "ipython3",
   "version": "3.11.5"
  }
 },
 "nbformat": 4,
 "nbformat_minor": 5
}
