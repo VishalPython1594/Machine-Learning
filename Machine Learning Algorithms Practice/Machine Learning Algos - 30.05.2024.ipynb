{
 "cells": [
  {
   "cell_type": "code",
   "execution_count": 1,
   "id": "6fd614ad",
   "metadata": {},
   "outputs": [],
   "source": [
    "import pandas as pd\n",
    "import numpy as np\n",
    "import matplotlib.pyplot as plt\n",
    "import seaborn as sns"
   ]
  },
  {
   "cell_type": "markdown",
   "id": "10f66d72",
   "metadata": {},
   "source": [
    "## KNN"
   ]
  },
  {
   "cell_type": "code",
   "execution_count": 2,
   "id": "0e17228d",
   "metadata": {},
   "outputs": [
    {
     "data": {
      "text/html": [
       "<div>\n",
       "<style scoped>\n",
       "    .dataframe tbody tr th:only-of-type {\n",
       "        vertical-align: middle;\n",
       "    }\n",
       "\n",
       "    .dataframe tbody tr th {\n",
       "        vertical-align: top;\n",
       "    }\n",
       "\n",
       "    .dataframe thead th {\n",
       "        text-align: right;\n",
       "    }\n",
       "</style>\n",
       "<table border=\"1\" class=\"dataframe\">\n",
       "  <thead>\n",
       "    <tr style=\"text-align: right;\">\n",
       "      <th></th>\n",
       "      <th>WTT</th>\n",
       "      <th>PTI</th>\n",
       "      <th>EQW</th>\n",
       "      <th>SBI</th>\n",
       "      <th>LQE</th>\n",
       "      <th>QWG</th>\n",
       "      <th>FDJ</th>\n",
       "      <th>PJF</th>\n",
       "      <th>HQE</th>\n",
       "      <th>NXJ</th>\n",
       "      <th>TARGET CLASS</th>\n",
       "    </tr>\n",
       "  </thead>\n",
       "  <tbody>\n",
       "    <tr>\n",
       "      <th>0</th>\n",
       "      <td>0.913917</td>\n",
       "      <td>1.162073</td>\n",
       "      <td>0.567946</td>\n",
       "      <td>0.755464</td>\n",
       "      <td>0.780862</td>\n",
       "      <td>0.352608</td>\n",
       "      <td>0.759697</td>\n",
       "      <td>0.643798</td>\n",
       "      <td>0.879422</td>\n",
       "      <td>1.231409</td>\n",
       "      <td>1</td>\n",
       "    </tr>\n",
       "    <tr>\n",
       "      <th>1</th>\n",
       "      <td>0.635632</td>\n",
       "      <td>1.003722</td>\n",
       "      <td>0.535342</td>\n",
       "      <td>0.825645</td>\n",
       "      <td>0.924109</td>\n",
       "      <td>0.648450</td>\n",
       "      <td>0.675334</td>\n",
       "      <td>1.013546</td>\n",
       "      <td>0.621552</td>\n",
       "      <td>1.492702</td>\n",
       "      <td>0</td>\n",
       "    </tr>\n",
       "    <tr>\n",
       "      <th>2</th>\n",
       "      <td>0.721360</td>\n",
       "      <td>1.201493</td>\n",
       "      <td>0.921990</td>\n",
       "      <td>0.855595</td>\n",
       "      <td>1.526629</td>\n",
       "      <td>0.720781</td>\n",
       "      <td>1.626351</td>\n",
       "      <td>1.154483</td>\n",
       "      <td>0.957877</td>\n",
       "      <td>1.285597</td>\n",
       "      <td>0</td>\n",
       "    </tr>\n",
       "    <tr>\n",
       "      <th>3</th>\n",
       "      <td>1.234204</td>\n",
       "      <td>1.386726</td>\n",
       "      <td>0.653046</td>\n",
       "      <td>0.825624</td>\n",
       "      <td>1.142504</td>\n",
       "      <td>0.875128</td>\n",
       "      <td>1.409708</td>\n",
       "      <td>1.380003</td>\n",
       "      <td>1.522692</td>\n",
       "      <td>1.153093</td>\n",
       "      <td>1</td>\n",
       "    </tr>\n",
       "    <tr>\n",
       "      <th>4</th>\n",
       "      <td>1.279491</td>\n",
       "      <td>0.949750</td>\n",
       "      <td>0.627280</td>\n",
       "      <td>0.668976</td>\n",
       "      <td>1.232537</td>\n",
       "      <td>0.703727</td>\n",
       "      <td>1.115596</td>\n",
       "      <td>0.646691</td>\n",
       "      <td>1.463812</td>\n",
       "      <td>1.419167</td>\n",
       "      <td>1</td>\n",
       "    </tr>\n",
       "  </tbody>\n",
       "</table>\n",
       "</div>"
      ],
      "text/plain": [
       "        WTT       PTI       EQW       SBI       LQE       QWG       FDJ  \\\n",
       "0  0.913917  1.162073  0.567946  0.755464  0.780862  0.352608  0.759697   \n",
       "1  0.635632  1.003722  0.535342  0.825645  0.924109  0.648450  0.675334   \n",
       "2  0.721360  1.201493  0.921990  0.855595  1.526629  0.720781  1.626351   \n",
       "3  1.234204  1.386726  0.653046  0.825624  1.142504  0.875128  1.409708   \n",
       "4  1.279491  0.949750  0.627280  0.668976  1.232537  0.703727  1.115596   \n",
       "\n",
       "        PJF       HQE       NXJ  TARGET CLASS  \n",
       "0  0.643798  0.879422  1.231409             1  \n",
       "1  1.013546  0.621552  1.492702             0  \n",
       "2  1.154483  0.957877  1.285597             0  \n",
       "3  1.380003  1.522692  1.153093             1  \n",
       "4  0.646691  1.463812  1.419167             1  "
      ]
     },
     "execution_count": 2,
     "metadata": {},
     "output_type": "execute_result"
    }
   ],
   "source": [
    "df = pd.read_csv(r\"C:\\Users\\DeLL\\Documents\\Python Files\\Stats and ML by Garvit\\ML\\KNN\\data+code\\Classified Data\",index_col=0)\n",
    "df.head()"
   ]
  },
  {
   "cell_type": "code",
   "execution_count": 3,
   "id": "6754549f",
   "metadata": {},
   "outputs": [],
   "source": [
    "x = df.drop('TARGET CLASS',axis=1)\n",
    "y = df['TARGET CLASS']"
   ]
  },
  {
   "cell_type": "code",
   "execution_count": 4,
   "id": "c1dc6b48",
   "metadata": {},
   "outputs": [],
   "source": [
    "from sklearn.preprocessing import StandardScaler"
   ]
  },
  {
   "cell_type": "code",
   "execution_count": 5,
   "id": "b4866ff6",
   "metadata": {},
   "outputs": [],
   "source": [
    "scaler = StandardScaler()"
   ]
  },
  {
   "cell_type": "code",
   "execution_count": 6,
   "id": "90d4a056",
   "metadata": {},
   "outputs": [
    {
     "data": {
      "text/plain": [
       "array([[-0.12354188,  0.18590747, -0.91343069, ..., -1.48236813,\n",
       "        -0.9497194 , -0.64331425],\n",
       "       [-1.08483602, -0.43034845, -1.02531333, ..., -0.20224031,\n",
       "        -1.82805088,  0.63675862],\n",
       "       [-0.78870217,  0.33931821,  0.30151137, ...,  0.28570652,\n",
       "        -0.68249379, -0.37784986],\n",
       "       ...,\n",
       "       [ 0.64177714, -0.51308341, -0.17920486, ..., -2.36249443,\n",
       "        -0.81426092,  0.11159651],\n",
       "       [ 0.46707241, -0.98278576, -1.46519359, ..., -0.03677699,\n",
       "         0.40602453, -0.85567   ],\n",
       "       [-0.38765353, -0.59589427, -1.4313981 , ..., -0.56778932,\n",
       "         0.3369971 ,  0.01034996]])"
      ]
     },
     "execution_count": 6,
     "metadata": {},
     "output_type": "execute_result"
    }
   ],
   "source": [
    "x = scaler.fit_transform(x)\n",
    "x"
   ]
  },
  {
   "cell_type": "code",
   "execution_count": 7,
   "id": "3a0887e2",
   "metadata": {},
   "outputs": [],
   "source": [
    "from sklearn.neighbors import KNeighborsClassifier\n",
    "from sklearn.model_selection import train_test_split"
   ]
  },
  {
   "cell_type": "code",
   "execution_count": 8,
   "id": "7ef0c54a",
   "metadata": {},
   "outputs": [],
   "source": [
    "y = y.values"
   ]
  },
  {
   "cell_type": "code",
   "execution_count": 9,
   "id": "41d2e6f4",
   "metadata": {},
   "outputs": [],
   "source": [
    "x_train,x_test,y_train,y_test = train_test_split(x,y,test_size=0.3)"
   ]
  },
  {
   "cell_type": "code",
   "execution_count": 10,
   "id": "f61cded5",
   "metadata": {},
   "outputs": [],
   "source": [
    "from sklearn.model_selection import cross_val_score"
   ]
  },
  {
   "cell_type": "code",
   "execution_count": 11,
   "id": "76c6c827",
   "metadata": {},
   "outputs": [],
   "source": [
    "accuracy_rate = []\n",
    "for i in range(1,40):\n",
    "    knn = KNeighborsClassifier(n_neighbors=i)\n",
    "    score = cross_val_score(knn,x_train,y_train,cv=10)\n",
    "    accuracy_rate.append(score.mean())"
   ]
  },
  {
   "cell_type": "code",
   "execution_count": 12,
   "id": "f2710a8c",
   "metadata": {},
   "outputs": [
    {
     "data": {
      "text/plain": [
       "[]"
      ]
     },
     "execution_count": 12,
     "metadata": {},
     "output_type": "execute_result"
    },
    {
     "data": {
      "image/png": "[encoded data removed]",
      "text/plain": [
       "<Figure size 800x600 with 1 Axes>"
      ]
     },
     "metadata": {},
     "output_type": "display_data"
    }
   ],
   "source": [
    "plt.figure(figsize = (8,6))\n",
    "plt.plot(range(1,40),accuracy_rate,linestyle = 'dotted',color = 'b', marker = 'o', markerfacecolor = 'r',markersize='10')\n",
    "plt.xlabel('KNeighbors')\n",
    "plt.ylabel('Accuracy Rate')\n",
    "plt.plot()"
   ]
  },
  {
   "cell_type": "code",
   "execution_count": 13,
   "id": "cce57554",
   "metadata": {},
   "outputs": [],
   "source": [
    "#Selecting k = 25"
   ]
  },
  {
   "cell_type": "code",
   "execution_count": 14,
   "id": "48bc987a",
   "metadata": {},
   "outputs": [],
   "source": [
    "knn = KNeighborsClassifier(n_neighbors=25)"
   ]
  },
  {
   "cell_type": "code",
   "execution_count": 15,
   "id": "bbfc4ae4",
   "metadata": {},
   "outputs": [],
   "source": [
    "model = knn.fit(x_train,y_train)"
   ]
  },
  {
   "cell_type": "code",
   "execution_count": 16,
   "id": "d9278486",
   "metadata": {},
   "outputs": [
    {
     "data": {
      "text/plain": [
       "array([1, 0, 1, 1, 0, 1, 1, 0, 0, 0, 1, 1, 0, 0, 0, 1, 0, 0, 1, 1, 0, 0,\n",
       "       0, 1, 1, 1, 1, 1, 0, 1, 0, 0, 0, 1, 1, 1, 0, 0, 1, 0, 1, 0, 1, 1,\n",
       "       1, 0, 0, 0, 1, 1, 1, 0, 0, 1, 0, 0, 0, 1, 1, 1, 0, 1, 0, 1, 0, 0,\n",
       "       1, 0, 1, 0, 1, 1, 0, 1, 0, 1, 1, 1, 1, 1, 1, 1, 0, 0, 0, 1, 0, 0,\n",
       "       0, 0, 0, 1, 1, 0, 1, 0, 1, 0, 0, 0, 0, 0, 1, 0, 0, 0, 0, 0, 0, 0,\n",
       "       0, 1, 0, 0, 0, 0, 1, 1, 1, 0, 1, 0, 1, 1, 0, 1, 1, 0, 0, 0, 1, 1,\n",
       "       0, 0, 0, 1, 0, 1, 0, 0, 1, 1, 1, 1, 1, 0, 0, 1, 1, 0, 0, 1, 0, 1,\n",
       "       0, 0, 0, 1, 1, 0, 0, 0, 1, 1, 0, 1, 1, 1, 0, 1, 1, 1, 0, 0, 1, 1,\n",
       "       0, 0, 0, 1, 1, 1, 1, 1, 0, 1, 1, 1, 0, 0, 1, 0, 1, 1, 0, 1, 1, 0,\n",
       "       0, 0, 0, 0, 0, 0, 1, 0, 0, 0, 1, 0, 0, 1, 0, 0, 0, 1, 1, 1, 1, 0,\n",
       "       0, 1, 1, 1, 1, 0, 1, 0, 1, 1, 0, 1, 0, 1, 0, 1, 1, 1, 1, 1, 0, 0,\n",
       "       0, 0, 0, 1, 1, 1, 1, 1, 0, 1, 1, 0, 0, 0, 1, 1, 1, 1, 1, 1, 0, 1,\n",
       "       0, 0, 1, 0, 1, 1, 1, 1, 1, 1, 1, 1, 1, 1, 1, 0, 1, 0, 1, 0, 1, 1,\n",
       "       0, 0, 1, 0, 1, 1, 1, 0, 0, 1, 1, 1, 1, 1], dtype=int64)"
      ]
     },
     "execution_count": 16,
     "metadata": {},
     "output_type": "execute_result"
    }
   ],
   "source": [
    "y_pred = model.predict(x_test)\n",
    "y_pred"
   ]
  },
  {
   "cell_type": "code",
   "execution_count": 17,
   "id": "1ae3ebd7",
   "metadata": {},
   "outputs": [],
   "source": [
    "from sklearn.metrics import confusion_matrix, roc_curve, auc"
   ]
  },
  {
   "cell_type": "code",
   "execution_count": 18,
   "id": "3689518e",
   "metadata": {},
   "outputs": [
    {
     "data": {
      "text/plain": [
       "array([[133,  17],\n",
       "       [  9, 141]], dtype=int64)"
      ]
     },
     "execution_count": 18,
     "metadata": {},
     "output_type": "execute_result"
    }
   ],
   "source": [
    "mat = confusion_matrix(y_test,y_pred)\n",
    "mat"
   ]
  },
  {
   "cell_type": "code",
   "execution_count": 19,
   "id": "93a5228b",
   "metadata": {},
   "outputs": [
    {
     "data": {
      "text/plain": [
       "<Axes: >"
      ]
     },
     "execution_count": 19,
     "metadata": {},
     "output_type": "execute_result"
    },
    {
     "data": {
      "image/png": "[encoded data removed]",
      "text/plain": [
       "<Figure size 640x480 with 2 Axes>"
      ]
     },
     "metadata": {},
     "output_type": "display_data"
    }
   ],
   "source": [
    "sns.heatmap(mat,annot=True,square=True,fmt = 'd')"
   ]
  },
  {
   "cell_type": "code",
   "execution_count": 20,
   "id": "0daae6b5",
   "metadata": {},
   "outputs": [],
   "source": [
    "y_probs = model.predict_proba(x_test)"
   ]
  },
  {
   "cell_type": "code",
   "execution_count": 21,
   "id": "cf5f4106",
   "metadata": {},
   "outputs": [],
   "source": [
    "y_probs = y_probs[:,1]"
   ]
  },
  {
   "cell_type": "code",
   "execution_count": 22,
   "id": "3872bef7",
   "metadata": {},
   "outputs": [],
   "source": [
    "fpr,tpr,_ = roc_curve(y_test,y_probs)"
   ]
  },
  {
   "cell_type": "code",
   "execution_count": 23,
   "id": "3ccb2e74",
   "metadata": {},
   "outputs": [
    {
     "data": {
      "text/plain": [
       "0.9818666666666668"
      ]
     },
     "execution_count": 23,
     "metadata": {},
     "output_type": "execute_result"
    }
   ],
   "source": [
    "roc_auc = auc(fpr,tpr)\n",
    "roc_auc"
   ]
  },
  {
   "cell_type": "code",
   "execution_count": 24,
   "id": "1926d84d",
   "metadata": {},
   "outputs": [
    {
     "data": {
      "image/png": "[encoded data removed]",
      "text/plain": [
       "<Figure size 640x480 with 1 Axes>"
      ]
     },
     "metadata": {},
     "output_type": "display_data"
    }
   ],
   "source": [
    "plt.plot(fpr,tpr,label = f'Area under curve is --> {roc_auc}')\n",
    "plt.plot(fpr,fpr)\n",
    "plt.xlabel('False Positive Rate')\n",
    "plt.ylabel('True Positive Rate')\n",
    "plt.legend(loc = 4)\n",
    "plt.show()"
   ]
  },
  {
   "cell_type": "code",
   "execution_count": null,
   "id": "cf9dd2eb",
   "metadata": {},
   "outputs": [],
   "source": []
  },
  {
   "cell_type": "markdown",
   "id": "5329aca7",
   "metadata": {},
   "source": [
    "## Naive Bayes"
   ]
  },
  {
   "cell_type": "code",
   "execution_count": 25,
   "id": "bdcceb30",
   "metadata": {},
   "outputs": [],
   "source": [
    "training = pd.read_csv(r\"C:\\Users\\DeLL\\Documents\\Python Files\\Stats and ML by Garvit\\ML\\NB\\Data+Code\\har_train.csv\")\n",
    "testing = pd.read_csv(r\"C:\\Users\\DeLL\\Documents\\Python Files\\Stats and ML by Garvit\\ML\\NB\\Data+Code\\har_validate.csv\")"
   ]
  },
  {
   "cell_type": "code",
   "execution_count": 26,
   "id": "38cf9ccc",
   "metadata": {},
   "outputs": [
    {
     "data": {
      "text/html": [
       "<div>\n",
       "<style scoped>\n",
       "    .dataframe tbody tr th:only-of-type {\n",
       "        vertical-align: middle;\n",
       "    }\n",
       "\n",
       "    .dataframe tbody tr th {\n",
       "        vertical-align: top;\n",
       "    }\n",
       "\n",
       "    .dataframe thead th {\n",
       "        text-align: right;\n",
       "    }\n",
       "</style>\n",
       "<table border=\"1\" class=\"dataframe\">\n",
       "  <thead>\n",
       "    <tr style=\"text-align: right;\">\n",
       "      <th></th>\n",
       "      <th>classe</th>\n",
       "      <th>roll_belt</th>\n",
       "      <th>pitch_belt</th>\n",
       "      <th>yaw_belt</th>\n",
       "      <th>total_accel_belt</th>\n",
       "      <th>gyros_belt_x</th>\n",
       "      <th>gyros_belt_y</th>\n",
       "      <th>gyros_belt_z</th>\n",
       "      <th>accel_belt_x</th>\n",
       "      <th>accel_belt_y</th>\n",
       "      <th>...</th>\n",
       "      <th>total_accel_forearm</th>\n",
       "      <th>gyros_forearm_x</th>\n",
       "      <th>gyros_forearm_y</th>\n",
       "      <th>gyros_forearm_z</th>\n",
       "      <th>accel_forearm_x</th>\n",
       "      <th>accel_forearm_y</th>\n",
       "      <th>accel_forearm_z</th>\n",
       "      <th>magnet_forearm_x</th>\n",
       "      <th>magnet_forearm_y</th>\n",
       "      <th>magnet_forearm_z</th>\n",
       "    </tr>\n",
       "  </thead>\n",
       "  <tbody>\n",
       "    <tr>\n",
       "      <th>0</th>\n",
       "      <td>A</td>\n",
       "      <td>1.41</td>\n",
       "      <td>8.07</td>\n",
       "      <td>-94.4</td>\n",
       "      <td>3</td>\n",
       "      <td>0.00</td>\n",
       "      <td>0.0</td>\n",
       "      <td>-0.02</td>\n",
       "      <td>-21</td>\n",
       "      <td>4</td>\n",
       "      <td>...</td>\n",
       "      <td>36</td>\n",
       "      <td>0.03</td>\n",
       "      <td>0.00</td>\n",
       "      <td>-0.02</td>\n",
       "      <td>192</td>\n",
       "      <td>203</td>\n",
       "      <td>-215</td>\n",
       "      <td>-17</td>\n",
       "      <td>654</td>\n",
       "      <td>476</td>\n",
       "    </tr>\n",
       "    <tr>\n",
       "      <th>1</th>\n",
       "      <td>A</td>\n",
       "      <td>1.41</td>\n",
       "      <td>8.07</td>\n",
       "      <td>-94.4</td>\n",
       "      <td>3</td>\n",
       "      <td>0.02</td>\n",
       "      <td>0.0</td>\n",
       "      <td>-0.02</td>\n",
       "      <td>-22</td>\n",
       "      <td>4</td>\n",
       "      <td>...</td>\n",
       "      <td>36</td>\n",
       "      <td>0.02</td>\n",
       "      <td>0.00</td>\n",
       "      <td>-0.02</td>\n",
       "      <td>192</td>\n",
       "      <td>203</td>\n",
       "      <td>-216</td>\n",
       "      <td>-18</td>\n",
       "      <td>661</td>\n",
       "      <td>473</td>\n",
       "    </tr>\n",
       "    <tr>\n",
       "      <th>2</th>\n",
       "      <td>A</td>\n",
       "      <td>1.42</td>\n",
       "      <td>8.07</td>\n",
       "      <td>-94.4</td>\n",
       "      <td>3</td>\n",
       "      <td>0.00</td>\n",
       "      <td>0.0</td>\n",
       "      <td>-0.02</td>\n",
       "      <td>-20</td>\n",
       "      <td>5</td>\n",
       "      <td>...</td>\n",
       "      <td>36</td>\n",
       "      <td>0.03</td>\n",
       "      <td>-0.02</td>\n",
       "      <td>0.00</td>\n",
       "      <td>196</td>\n",
       "      <td>204</td>\n",
       "      <td>-213</td>\n",
       "      <td>-18</td>\n",
       "      <td>658</td>\n",
       "      <td>469</td>\n",
       "    </tr>\n",
       "    <tr>\n",
       "      <th>3</th>\n",
       "      <td>A</td>\n",
       "      <td>1.48</td>\n",
       "      <td>8.05</td>\n",
       "      <td>-94.4</td>\n",
       "      <td>3</td>\n",
       "      <td>0.02</td>\n",
       "      <td>0.0</td>\n",
       "      <td>-0.03</td>\n",
       "      <td>-22</td>\n",
       "      <td>3</td>\n",
       "      <td>...</td>\n",
       "      <td>36</td>\n",
       "      <td>0.02</td>\n",
       "      <td>-0.02</td>\n",
       "      <td>0.00</td>\n",
       "      <td>189</td>\n",
       "      <td>206</td>\n",
       "      <td>-214</td>\n",
       "      <td>-16</td>\n",
       "      <td>658</td>\n",
       "      <td>469</td>\n",
       "    </tr>\n",
       "    <tr>\n",
       "      <th>4</th>\n",
       "      <td>A</td>\n",
       "      <td>1.45</td>\n",
       "      <td>8.06</td>\n",
       "      <td>-94.4</td>\n",
       "      <td>3</td>\n",
       "      <td>0.02</td>\n",
       "      <td>0.0</td>\n",
       "      <td>-0.02</td>\n",
       "      <td>-21</td>\n",
       "      <td>4</td>\n",
       "      <td>...</td>\n",
       "      <td>36</td>\n",
       "      <td>0.02</td>\n",
       "      <td>-0.02</td>\n",
       "      <td>-0.03</td>\n",
       "      <td>193</td>\n",
       "      <td>203</td>\n",
       "      <td>-215</td>\n",
       "      <td>-9</td>\n",
       "      <td>660</td>\n",
       "      <td>478</td>\n",
       "    </tr>\n",
       "  </tbody>\n",
       "</table>\n",
       "<p>5 rows × 53 columns</p>\n",
       "</div>"
      ],
      "text/plain": [
       "  classe  roll_belt  pitch_belt  yaw_belt  total_accel_belt  gyros_belt_x  \\\n",
       "0      A       1.41        8.07     -94.4                 3          0.00   \n",
       "1      A       1.41        8.07     -94.4                 3          0.02   \n",
       "2      A       1.42        8.07     -94.4                 3          0.00   \n",
       "3      A       1.48        8.05     -94.4                 3          0.02   \n",
       "4      A       1.45        8.06     -94.4                 3          0.02   \n",
       "\n",
       "   gyros_belt_y  gyros_belt_z  accel_belt_x  accel_belt_y  ...  \\\n",
       "0           0.0         -0.02           -21             4  ...   \n",
       "1           0.0         -0.02           -22             4  ...   \n",
       "2           0.0         -0.02           -20             5  ...   \n",
       "3           0.0         -0.03           -22             3  ...   \n",
       "4           0.0         -0.02           -21             4  ...   \n",
       "\n",
       "   total_accel_forearm  gyros_forearm_x  gyros_forearm_y  gyros_forearm_z  \\\n",
       "0                   36             0.03             0.00            -0.02   \n",
       "1                   36             0.02             0.00            -0.02   \n",
       "2                   36             0.03            -0.02             0.00   \n",
       "3                   36             0.02            -0.02             0.00   \n",
       "4                   36             0.02            -0.02            -0.03   \n",
       "\n",
       "   accel_forearm_x  accel_forearm_y  accel_forearm_z  magnet_forearm_x  \\\n",
       "0              192              203             -215               -17   \n",
       "1              192              203             -216               -18   \n",
       "2              196              204             -213               -18   \n",
       "3              189              206             -214               -16   \n",
       "4              193              203             -215                -9   \n",
       "\n",
       "   magnet_forearm_y  magnet_forearm_z  \n",
       "0               654               476  \n",
       "1               661               473  \n",
       "2               658               469  \n",
       "3               658               469  \n",
       "4               660               478  \n",
       "\n",
       "[5 rows x 53 columns]"
      ]
     },
     "execution_count": 26,
     "metadata": {},
     "output_type": "execute_result"
    }
   ],
   "source": [
    "training.head()"
   ]
  },
  {
   "cell_type": "code",
   "execution_count": 27,
   "id": "c251ecc4",
   "metadata": {},
   "outputs": [
    {
     "data": {
      "text/html": [
       "<div>\n",
       "<style scoped>\n",
       "    .dataframe tbody tr th:only-of-type {\n",
       "        vertical-align: middle;\n",
       "    }\n",
       "\n",
       "    .dataframe tbody tr th {\n",
       "        vertical-align: top;\n",
       "    }\n",
       "\n",
       "    .dataframe thead th {\n",
       "        text-align: right;\n",
       "    }\n",
       "</style>\n",
       "<table border=\"1\" class=\"dataframe\">\n",
       "  <thead>\n",
       "    <tr style=\"text-align: right;\">\n",
       "      <th></th>\n",
       "      <th>classe</th>\n",
       "      <th>roll_belt</th>\n",
       "      <th>pitch_belt</th>\n",
       "      <th>yaw_belt</th>\n",
       "      <th>total_accel_belt</th>\n",
       "      <th>gyros_belt_x</th>\n",
       "      <th>gyros_belt_y</th>\n",
       "      <th>gyros_belt_z</th>\n",
       "      <th>accel_belt_x</th>\n",
       "      <th>accel_belt_y</th>\n",
       "      <th>...</th>\n",
       "      <th>total_accel_forearm</th>\n",
       "      <th>gyros_forearm_x</th>\n",
       "      <th>gyros_forearm_y</th>\n",
       "      <th>gyros_forearm_z</th>\n",
       "      <th>accel_forearm_x</th>\n",
       "      <th>accel_forearm_y</th>\n",
       "      <th>accel_forearm_z</th>\n",
       "      <th>magnet_forearm_x</th>\n",
       "      <th>magnet_forearm_y</th>\n",
       "      <th>magnet_forearm_z</th>\n",
       "    </tr>\n",
       "  </thead>\n",
       "  <tbody>\n",
       "    <tr>\n",
       "      <th>0</th>\n",
       "      <td>A</td>\n",
       "      <td>1.48</td>\n",
       "      <td>8.07</td>\n",
       "      <td>-94.4</td>\n",
       "      <td>3</td>\n",
       "      <td>0.02</td>\n",
       "      <td>0.02</td>\n",
       "      <td>-0.02</td>\n",
       "      <td>-21</td>\n",
       "      <td>2</td>\n",
       "      <td>...</td>\n",
       "      <td>36</td>\n",
       "      <td>0.02</td>\n",
       "      <td>0.00</td>\n",
       "      <td>-0.02</td>\n",
       "      <td>189</td>\n",
       "      <td>206</td>\n",
       "      <td>-214</td>\n",
       "      <td>-17</td>\n",
       "      <td>655.0</td>\n",
       "      <td>473.0</td>\n",
       "    </tr>\n",
       "    <tr>\n",
       "      <th>1</th>\n",
       "      <td>A</td>\n",
       "      <td>1.45</td>\n",
       "      <td>8.17</td>\n",
       "      <td>-94.4</td>\n",
       "      <td>3</td>\n",
       "      <td>0.03</td>\n",
       "      <td>0.00</td>\n",
       "      <td>0.00</td>\n",
       "      <td>-21</td>\n",
       "      <td>4</td>\n",
       "      <td>...</td>\n",
       "      <td>36</td>\n",
       "      <td>0.02</td>\n",
       "      <td>0.00</td>\n",
       "      <td>-0.02</td>\n",
       "      <td>190</td>\n",
       "      <td>205</td>\n",
       "      <td>-215</td>\n",
       "      <td>-22</td>\n",
       "      <td>656.0</td>\n",
       "      <td>473.0</td>\n",
       "    </tr>\n",
       "    <tr>\n",
       "      <th>2</th>\n",
       "      <td>A</td>\n",
       "      <td>1.42</td>\n",
       "      <td>8.21</td>\n",
       "      <td>-94.4</td>\n",
       "      <td>3</td>\n",
       "      <td>0.02</td>\n",
       "      <td>0.00</td>\n",
       "      <td>-0.02</td>\n",
       "      <td>-22</td>\n",
       "      <td>4</td>\n",
       "      <td>...</td>\n",
       "      <td>36</td>\n",
       "      <td>0.00</td>\n",
       "      <td>-0.02</td>\n",
       "      <td>-0.03</td>\n",
       "      <td>193</td>\n",
       "      <td>202</td>\n",
       "      <td>-214</td>\n",
       "      <td>-14</td>\n",
       "      <td>659.0</td>\n",
       "      <td>478.0</td>\n",
       "    </tr>\n",
       "    <tr>\n",
       "      <th>3</th>\n",
       "      <td>A</td>\n",
       "      <td>1.48</td>\n",
       "      <td>8.15</td>\n",
       "      <td>-94.4</td>\n",
       "      <td>3</td>\n",
       "      <td>0.00</td>\n",
       "      <td>0.00</td>\n",
       "      <td>0.00</td>\n",
       "      <td>-21</td>\n",
       "      <td>4</td>\n",
       "      <td>...</td>\n",
       "      <td>36</td>\n",
       "      <td>0.02</td>\n",
       "      <td>0.00</td>\n",
       "      <td>0.00</td>\n",
       "      <td>194</td>\n",
       "      <td>204</td>\n",
       "      <td>-215</td>\n",
       "      <td>-13</td>\n",
       "      <td>656.0</td>\n",
       "      <td>471.0</td>\n",
       "    </tr>\n",
       "    <tr>\n",
       "      <th>4</th>\n",
       "      <td>A</td>\n",
       "      <td>1.51</td>\n",
       "      <td>8.12</td>\n",
       "      <td>-94.4</td>\n",
       "      <td>3</td>\n",
       "      <td>0.00</td>\n",
       "      <td>0.00</td>\n",
       "      <td>-0.02</td>\n",
       "      <td>-21</td>\n",
       "      <td>4</td>\n",
       "      <td>...</td>\n",
       "      <td>36</td>\n",
       "      <td>0.02</td>\n",
       "      <td>-0.02</td>\n",
       "      <td>0.00</td>\n",
       "      <td>192</td>\n",
       "      <td>204</td>\n",
       "      <td>-213</td>\n",
       "      <td>-13</td>\n",
       "      <td>653.0</td>\n",
       "      <td>481.0</td>\n",
       "    </tr>\n",
       "  </tbody>\n",
       "</table>\n",
       "<p>5 rows × 53 columns</p>\n",
       "</div>"
      ],
      "text/plain": [
       "  classe  roll_belt  pitch_belt  yaw_belt  total_accel_belt  gyros_belt_x  \\\n",
       "0      A       1.48        8.07     -94.4                 3          0.02   \n",
       "1      A       1.45        8.17     -94.4                 3          0.03   \n",
       "2      A       1.42        8.21     -94.4                 3          0.02   \n",
       "3      A       1.48        8.15     -94.4                 3          0.00   \n",
       "4      A       1.51        8.12     -94.4                 3          0.00   \n",
       "\n",
       "   gyros_belt_y  gyros_belt_z  accel_belt_x  accel_belt_y  ...  \\\n",
       "0          0.02         -0.02           -21             2  ...   \n",
       "1          0.00          0.00           -21             4  ...   \n",
       "2          0.00         -0.02           -22             4  ...   \n",
       "3          0.00          0.00           -21             4  ...   \n",
       "4          0.00         -0.02           -21             4  ...   \n",
       "\n",
       "   total_accel_forearm  gyros_forearm_x  gyros_forearm_y  gyros_forearm_z  \\\n",
       "0                   36             0.02             0.00            -0.02   \n",
       "1                   36             0.02             0.00            -0.02   \n",
       "2                   36             0.00            -0.02            -0.03   \n",
       "3                   36             0.02             0.00             0.00   \n",
       "4                   36             0.02            -0.02             0.00   \n",
       "\n",
       "   accel_forearm_x  accel_forearm_y  accel_forearm_z  magnet_forearm_x  \\\n",
       "0              189              206             -214               -17   \n",
       "1              190              205             -215               -22   \n",
       "2              193              202             -214               -14   \n",
       "3              194              204             -215               -13   \n",
       "4              192              204             -213               -13   \n",
       "\n",
       "   magnet_forearm_y  magnet_forearm_z  \n",
       "0             655.0             473.0  \n",
       "1             656.0             473.0  \n",
       "2             659.0             478.0  \n",
       "3             656.0             471.0  \n",
       "4             653.0             481.0  \n",
       "\n",
       "[5 rows x 53 columns]"
      ]
     },
     "execution_count": 27,
     "metadata": {},
     "output_type": "execute_result"
    }
   ],
   "source": [
    "testing.head()"
   ]
  },
  {
   "cell_type": "code",
   "execution_count": 28,
   "id": "2c3e6a90",
   "metadata": {},
   "outputs": [
    {
     "data": {
      "text/plain": [
       "array(['A', 'B', 'C', 'D', 'E'], dtype=object)"
      ]
     },
     "execution_count": 28,
     "metadata": {},
     "output_type": "execute_result"
    }
   ],
   "source": [
    "testing['classe'].unique()"
   ]
  },
  {
   "cell_type": "code",
   "execution_count": 29,
   "id": "55478645",
   "metadata": {},
   "outputs": [],
   "source": [
    "x_train = training.drop('classe',axis=1)\n",
    "x_test = testing.drop('classe',axis=1)\n",
    "y_train = training['classe']\n",
    "y_test = testing['classe']"
   ]
  },
  {
   "cell_type": "code",
   "execution_count": 30,
   "id": "f958dbcd",
   "metadata": {},
   "outputs": [],
   "source": [
    "from sklearn.naive_bayes import GaussianNB"
   ]
  },
  {
   "cell_type": "code",
   "execution_count": 31,
   "id": "d4efe6f4",
   "metadata": {},
   "outputs": [],
   "source": [
    "nb = GaussianNB()"
   ]
  },
  {
   "cell_type": "code",
   "execution_count": 32,
   "id": "ec3c0f16",
   "metadata": {},
   "outputs": [],
   "source": [
    "model_nb = nb.fit(x_train,y_train)"
   ]
  },
  {
   "cell_type": "code",
   "execution_count": 33,
   "id": "4e7767a2",
   "metadata": {},
   "outputs": [
    {
     "data": {
      "text/plain": [
       "array(['A', 'A', 'A', ..., 'E', 'E', 'E'], dtype='<U1')"
      ]
     },
     "execution_count": 33,
     "metadata": {},
     "output_type": "execute_result"
    }
   ],
   "source": [
    "y_pred = model_nb.predict(x_test)\n",
    "y_pred"
   ]
  },
  {
   "cell_type": "code",
   "execution_count": 34,
   "id": "918d9b82",
   "metadata": {},
   "outputs": [],
   "source": [
    "from sklearn.metrics import classification_report"
   ]
  },
  {
   "cell_type": "code",
   "execution_count": 35,
   "id": "0de53b35",
   "metadata": {},
   "outputs": [
    {
     "data": {
      "text/plain": [
       "array([[1070,   95,  262,  212,   35],\n",
       "       [ 127,  685,  145,   76,  106],\n",
       "       [ 223,  106,  512,  136,   49],\n",
       "       [ 102,   35,  271,  441,  115],\n",
       "       [  51,  239,   95,  143,  554]], dtype=int64)"
      ]
     },
     "execution_count": 35,
     "metadata": {},
     "output_type": "execute_result"
    }
   ],
   "source": [
    "mat_nb = confusion_matrix(y_test,y_pred)\n",
    "mat_nb"
   ]
  },
  {
   "cell_type": "code",
   "execution_count": 36,
   "id": "dcdacd27",
   "metadata": {},
   "outputs": [
    {
     "data": {
      "text/plain": [
       "<Axes: >"
      ]
     },
     "execution_count": 36,
     "metadata": {},
     "output_type": "execute_result"
    },
    {
     "data": {
      "image/png": "[encoded data removed]",
      "text/plain": [
       "<Figure size 640x480 with 2 Axes>"
      ]
     },
     "metadata": {},
     "output_type": "display_data"
    }
   ],
   "source": [
    "sns.heatmap(mat_nb,annot=True,square=True,fmt='d')"
   ]
  },
  {
   "cell_type": "code",
   "execution_count": 37,
   "id": "6bc17cd1",
   "metadata": {},
   "outputs": [
    {
     "name": "stdout",
     "output_type": "stream",
     "text": [
      "              precision    recall  f1-score   support\n",
      "\n",
      "           A       0.68      0.64      0.66      1674\n",
      "           B       0.59      0.60      0.60      1139\n",
      "           C       0.40      0.50      0.44      1026\n",
      "           D       0.44      0.46      0.45       964\n",
      "           E       0.64      0.51      0.57      1082\n",
      "\n",
      "    accuracy                           0.55      5885\n",
      "   macro avg       0.55      0.54      0.54      5885\n",
      "weighted avg       0.57      0.55      0.56      5885\n",
      "\n"
     ]
    }
   ],
   "source": [
    "print(classification_report(y_test,y_pred))"
   ]
  },
  {
   "cell_type": "code",
   "execution_count": 38,
   "id": "2350b1b8",
   "metadata": {},
   "outputs": [
    {
     "data": {
      "text/plain": [
       "array([[1.00000000e+00, 8.67033396e-12, 1.11749412e-10, 2.33158010e-15,\n",
       "        2.80036028e-14],\n",
       "       [1.00000000e+00, 7.92103883e-12, 1.02026770e-10, 2.60355028e-15,\n",
       "        2.98275208e-14],\n",
       "       [1.00000000e+00, 8.52770295e-12, 1.12167927e-10, 2.37877152e-15,\n",
       "        3.07048141e-14],\n",
       "       ...,\n",
       "       [1.78531082e-10, 1.30633887e-05, 5.12734887e-08, 9.46666375e-06,\n",
       "        9.99977418e-01],\n",
       "       [7.48749320e-10, 2.50865890e-05, 1.30364368e-07, 3.40425485e-05,\n",
       "        9.99940740e-01],\n",
       "       [6.15051691e-09, 1.11654354e-04, 7.42414057e-07, 1.14556638e-04,\n",
       "        9.99773040e-01]])"
      ]
     },
     "execution_count": 38,
     "metadata": {},
     "output_type": "execute_result"
    }
   ],
   "source": [
    "y_probs = model_nb.predict_proba(x_test)\n",
    "y_probs"
   ]
  },
  {
   "cell_type": "code",
   "execution_count": null,
   "id": "6ffafb0d",
   "metadata": {},
   "outputs": [],
   "source": []
  },
  {
   "cell_type": "markdown",
   "id": "6ed34ff4",
   "metadata": {},
   "source": [
    "## Logistic Regression"
   ]
  },
  {
   "cell_type": "code",
   "execution_count": 39,
   "id": "cc921f95",
   "metadata": {},
   "outputs": [
    {
     "data": {
      "text/html": [
       "<div>\n",
       "<style scoped>\n",
       "    .dataframe tbody tr th:only-of-type {\n",
       "        vertical-align: middle;\n",
       "    }\n",
       "\n",
       "    .dataframe tbody tr th {\n",
       "        vertical-align: top;\n",
       "    }\n",
       "\n",
       "    .dataframe thead th {\n",
       "        text-align: right;\n",
       "    }\n",
       "</style>\n",
       "<table border=\"1\" class=\"dataframe\">\n",
       "  <thead>\n",
       "    <tr style=\"text-align: right;\">\n",
       "      <th></th>\n",
       "      <th>User ID</th>\n",
       "      <th>Gender</th>\n",
       "      <th>Age</th>\n",
       "      <th>EstimatedSalary</th>\n",
       "      <th>Purchased</th>\n",
       "    </tr>\n",
       "  </thead>\n",
       "  <tbody>\n",
       "    <tr>\n",
       "      <th>0</th>\n",
       "      <td>15624510</td>\n",
       "      <td>Male</td>\n",
       "      <td>19</td>\n",
       "      <td>19000</td>\n",
       "      <td>0</td>\n",
       "    </tr>\n",
       "    <tr>\n",
       "      <th>1</th>\n",
       "      <td>15810944</td>\n",
       "      <td>Male</td>\n",
       "      <td>35</td>\n",
       "      <td>20000</td>\n",
       "      <td>0</td>\n",
       "    </tr>\n",
       "    <tr>\n",
       "      <th>2</th>\n",
       "      <td>15668575</td>\n",
       "      <td>Female</td>\n",
       "      <td>26</td>\n",
       "      <td>43000</td>\n",
       "      <td>0</td>\n",
       "    </tr>\n",
       "    <tr>\n",
       "      <th>3</th>\n",
       "      <td>15603246</td>\n",
       "      <td>Female</td>\n",
       "      <td>27</td>\n",
       "      <td>57000</td>\n",
       "      <td>0</td>\n",
       "    </tr>\n",
       "    <tr>\n",
       "      <th>4</th>\n",
       "      <td>15804002</td>\n",
       "      <td>Male</td>\n",
       "      <td>19</td>\n",
       "      <td>76000</td>\n",
       "      <td>0</td>\n",
       "    </tr>\n",
       "  </tbody>\n",
       "</table>\n",
       "</div>"
      ],
      "text/plain": [
       "    User ID  Gender  Age  EstimatedSalary  Purchased\n",
       "0  15624510    Male   19            19000          0\n",
       "1  15810944    Male   35            20000          0\n",
       "2  15668575  Female   26            43000          0\n",
       "3  15603246  Female   27            57000          0\n",
       "4  15804002    Male   19            76000          0"
      ]
     },
     "execution_count": 39,
     "metadata": {},
     "output_type": "execute_result"
    }
   ],
   "source": [
    "df = pd.read_csv(r\"C:\\Users\\DeLL\\Documents\\Python Files\\Stats and ML by Garvit\\ML\\Logistic Regression\\Data+Code\\Social_Network_Ads.csv\")\n",
    "df.head()"
   ]
  },
  {
   "cell_type": "code",
   "execution_count": 40,
   "id": "29066a66",
   "metadata": {},
   "outputs": [
    {
     "data": {
      "text/plain": [
       "(400, 5)"
      ]
     },
     "execution_count": 40,
     "metadata": {},
     "output_type": "execute_result"
    }
   ],
   "source": [
    "df.shape"
   ]
  },
  {
   "cell_type": "code",
   "execution_count": 41,
   "id": "2fcc3e13",
   "metadata": {},
   "outputs": [
    {
     "name": "stdout",
     "output_type": "stream",
     "text": [
      "<class 'pandas.core.frame.DataFrame'>\n",
      "RangeIndex: 400 entries, 0 to 399\n",
      "Data columns (total 5 columns):\n",
      " #   Column           Non-Null Count  Dtype \n",
      "---  ------           --------------  ----- \n",
      " 0   User ID          400 non-null    int64 \n",
      " 1   Gender           400 non-null    object\n",
      " 2   Age              400 non-null    int64 \n",
      " 3   EstimatedSalary  400 non-null    int64 \n",
      " 4   Purchased        400 non-null    int64 \n",
      "dtypes: int64(4), object(1)\n",
      "memory usage: 15.8+ KB\n"
     ]
    }
   ],
   "source": [
    "df.info()"
   ]
  },
  {
   "cell_type": "code",
   "execution_count": 42,
   "id": "8463a241",
   "metadata": {},
   "outputs": [],
   "source": [
    "df.describe().T[['mean']] = df.describe().T[['mean']].astype('int')"
   ]
  },
  {
   "cell_type": "code",
   "execution_count": 43,
   "id": "6be8ff2a",
   "metadata": {},
   "outputs": [],
   "source": [
    "Mean = df.describe().T[['mean']].astype('int')"
   ]
  },
  {
   "cell_type": "code",
   "execution_count": 44,
   "id": "70c32ffc",
   "metadata": {},
   "outputs": [],
   "source": [
    "df[['mean']] = Mean"
   ]
  },
  {
   "cell_type": "code",
   "execution_count": 45,
   "id": "8711839d",
   "metadata": {},
   "outputs": [],
   "source": [
    "df.drop('mean',axis=1,inplace=True)"
   ]
  },
  {
   "cell_type": "code",
   "execution_count": 46,
   "id": "bd62d59d",
   "metadata": {},
   "outputs": [],
   "source": [
    "df.describe().T[['Mean']] = Mean"
   ]
  },
  {
   "cell_type": "code",
   "execution_count": 47,
   "id": "b2dc8ee3",
   "metadata": {},
   "outputs": [
    {
     "data": {
      "text/html": [
       "<div>\n",
       "<style scoped>\n",
       "    .dataframe tbody tr th:only-of-type {\n",
       "        vertical-align: middle;\n",
       "    }\n",
       "\n",
       "    .dataframe tbody tr th {\n",
       "        vertical-align: top;\n",
       "    }\n",
       "\n",
       "    .dataframe thead th {\n",
       "        text-align: right;\n",
       "    }\n",
       "</style>\n",
       "<table border=\"1\" class=\"dataframe\">\n",
       "  <thead>\n",
       "    <tr style=\"text-align: right;\">\n",
       "      <th></th>\n",
       "      <th>count</th>\n",
       "      <th>mean</th>\n",
       "      <th>std</th>\n",
       "      <th>min</th>\n",
       "      <th>25%</th>\n",
       "      <th>50%</th>\n",
       "      <th>75%</th>\n",
       "      <th>max</th>\n",
       "    </tr>\n",
       "  </thead>\n",
       "  <tbody>\n",
       "    <tr>\n",
       "      <th>User ID</th>\n",
       "      <td>400.0</td>\n",
       "      <td>1.569154e+07</td>\n",
       "      <td>71658.321581</td>\n",
       "      <td>15566689.0</td>\n",
       "      <td>15626763.75</td>\n",
       "      <td>15694341.5</td>\n",
       "      <td>15750363.0</td>\n",
       "      <td>15815236.0</td>\n",
       "    </tr>\n",
       "    <tr>\n",
       "      <th>Age</th>\n",
       "      <td>400.0</td>\n",
       "      <td>3.765500e+01</td>\n",
       "      <td>10.482877</td>\n",
       "      <td>18.0</td>\n",
       "      <td>29.75</td>\n",
       "      <td>37.0</td>\n",
       "      <td>46.0</td>\n",
       "      <td>60.0</td>\n",
       "    </tr>\n",
       "    <tr>\n",
       "      <th>EstimatedSalary</th>\n",
       "      <td>400.0</td>\n",
       "      <td>6.974250e+04</td>\n",
       "      <td>34096.960282</td>\n",
       "      <td>15000.0</td>\n",
       "      <td>43000.00</td>\n",
       "      <td>70000.0</td>\n",
       "      <td>88000.0</td>\n",
       "      <td>150000.0</td>\n",
       "    </tr>\n",
       "    <tr>\n",
       "      <th>Purchased</th>\n",
       "      <td>400.0</td>\n",
       "      <td>3.575000e-01</td>\n",
       "      <td>0.479864</td>\n",
       "      <td>0.0</td>\n",
       "      <td>0.00</td>\n",
       "      <td>0.0</td>\n",
       "      <td>1.0</td>\n",
       "      <td>1.0</td>\n",
       "    </tr>\n",
       "  </tbody>\n",
       "</table>\n",
       "</div>"
      ],
      "text/plain": [
       "                 count          mean           std         min          25%  \\\n",
       "User ID          400.0  1.569154e+07  71658.321581  15566689.0  15626763.75   \n",
       "Age              400.0  3.765500e+01     10.482877        18.0        29.75   \n",
       "EstimatedSalary  400.0  6.974250e+04  34096.960282     15000.0     43000.00   \n",
       "Purchased        400.0  3.575000e-01      0.479864         0.0         0.00   \n",
       "\n",
       "                        50%         75%         max  \n",
       "User ID          15694341.5  15750363.0  15815236.0  \n",
       "Age                    37.0        46.0        60.0  \n",
       "EstimatedSalary     70000.0     88000.0    150000.0  \n",
       "Purchased               0.0         1.0         1.0  "
      ]
     },
     "execution_count": 47,
     "metadata": {},
     "output_type": "execute_result"
    }
   ],
   "source": [
    "df.describe().T"
   ]
  },
  {
   "cell_type": "code",
   "execution_count": 48,
   "id": "5d12c908",
   "metadata": {},
   "outputs": [
    {
     "data": {
      "text/html": [
       "<div>\n",
       "<style scoped>\n",
       "    .dataframe tbody tr th:only-of-type {\n",
       "        vertical-align: middle;\n",
       "    }\n",
       "\n",
       "    .dataframe tbody tr th {\n",
       "        vertical-align: top;\n",
       "    }\n",
       "\n",
       "    .dataframe thead th {\n",
       "        text-align: right;\n",
       "    }\n",
       "</style>\n",
       "<table border=\"1\" class=\"dataframe\">\n",
       "  <thead>\n",
       "    <tr style=\"text-align: right;\">\n",
       "      <th></th>\n",
       "      <th>User ID</th>\n",
       "      <th>Gender</th>\n",
       "      <th>Age</th>\n",
       "      <th>EstimatedSalary</th>\n",
       "      <th>Purchased</th>\n",
       "    </tr>\n",
       "  </thead>\n",
       "  <tbody>\n",
       "    <tr>\n",
       "      <th>0</th>\n",
       "      <td>15624510</td>\n",
       "      <td>Male</td>\n",
       "      <td>19</td>\n",
       "      <td>19000</td>\n",
       "      <td>0</td>\n",
       "    </tr>\n",
       "    <tr>\n",
       "      <th>1</th>\n",
       "      <td>15810944</td>\n",
       "      <td>Male</td>\n",
       "      <td>35</td>\n",
       "      <td>20000</td>\n",
       "      <td>0</td>\n",
       "    </tr>\n",
       "    <tr>\n",
       "      <th>2</th>\n",
       "      <td>15668575</td>\n",
       "      <td>Female</td>\n",
       "      <td>26</td>\n",
       "      <td>43000</td>\n",
       "      <td>0</td>\n",
       "    </tr>\n",
       "    <tr>\n",
       "      <th>3</th>\n",
       "      <td>15603246</td>\n",
       "      <td>Female</td>\n",
       "      <td>27</td>\n",
       "      <td>57000</td>\n",
       "      <td>0</td>\n",
       "    </tr>\n",
       "    <tr>\n",
       "      <th>4</th>\n",
       "      <td>15804002</td>\n",
       "      <td>Male</td>\n",
       "      <td>19</td>\n",
       "      <td>76000</td>\n",
       "      <td>0</td>\n",
       "    </tr>\n",
       "  </tbody>\n",
       "</table>\n",
       "</div>"
      ],
      "text/plain": [
       "    User ID  Gender  Age  EstimatedSalary  Purchased\n",
       "0  15624510    Male   19            19000          0\n",
       "1  15810944    Male   35            20000          0\n",
       "2  15668575  Female   26            43000          0\n",
       "3  15603246  Female   27            57000          0\n",
       "4  15804002    Male   19            76000          0"
      ]
     },
     "execution_count": 48,
     "metadata": {},
     "output_type": "execute_result"
    }
   ],
   "source": [
    "df.head()"
   ]
  },
  {
   "cell_type": "code",
   "execution_count": 65,
   "id": "6e4afb49",
   "metadata": {},
   "outputs": [],
   "source": [
    "x = df.iloc[:,[2,3]]\n",
    "y = df['Purchased']"
   ]
  },
  {
   "cell_type": "code",
   "execution_count": 52,
   "id": "b9e623c9-0fdd-48dd-b458-84e7e9fc8eae",
   "metadata": {},
   "outputs": [],
   "source": [
    "corr = df.iloc[:,[0,2,3,4]].corr()"
   ]
  },
  {
   "cell_type": "code",
   "execution_count": 53,
   "id": "45639233-5b0f-43f2-8fff-7fa28e28bc36",
   "metadata": {},
   "outputs": [
    {
     "data": {
      "text/html": [
       "<div>\n",
       "<style scoped>\n",
       "    .dataframe tbody tr th:only-of-type {\n",
       "        vertical-align: middle;\n",
       "    }\n",
       "\n",
       "    .dataframe tbody tr th {\n",
       "        vertical-align: top;\n",
       "    }\n",
       "\n",
       "    .dataframe thead th {\n",
       "        text-align: right;\n",
       "    }\n",
       "</style>\n",
       "<table border=\"1\" class=\"dataframe\">\n",
       "  <thead>\n",
       "    <tr style=\"text-align: right;\">\n",
       "      <th></th>\n",
       "      <th>User ID</th>\n",
       "      <th>Age</th>\n",
       "      <th>EstimatedSalary</th>\n",
       "      <th>Purchased</th>\n",
       "    </tr>\n",
       "  </thead>\n",
       "  <tbody>\n",
       "    <tr>\n",
       "      <th>User ID</th>\n",
       "      <td>1.000000</td>\n",
       "      <td>-0.000721</td>\n",
       "      <td>0.071097</td>\n",
       "      <td>0.007120</td>\n",
       "    </tr>\n",
       "    <tr>\n",
       "      <th>Age</th>\n",
       "      <td>-0.000721</td>\n",
       "      <td>1.000000</td>\n",
       "      <td>0.155238</td>\n",
       "      <td>0.622454</td>\n",
       "    </tr>\n",
       "    <tr>\n",
       "      <th>EstimatedSalary</th>\n",
       "      <td>0.071097</td>\n",
       "      <td>0.155238</td>\n",
       "      <td>1.000000</td>\n",
       "      <td>0.362083</td>\n",
       "    </tr>\n",
       "    <tr>\n",
       "      <th>Purchased</th>\n",
       "      <td>0.007120</td>\n",
       "      <td>0.622454</td>\n",
       "      <td>0.362083</td>\n",
       "      <td>1.000000</td>\n",
       "    </tr>\n",
       "  </tbody>\n",
       "</table>\n",
       "</div>"
      ],
      "text/plain": [
       "                  User ID       Age  EstimatedSalary  Purchased\n",
       "User ID          1.000000 -0.000721         0.071097   0.007120\n",
       "Age             -0.000721  1.000000         0.155238   0.622454\n",
       "EstimatedSalary  0.071097  0.155238         1.000000   0.362083\n",
       "Purchased        0.007120  0.622454         0.362083   1.000000"
      ]
     },
     "execution_count": 53,
     "metadata": {},
     "output_type": "execute_result"
    }
   ],
   "source": [
    "corr"
   ]
  },
  {
   "cell_type": "code",
   "execution_count": 58,
   "id": "995939ab-8f42-498e-90e5-f71ba1f59450",
   "metadata": {},
   "outputs": [
    {
     "data": {
      "text/plain": [
       "<Axes: >"
      ]
     },
     "execution_count": 58,
     "metadata": {},
     "output_type": "execute_result"
    },
    {
     "data": {
      "image/png": "[encoded data removed]",
      "text/plain": [
       "<Figure size 640x480 with 2 Axes>"
      ]
     },
     "metadata": {},
     "output_type": "display_data"
    }
   ],
   "source": [
    "sns.heatmap(corr,annot=True)"
   ]
  },
  {
   "cell_type": "code",
   "execution_count": 85,
   "id": "b95d1e9c-316f-474a-bced-01789a605299",
   "metadata": {},
   "outputs": [],
   "source": [
    "x_train = scaler.fit_transform(x_train)\n",
    "x_test = scaler.transform(x_test)"
   ]
  },
  {
   "cell_type": "code",
   "execution_count": 84,
   "id": "2ce9d278-ba47-47cd-ba3e-45ef75bd539e",
   "metadata": {},
   "outputs": [],
   "source": [
    "x_train,x_test,y_train,y_test = train_test_split(x,y,test_size=0.3)"
   ]
  },
  {
   "cell_type": "code",
   "execution_count": 60,
   "id": "dd96c7a8-22b0-478a-bbd9-a4cb4b183478",
   "metadata": {},
   "outputs": [],
   "source": [
    "from sklearn.linear_model import LogisticRegression"
   ]
  },
  {
   "cell_type": "code",
   "execution_count": 61,
   "id": "9d8190de-da73-4033-bb25-b28822fe0d12",
   "metadata": {},
   "outputs": [],
   "source": [
    "lr = LogisticRegression()"
   ]
  },
  {
   "cell_type": "code",
   "execution_count": 86,
   "id": "57e3b7ee-f1f8-4108-984c-a2931ec8ad59",
   "metadata": {},
   "outputs": [],
   "source": [
    "model_lr = lr.fit(x_train,y_train)"
   ]
  },
  {
   "cell_type": "code",
   "execution_count": 87,
   "id": "e1a876e1-f441-4029-9027-a8aa6a24f21c",
   "metadata": {},
   "outputs": [
    {
     "data": {
      "text/plain": [
       "array([0, 1, 0, 1, 0, 0, 0, 1, 0, 0, 1, 1, 0, 0, 1, 1, 0, 0, 1, 1, 0, 1,\n",
       "       0, 0, 0, 1, 1, 0, 0, 0, 0, 0, 1, 0, 0, 0, 1, 0, 0, 0, 1, 0, 0, 0,\n",
       "       0, 0, 0, 1, 0, 0, 1, 0, 0, 0, 0, 0, 1, 1, 0, 0, 0, 0, 0, 0, 0, 0,\n",
       "       0, 0, 0, 0, 0, 1, 0, 0, 0, 0, 0, 0, 1, 0, 0, 1, 1, 1, 1, 1, 1, 1,\n",
       "       0, 0, 0, 0, 1, 0, 1, 0, 0, 0, 0, 0, 0, 0, 1, 1, 1, 1, 1, 0, 0, 1,\n",
       "       0, 0, 0, 0, 1, 0, 0, 0, 0, 0], dtype=int64)"
      ]
     },
     "execution_count": 87,
     "metadata": {},
     "output_type": "execute_result"
    }
   ],
   "source": [
    "y_pred = lr.predict(x_test)\n",
    "y_pred"
   ]
  },
  {
   "cell_type": "code",
   "execution_count": 88,
   "id": "582cf740-55b4-479c-8c74-814aba776cf9",
   "metadata": {},
   "outputs": [
    {
     "data": {
      "text/plain": [
       "array([[74, 10],\n",
       "       [ 9, 27]], dtype=int64)"
      ]
     },
     "execution_count": 88,
     "metadata": {},
     "output_type": "execute_result"
    }
   ],
   "source": [
    "mat_lr = confusion_matrix(y_test,y_pred)\n",
    "mat_lr"
   ]
  },
  {
   "cell_type": "code",
   "execution_count": 90,
   "id": "6bd57331-69fb-4b68-882c-aca3e29cf556",
   "metadata": {},
   "outputs": [
    {
     "data": {
      "text/plain": [
       "<Axes: >"
      ]
     },
     "execution_count": 90,
     "metadata": {},
     "output_type": "execute_result"
    },
    {
     "data": {
      "image/png": "[encoded data removed]",
      "text/plain": [
       "<Figure size 640x480 with 2 Axes>"
      ]
     },
     "metadata": {},
     "output_type": "display_data"
    }
   ],
   "source": [
    "sns.heatmap(mat_lr,annot=True,robust=True)"
   ]
  },
  {
   "cell_type": "markdown",
   "id": "d36dc2ae-ec0f-420e-a319-dd6be9e1ad89",
   "metadata": {},
   "source": [
    "## Visualizing the Training Set Result"
   ]
  },
  {
   "cell_type": "code",
   "execution_count": 78,
   "id": "eb962c78-ed5f-4be5-8023-a50333c5832d",
   "metadata": {},
   "outputs": [],
   "source": [
    "from matplotlib.colors import ListedColormap"
   ]
  },
  {
   "cell_type": "code",
   "execution_count": 94,
   "id": "be7c90a3-cf72-4e72-b2b5-e8608eb3c0b3",
   "metadata": {},
   "outputs": [
    {
     "name": "stderr",
     "output_type": "stream",
     "text": [
      "C:\\Users\\DeLL\\AppData\\Local\\Temp\\ipykernel_3076\\1463037836.py:13: UserWarning: No data for colormapping provided via 'c'. Parameters 'cmap' will be ignored\n",
      "  plt.scatter(x_set[y_set==j,0], x_set[y_set==j,1],\n"
     ]
    },
    {
     "data": {
      "image/png": "[encoded data removed]",
      "text/plain": [
       "<Figure size 640x480 with 1 Axes>"
      ]
     },
     "metadata": {},
     "output_type": "display_data"
    }
   ],
   "source": [
    "x_set,y_set = x_train,y_train\n",
    "\n",
    "x1,x2 = np.meshgrid(np.arange(x_set[:,0].min()-1, x_set[:,0].max()+1, 0.01),\n",
    "                    np.arange(x_set[:,1].min()-1, x_set[:,1].max()+1, 0.01))\n",
    "\n",
    "plt.contourf(x1,x2,model_lr.predict(np.array([x1.ravel(),x2.ravel()]).T).reshape(x1.shape),\n",
    "             alpha = 0.75, cmap = ListedColormap(['black','red']))\n",
    "\n",
    "plt.xlim(x1.min(),x2.max())\n",
    "plt.ylim(x2.min(),x2.max())\n",
    "\n",
    "for i,j in enumerate(np.unique(y_set)):\n",
    "    plt.scatter(x_set[y_set==j,0], x_set[y_set==j,1],\n",
    "                cmap = ListedColormap(['blue','green'])(i), label = j)\n",
    "plt.xlabel('Age')\n",
    "plt.title('Logistic Regression (Train set)')\n",
    "plt.ylabel('Estimated Salary')\n",
    "plt.show()\n"
   ]
  },
  {
   "cell_type": "code",
   "execution_count": 92,
   "id": "2f9adb15-995c-472a-a2ab-8b1e28117cdd",
   "metadata": {},
   "outputs": [
    {
     "data": {
      "text/plain": [
       "array([[ 0.7509493 ,  1.44838766],\n",
       "       [-1.11808007,  0.4628142 ],\n",
       "       [-0.55737126,  0.940668  ],\n",
       "       [-1.86569181,  0.52254593],\n",
       "       [-1.11808007,  0.52254593],\n",
       "       [-1.39843447, -0.61235684],\n",
       "       [ 1.0313037 ,  0.58227765],\n",
       "       [ 1.59201251,  1.83664387],\n",
       "       [ 0.09678902, -0.22410063],\n",
       "       [-0.27701685, -1.38886926],\n",
       "       [-0.65082273,  0.2238873 ],\n",
       "       [ 1.40510958,  0.10442385],\n",
       "       [ 0.28369196, -0.49289339],\n",
       "       [ 1.96581839,  1.83664387],\n",
       "       [-0.09011392, -0.46302753],\n",
       "       [ 0.37714343,  0.34335075],\n",
       "       [-0.46391979,  2.40409526],\n",
       "       [ 0.09678902,  0.82120455],\n",
       "       [-0.18356538,  1.47825352],\n",
       "       [-0.27701685, -1.3590034 ],\n",
       "       [ 1.96581839,  0.2238873 ],\n",
       "       [ 1.59201251, -0.8811496 ],\n",
       "       [-0.18356538,  0.91080214],\n",
       "       [-1.304983  , -1.3590034 ],\n",
       "       [-0.65082273, -1.03047892],\n",
       "       [-0.74427419,  0.55241179],\n",
       "       [ 0.28369196,  0.55241179],\n",
       "       [-0.27701685,  0.85107041],\n",
       "       [ 0.84440077, -0.52275925],\n",
       "       [ 0.7509493 ,  0.16415558],\n",
       "       [-0.09011392, -0.34356408],\n",
       "       [ 1.0313037 , -0.10463718],\n",
       "       [-1.49188594, -0.40329581],\n",
       "       [ 0.37714343, -0.43316167],\n",
       "       [ 0.37714343, -0.10463718],\n",
       "       [-0.55737126, -1.50833271],\n",
       "       [ 0.09678902,  0.13428972],\n",
       "       [-1.0246286 , -1.53819858],\n",
       "       [ 1.21820664,  2.31449767],\n",
       "       [ 1.0313037 ,  0.61214351],\n",
       "       [-0.37046832, -0.76168615],\n",
       "       [-0.18356538, -0.16436891],\n",
       "       [ 0.00333755, -0.28383236],\n",
       "       [-1.77224035, -1.29927168],\n",
       "       [ 1.31165811, -0.91101547],\n",
       "       [ 1.31165811,  2.07557077],\n",
       "       [ 1.31165811, -1.41873513],\n",
       "       [-1.11808007, -1.00061305],\n",
       "       [-0.83772566,  0.19402144],\n",
       "       [ 1.0313037 ,  2.16516836],\n",
       "       [-0.74427419,  1.98597318],\n",
       "       [ 1.0313037 ,  0.52254593],\n",
       "       [-0.27701685, -0.73182029],\n",
       "       [ 1.68546398, -0.25396649],\n",
       "       [-1.39843447, -1.44860099],\n",
       "       [-1.77224035, -1.41873513],\n",
       "       [-1.304983  ,  0.4628142 ],\n",
       "       [ 1.0313037 , -0.8811496 ],\n",
       "       [-1.67878888,  0.40308248],\n",
       "       [ 0.93785224, -1.17980823],\n",
       "       [ 0.7509493 , -1.20967409],\n",
       "       [-0.83772566, -0.76168615],\n",
       "       [ 0.09678902,  0.19402144],\n",
       "       [ 1.12475517, -1.44860099],\n",
       "       [ 1.77891545,  1.59771697],\n",
       "       [ 0.28369196, -0.52275925],\n",
       "       [-0.74427419, -1.53819858],\n",
       "       [-1.58533741,  0.10442385],\n",
       "       [-0.55737126,  1.98597318],\n",
       "       [ 0.65749783, -0.70195443],\n",
       "       [-0.46391979, -0.25396649],\n",
       "       [-1.0246286 ,  0.58227765],\n",
       "       [-0.27701685,  1.1795949 ],\n",
       "       [ 0.19024049,  0.07455799],\n",
       "       [-0.74427419,  0.34335075],\n",
       "       [ 0.00333755,  1.29905835],\n",
       "       [-1.77224035, -1.26940581],\n",
       "       [ 0.28369196,  0.07455799],\n",
       "       [ 0.37714343,  2.40409526],\n",
       "       [-0.18356538, -0.55262512],\n",
       "       [-1.0246286 , -1.44860099],\n",
       "       [-0.18356538,  0.19402144],\n",
       "       [ 0.37714343,  0.31348489],\n",
       "       [ 0.19024049,  0.19402144],\n",
       "       [-0.93117713,  0.55241179],\n",
       "       [-0.27701685, -0.46302753],\n",
       "       [-0.37046832,  0.10442385],\n",
       "       [ 1.77891545,  0.16415558],\n",
       "       [-0.83772566, -1.20967409],\n",
       "       [ 0.09678902,  0.07455799],\n",
       "       [ 0.37714343,  0.64200938],\n",
       "       [ 0.47059489,  1.29905835],\n",
       "       [-0.18356538,  1.71718042],\n",
       "       [ 0.37714343, -0.46302753],\n",
       "       [-0.27701685, -0.55262512],\n",
       "       [-0.83772566, -0.22410063],\n",
       "       [ 1.96581839,  2.22490008],\n",
       "       [ 0.93785224,  0.64200938],\n",
       "       [ 0.93785224,  1.95610732],\n",
       "       [-1.0246286 ,  0.4628142 ],\n",
       "       [ 0.93785224, -1.14994236],\n",
       "       [ 1.31165811,  1.35879007],\n",
       "       [-0.27701685, -0.6422227 ],\n",
       "       [ 0.84440077,  1.32892421],\n",
       "       [ 1.59201251,  1.68731456],\n",
       "       [-0.09011392,  0.28361903],\n",
       "       [ 0.28369196,  0.10442385],\n",
       "       [-1.86569181,  0.40308248],\n",
       "       [ 1.49856105,  0.04469213],\n",
       "       [-0.27701685, -0.34356408],\n",
       "       [ 1.31165811,  0.64200938],\n",
       "       [ 0.28369196,  0.10442385],\n",
       "       [-0.74427419,  1.14972904],\n",
       "       [-1.58533741, -1.56806444],\n",
       "       [-0.93117713,  0.61214351],\n",
       "       [ 0.84440077, -0.55262512],\n",
       "       [-0.93117713, -0.28383236],\n",
       "       [ 0.09678902, -0.79155202],\n",
       "       [ 1.77891545, -0.25396649],\n",
       "       [-1.0246286 ,  0.82120455],\n",
       "       [ 0.19024049, -0.34356408],\n",
       "       [ 1.0313037 ,  0.16415558],\n",
       "       [ 0.93785224,  1.50811939],\n",
       "       [ 0.00333755,  0.34335075],\n",
       "       [ 0.00333755, -0.55262512],\n",
       "       [ 1.77891545, -1.26940581],\n",
       "       [ 1.0313037 , -0.97074719],\n",
       "       [ 0.09678902,  0.25375317],\n",
       "       [-1.67878888, -0.58249098],\n",
       "       [-1.67878888, -1.3590034 ],\n",
       "       [-0.09011392,  0.73160696],\n",
       "       [-0.18356538, -0.43316167],\n",
       "       [-0.27701685, -1.44860099],\n",
       "       [-0.65082273,  1.47825352],\n",
       "       [-0.09011392,  0.19402144],\n",
       "       [-1.49188594, -0.16436891],\n",
       "       [ 2.05926986, -0.67208857],\n",
       "       [-1.67878888,  0.16415558],\n",
       "       [-0.37046832,  1.38865594],\n",
       "       [ 0.65749783,  1.86650973],\n",
       "       [-1.86569181, -0.49289339],\n",
       "       [-0.27701685, -0.40329581],\n",
       "       [ 1.87236692, -1.3590034 ],\n",
       "       [ 0.84440077,  1.14972904],\n",
       "       [-0.27701685,  0.10442385],\n",
       "       [-0.09011392,  0.34335075],\n",
       "       [-0.93117713, -0.94088133],\n",
       "       [ 0.84440077, -0.76168615],\n",
       "       [-0.74427419,  0.31348489],\n",
       "       [ 0.7509493 , -0.28383236],\n",
       "       [ 0.19024049,  0.10442385],\n",
       "       [ 0.00333755, -0.22410063],\n",
       "       [ 2.05926986,  1.1795949 ],\n",
       "       [ 0.93785224, -0.82141788],\n",
       "       [-0.55737126, -1.50833271],\n",
       "       [-0.27701685, -0.31369822],\n",
       "       [-0.18356538,  1.68731456],\n",
       "       [ 0.19024049, -0.10463718],\n",
       "       [ 0.19024049, -0.6422227 ],\n",
       "       [-1.11808007,  1.47825352],\n",
       "       [-0.09011392,  0.16415558],\n",
       "       [-1.11808007, -1.5979303 ],\n",
       "       [-0.65082273,  0.16415558],\n",
       "       [-0.09011392,  0.10442385],\n",
       "       [-0.18356538, -0.49289339],\n",
       "       [ 1.21820664,  1.95610732],\n",
       "       [-0.83772566,  0.34335075],\n",
       "       [-0.93117713, -1.09021064],\n",
       "       [-0.18356538, -1.06034478],\n",
       "       [-1.11808007, -0.49289339],\n",
       "       [-0.65082273,  0.61214351],\n",
       "       [ 2.05926986, -0.79155202],\n",
       "       [ 0.09678902,  0.31348489],\n",
       "       [ 0.84440077,  1.08999731],\n",
       "       [ 0.28369196, -1.14994236],\n",
       "       [ 0.28369196, -0.16436891],\n",
       "       [-1.11808007,  0.34335075],\n",
       "       [-1.0246286 , -1.1200765 ],\n",
       "       [-0.09011392, -0.49289339],\n",
       "       [ 1.77891545, -1.06034478],\n",
       "       [-0.27701685, -1.29927168],\n",
       "       [ 0.37714343,  1.1795949 ],\n",
       "       [-0.74427419, -1.5979303 ],\n",
       "       [-1.67878888,  0.40308248],\n",
       "       [ 0.37714343,  0.19402144],\n",
       "       [ 0.84440077, -1.14994236],\n",
       "       [-1.304983  , -1.47846685],\n",
       "       [-1.86569181, -0.01503959],\n",
       "       [-0.46391979,  1.32892421],\n",
       "       [ 0.84440077, -1.44860099],\n",
       "       [-0.09011392,  0.07455799],\n",
       "       [-0.83772566,  0.43294834],\n",
       "       [ 0.93785224,  0.16415558],\n",
       "       [ 0.00333755,  0.07455799],\n",
       "       [ 0.93785224,  1.86650973],\n",
       "       [ 1.96581839,  0.58227765],\n",
       "       [-0.27701685, -0.55262512],\n",
       "       [ 0.19024049, -0.25396649],\n",
       "       [ 0.28369196, -0.49289339],\n",
       "       [-0.65082273, -0.07477132],\n",
       "       [-1.77224035,  0.2238873 ],\n",
       "       [-1.11808007, -1.56806444],\n",
       "       [-1.11808007, -1.14994236],\n",
       "       [ 1.87236692,  2.25476594],\n",
       "       [-0.74427419, -0.58249098],\n",
       "       [-1.39843447, -0.07477132],\n",
       "       [ 0.47059489,  1.80677801],\n",
       "       [-1.0246286 ,  0.61214351],\n",
       "       [ 0.56404636,  2.10543663],\n",
       "       [-0.09011392,  2.04570491],\n",
       "       [ 0.7509493 ,  0.58227765],\n",
       "       [ 0.00333755,  0.07455799],\n",
       "       [ 2.05926986,  1.00039973],\n",
       "       [-0.09011392,  0.04469213],\n",
       "       [ 0.00333755, -0.10463718],\n",
       "       [ 0.7509493 ,  0.82120455],\n",
       "       [-0.83772566,  2.37422939],\n",
       "       [-1.11808007, -0.76168615],\n",
       "       [ 0.93785224, -1.06034478],\n",
       "       [ 0.19024049, -0.22410063],\n",
       "       [-1.77224035, -1.47846685],\n",
       "       [-0.46391979, -0.76168615],\n",
       "       [ 0.93785224,  0.82120455],\n",
       "       [ 1.49856105,  1.06013145],\n",
       "       [-0.09011392,  0.34335075],\n",
       "       [ 0.00333755,  1.32892421],\n",
       "       [-1.0246286 ,  0.64200938],\n",
       "       [ 2.05926986, -0.79155202],\n",
       "       [-1.49188594, -1.23953995],\n",
       "       [-0.09011392, -0.19423477],\n",
       "       [ 0.84440077, -0.6422227 ],\n",
       "       [-1.11808007, -1.5979303 ],\n",
       "       [ 0.09678902, -0.79155202],\n",
       "       [-0.65082273, -0.01503959],\n",
       "       [ 0.84440077,  2.25476594],\n",
       "       [ 1.40510958,  1.06013145],\n",
       "       [-1.0246286 , -0.31369822],\n",
       "       [ 1.40510958, -1.03047892],\n",
       "       [-0.93117713, -0.40329581],\n",
       "       [-1.67878888, -0.97074719],\n",
       "       [ 0.7509493 ,  0.31348489],\n",
       "       [-0.37046832, -1.29927168],\n",
       "       [-0.93117713, -0.28383236],\n",
       "       [ 0.00333755, -0.55262512],\n",
       "       [-0.27701685, -0.8811496 ],\n",
       "       [-1.49188594,  0.37321662],\n",
       "       [ 0.84440077, -1.29927168],\n",
       "       [-0.27701685,  0.07455799],\n",
       "       [ 1.12475517, -0.97074719],\n",
       "       [ 0.09678902, -0.28383236],\n",
       "       [ 0.93785224, -1.06034478],\n",
       "       [-0.83772566,  0.43294834],\n",
       "       [ 0.84440077, -0.58249098],\n",
       "       [ 0.65749783, -1.38886926],\n",
       "       [ 1.21820664, -1.3590034 ],\n",
       "       [-1.77224035,  0.04469213],\n",
       "       [-1.0246286 ,  2.04570491],\n",
       "       [-1.49188594, -1.50833271],\n",
       "       [-1.11808007,  0.34335075],\n",
       "       [ 0.28369196,  0.31348489],\n",
       "       [ 0.7509493 , -1.09021064],\n",
       "       [-0.55737126,  1.53798525],\n",
       "       [ 1.0313037 , -1.20967409],\n",
       "       [ 0.84440077, -1.03047892],\n",
       "       [ 0.28369196,  0.10442385],\n",
       "       [-1.11808007,  0.37321662],\n",
       "       [ 0.65749783, -1.38886926],\n",
       "       [-0.27701685,  0.10442385],\n",
       "       [ 2.05926986,  0.43294834],\n",
       "       [-0.65082273, -1.50833271],\n",
       "       [ 0.37714343, -0.13450304],\n",
       "       [ 1.87236692,  0.79133869],\n",
       "       [-0.37046832, -0.76168615],\n",
       "       [ 0.7509493 , -0.82141788],\n",
       "       [-1.58533741, -0.01503959],\n",
       "       [-1.304983  , -0.31369822],\n",
       "       [-0.93117713,  0.4628142 ],\n",
       "       [ 2.05926986, -1.03047892],\n",
       "       [ 0.28369196,  0.10442385],\n",
       "       [ 0.37714343,  1.06013145]])"
      ]
     },
     "execution_count": 92,
     "metadata": {},
     "output_type": "execute_result"
    }
   ],
   "source": [
    "x_train"
   ]
  },
  {
   "cell_type": "code",
   "execution_count": 95,
   "id": "9efe2094-6420-46f0-9477-6080399d71f2",
   "metadata": {},
   "outputs": [
    {
     "name": "stdout",
     "output_type": "stream",
     "text": [
      "              precision    recall  f1-score   support\n",
      "\n",
      "           0       0.89      0.88      0.89        84\n",
      "           1       0.73      0.75      0.74        36\n",
      "\n",
      "    accuracy                           0.84       120\n",
      "   macro avg       0.81      0.82      0.81       120\n",
      "weighted avg       0.84      0.84      0.84       120\n",
      "\n"
     ]
    }
   ],
   "source": [
    "print(classification_report(y_test,y_pred))"
   ]
  },
  {
   "cell_type": "code",
   "execution_count": 97,
   "id": "91c955d4-0fe2-4783-aac5-f38d2f5671ad",
   "metadata": {},
   "outputs": [],
   "source": [
    "y_probs = model_lr.predict_proba(x_test)\n",
    "y_probs = y_probs[:,1]"
   ]
  },
  {
   "cell_type": "code",
   "execution_count": 98,
   "id": "dd32dfcc-b426-4d8f-a9fe-e27ca1a85519",
   "metadata": {},
   "outputs": [
    {
     "data": {
      "text/plain": [
       "0.9065806878306879"
      ]
     },
     "execution_count": 98,
     "metadata": {},
     "output_type": "execute_result"
    }
   ],
   "source": [
    "fpr,tpr,_ = roc_curve(y_test,y_probs)\n",
    "roc_auc = auc(fpr,tpr)\n",
    "roc_auc"
   ]
  },
  {
   "cell_type": "code",
   "execution_count": 99,
   "id": "d2229938-15ea-40b2-b95e-e8cc7dfaddab",
   "metadata": {},
   "outputs": [
    {
     "data": {
      "image/png": "[encoded data removed]",
      "text/plain": [
       "<Figure size 640x480 with 1 Axes>"
      ]
     },
     "metadata": {},
     "output_type": "display_data"
    }
   ],
   "source": [
    "plt.plot(fpr,tpr,label = f'Area is --> {roc_auc}')\n",
    "plt.plot(fpr,fpr)\n",
    "plt.xlabel('False Postitive Rate')\n",
    "plt.ylabel('True Positive Rate')\n",
    "plt.legend(loc = 4)\n",
    "plt.show()"
   ]
  },
  {
   "cell_type": "markdown",
   "id": "b217b13d-b966-42d9-99bc-82ec73f3b8ca",
   "metadata": {},
   "source": [
    "## Visualizing the Test Set Result"
   ]
  },
  {
   "cell_type": "code",
   "execution_count": 107,
   "id": "cd023b9a-9171-4946-a717-86a75d6b0e7f",
   "metadata": {},
   "outputs": [
    {
     "name": "stderr",
     "output_type": "stream",
     "text": [
      "C:\\Users\\DeLL\\AppData\\Local\\Temp\\ipykernel_3076\\2875637439.py:13: UserWarning: No data for colormapping provided via 'c'. Parameters 'cmap' will be ignored\n",
      "  plt.scatter(x_set[y_set==j,0], x_set[y_set==j,1],\n"
     ]
    },
    {
     "data": {
      "image/png": "[encoded data removed]",
      "text/plain": [
       "<Figure size 640x480 with 1 Axes>"
      ]
     },
     "metadata": {},
     "output_type": "display_data"
    }
   ],
   "source": [
    "x_set,y_set = x_test,y_test\n",
    "\n",
    "x1,x2 = np.meshgrid(np.arange(x_set[:,0].min()-1, x_set[:,0].max()+1, 0.01),\n",
    "                    np.arange(x_set[:,1].min()-1, x_set[:,1].max()+1, 0.01))\n",
    "\n",
    "plt.contourf(x1,x2,model_lr.predict(np.array([x1.ravel(),x2.ravel()]).T).reshape(x1.shape),\n",
    "             alpha = 0.75, cmap = ListedColormap(['black','blue']))\n",
    "\n",
    "plt.xlim(x1.min(), x1.max())\n",
    "plt.ylim(x2.min(), x2.max())\n",
    "\n",
    "for i,j in enumerate(np.unique(y_set)):\n",
    "    plt.scatter(x_set[y_set==j,0], x_set[y_set==j,1],\n",
    "                cmap = ListedColormap(['red','yellow'])(i), label = j)\n",
    "\n",
    "plt.title('Logistic Regression (Test set)')\n",
    "plt.xlabel('Age')\n",
    "plt.ylabel('Estimated Salary')\n",
    "plt.legend()\n",
    "plt.show()"
   ]
  },
  {
   "cell_type": "code",
   "execution_count": 108,
   "id": "fe591f2f-dfed-4c43-85d6-b943d58e239b",
   "metadata": {},
   "outputs": [
    {
     "data": {
      "text/html": [
       "<div>\n",
       "<style scoped>\n",
       "    .dataframe tbody tr th:only-of-type {\n",
       "        vertical-align: middle;\n",
       "    }\n",
       "\n",
       "    .dataframe tbody tr th {\n",
       "        vertical-align: top;\n",
       "    }\n",
       "\n",
       "    .dataframe thead th {\n",
       "        text-align: right;\n",
       "    }\n",
       "</style>\n",
       "<table border=\"1\" class=\"dataframe\">\n",
       "  <thead>\n",
       "    <tr style=\"text-align: right;\">\n",
       "      <th></th>\n",
       "      <th>User ID</th>\n",
       "      <th>Gender</th>\n",
       "      <th>Age</th>\n",
       "      <th>EstimatedSalary</th>\n",
       "      <th>Purchased</th>\n",
       "    </tr>\n",
       "  </thead>\n",
       "  <tbody>\n",
       "    <tr>\n",
       "      <th>0</th>\n",
       "      <td>15624510</td>\n",
       "      <td>Male</td>\n",
       "      <td>19</td>\n",
       "      <td>19000</td>\n",
       "      <td>0</td>\n",
       "    </tr>\n",
       "    <tr>\n",
       "      <th>1</th>\n",
       "      <td>15810944</td>\n",
       "      <td>Male</td>\n",
       "      <td>35</td>\n",
       "      <td>20000</td>\n",
       "      <td>0</td>\n",
       "    </tr>\n",
       "    <tr>\n",
       "      <th>2</th>\n",
       "      <td>15668575</td>\n",
       "      <td>Female</td>\n",
       "      <td>26</td>\n",
       "      <td>43000</td>\n",
       "      <td>0</td>\n",
       "    </tr>\n",
       "    <tr>\n",
       "      <th>3</th>\n",
       "      <td>15603246</td>\n",
       "      <td>Female</td>\n",
       "      <td>27</td>\n",
       "      <td>57000</td>\n",
       "      <td>0</td>\n",
       "    </tr>\n",
       "    <tr>\n",
       "      <th>4</th>\n",
       "      <td>15804002</td>\n",
       "      <td>Male</td>\n",
       "      <td>19</td>\n",
       "      <td>76000</td>\n",
       "      <td>0</td>\n",
       "    </tr>\n",
       "  </tbody>\n",
       "</table>\n",
       "</div>"
      ],
      "text/plain": [
       "    User ID  Gender  Age  EstimatedSalary  Purchased\n",
       "0  15624510    Male   19            19000          0\n",
       "1  15810944    Male   35            20000          0\n",
       "2  15668575  Female   26            43000          0\n",
       "3  15603246  Female   27            57000          0\n",
       "4  15804002    Male   19            76000          0"
      ]
     },
     "execution_count": 108,
     "metadata": {},
     "output_type": "execute_result"
    }
   ],
   "source": [
    "df.head()"
   ]
  },
  {
   "cell_type": "code",
   "execution_count": 109,
   "id": "b49e0561-a22b-4508-a591-0d3826d9495d",
   "metadata": {},
   "outputs": [],
   "source": [
    "x = df.iloc[:,[1,2,3]]\n",
    "y = df['Purchased']"
   ]
  },
  {
   "cell_type": "code",
   "execution_count": 116,
   "id": "906cf626-dc23-4a9c-b2f3-af186cba3eed",
   "metadata": {},
   "outputs": [],
   "source": [
    "from sklearn.preprocessing import LabelEncoder"
   ]
  },
  {
   "cell_type": "code",
   "execution_count": 117,
   "id": "0297b512-26f0-4144-84f7-49f47f294370",
   "metadata": {},
   "outputs": [
    {
     "name": "stderr",
     "output_type": "stream",
     "text": [
      "C:\\Users\\DeLL\\AppData\\Local\\Temp\\ipykernel_3076\\3149771068.py:2: SettingWithCopyWarning: \n",
      "A value is trying to be set on a copy of a slice from a DataFrame.\n",
      "Try using .loc[row_indexer,col_indexer] = value instead\n",
      "\n",
      "See the caveats in the documentation: https://pandas.pydata.org/pandas-docs/stable/user_guide/indexing.html#returning-a-view-versus-a-copy\n",
      "  x['Gender'] = label.fit_transform(x['Gender'])\n"
     ]
    }
   ],
   "source": [
    "label = LabelEncoder()\n",
    "x['Gender'] = label.fit_transform(x['Gender'])"
   ]
  },
  {
   "cell_type": "code",
   "execution_count": 122,
   "id": "951b0bef-c54c-4192-ad0c-140e4bfb8263",
   "metadata": {},
   "outputs": [],
   "source": [
    "x_train,x_test,y_train,y_test = train_test_split(x.values,y.values,test_size=0.3)"
   ]
  },
  {
   "cell_type": "code",
   "execution_count": 123,
   "id": "54e8d751-2b98-4b69-8c6a-3ac07d162a61",
   "metadata": {},
   "outputs": [
    {
     "name": "stderr",
     "output_type": "stream",
     "text": [
      "C:\\Users\\DeLL\\anaconda3\\Lib\\site-packages\\sklearn\\linear_model\\_logistic.py:469: ConvergenceWarning: lbfgs failed to converge (status=1):\n",
      "STOP: TOTAL NO. of ITERATIONS REACHED LIMIT.\n",
      "\n",
      "Increase the number of iterations (max_iter) or scale the data as shown in:\n",
      "    https://scikit-learn.org/stable/modules/preprocessing.html\n",
      "Please also refer to the documentation for alternative solver options:\n",
      "    https://scikit-learn.org/stable/modules/linear_model.html#logistic-regression\n",
      "  n_iter_i = _check_optimize_result(\n"
     ]
    }
   ],
   "source": [
    "model_lr1 = lr.fit(x_train,y_train)"
   ]
  },
  {
   "cell_type": "code",
   "execution_count": 125,
   "id": "daadf690-d717-4fb4-b625-4bb8ae5868e9",
   "metadata": {},
   "outputs": [
    {
     "data": {
      "text/plain": [
       "array([0, 0, 0, 1, 0, 0, 0, 1, 1, 1, 0, 1, 1, 1, 0, 1, 0, 1, 0, 0, 0, 0,\n",
       "       1, 0, 1, 1, 0, 0, 1, 0, 0, 1, 1, 0, 0, 1, 1, 0, 1, 0, 0, 0, 0, 0,\n",
       "       0, 0, 0, 1, 1, 1, 0, 0, 1, 0, 0, 0, 0, 1, 1, 0, 0, 0, 0, 0, 0, 1,\n",
       "       0, 0, 1, 1, 0, 0, 1, 0, 1, 1, 1, 0, 1, 0, 0, 0, 1, 0, 0, 0, 1, 0,\n",
       "       1, 0, 0, 1, 1, 1, 1, 1, 0, 0, 0, 1, 1, 0, 1, 0, 0, 0, 0, 0, 0, 0,\n",
       "       1, 0, 1, 1, 0, 0, 1, 0, 0, 0], dtype=int64)"
      ]
     },
     "execution_count": 125,
     "metadata": {},
     "output_type": "execute_result"
    }
   ],
   "source": [
    "y_pred = model_lr1.predict(x_test)\n",
    "y_pred"
   ]
  },
  {
   "cell_type": "code",
   "execution_count": 126,
   "id": "276ef6f0-dc7e-4ae1-8ac3-634856c9ee99",
   "metadata": {},
   "outputs": [
    {
     "name": "stdout",
     "output_type": "stream",
     "text": [
      "              precision    recall  f1-score   support\n",
      "\n",
      "           0       0.80      0.86      0.83        73\n",
      "           1       0.76      0.66      0.70        47\n",
      "\n",
      "    accuracy                           0.78       120\n",
      "   macro avg       0.78      0.76      0.77       120\n",
      "weighted avg       0.78      0.78      0.78       120\n",
      "\n"
     ]
    }
   ],
   "source": [
    "print(classification_report(y_pred,y_test))"
   ]
  },
  {
   "cell_type": "code",
   "execution_count": 128,
   "id": "f15aae6c-826d-4213-8074-9db12658c7ad",
   "metadata": {},
   "outputs": [],
   "source": [
    "y_probs = model_lr1.predict_proba(x_test)\n",
    "y_probs = y_probs[:,1]"
   ]
  },
  {
   "cell_type": "code",
   "execution_count": 129,
   "id": "1efa1f0c-b7be-48b6-85da-1208e16adfde",
   "metadata": {},
   "outputs": [],
   "source": [
    "fpr,tpr,_ = roc_curve(y_test,y_probs)\n",
    "roc_auc = auc(fpr,tpr)"
   ]
  },
  {
   "cell_type": "code",
   "execution_count": 130,
   "id": "df3b55a2-665e-4787-aac6-12dc4be0e523",
   "metadata": {},
   "outputs": [
    {
     "data": {
      "text/plain": [
       "0.8978079654214264"
      ]
     },
     "execution_count": 130,
     "metadata": {},
     "output_type": "execute_result"
    }
   ],
   "source": [
    "roc_auc"
   ]
  },
  {
   "cell_type": "code",
   "execution_count": 131,
   "id": "bb7db855-a036-4383-a50b-cf7e9f131b20",
   "metadata": {},
   "outputs": [
    {
     "data": {
      "image/png": "[encoded data removed]",
      "text/plain": [
       "<Figure size 640x480 with 1 Axes>"
      ]
     },
     "metadata": {},
     "output_type": "display_data"
    }
   ],
   "source": [
    "plt.plot(fpr,tpr,label = f'Area is --> {roc_auc}')\n",
    "plt.plot(fpr,fpr)\n",
    "plt.xlabel('False Postitive Rate')\n",
    "plt.ylabel('True Positive Rate')\n",
    "plt.legend(loc = 4)\n",
    "plt.show()"
   ]
  },
  {
   "cell_type": "code",
   "execution_count": null,
   "id": "5b879d46-6c07-4055-a7a7-38d961b1eec4",
   "metadata": {},
   "outputs": [],
   "source": []
  },
  {
   "cell_type": "markdown",
   "id": "5ec51717-6268-4cd6-b27c-769e082a450a",
   "metadata": {},
   "source": [
    "## Linear Regression"
   ]
  },
  {
   "cell_type": "code",
   "execution_count": 133,
   "id": "3c5639df-ba65-4074-b751-2f04e269b112",
   "metadata": {},
   "outputs": [
    {
     "data": {
      "text/html": [
       "<div>\n",
       "<style scoped>\n",
       "    .dataframe tbody tr th:only-of-type {\n",
       "        vertical-align: middle;\n",
       "    }\n",
       "\n",
       "    .dataframe tbody tr th {\n",
       "        vertical-align: top;\n",
       "    }\n",
       "\n",
       "    .dataframe thead th {\n",
       "        text-align: right;\n",
       "    }\n",
       "</style>\n",
       "<table border=\"1\" class=\"dataframe\">\n",
       "  <thead>\n",
       "    <tr style=\"text-align: right;\">\n",
       "      <th></th>\n",
       "      <th>TV</th>\n",
       "      <th>Radio</th>\n",
       "      <th>Newspaper</th>\n",
       "      <th>Sales</th>\n",
       "    </tr>\n",
       "  </thead>\n",
       "  <tbody>\n",
       "    <tr>\n",
       "      <th>1</th>\n",
       "      <td>230.1</td>\n",
       "      <td>37.8</td>\n",
       "      <td>69.2</td>\n",
       "      <td>22.1</td>\n",
       "    </tr>\n",
       "    <tr>\n",
       "      <th>2</th>\n",
       "      <td>44.5</td>\n",
       "      <td>39.3</td>\n",
       "      <td>45.1</td>\n",
       "      <td>10.4</td>\n",
       "    </tr>\n",
       "    <tr>\n",
       "      <th>3</th>\n",
       "      <td>17.2</td>\n",
       "      <td>45.9</td>\n",
       "      <td>69.3</td>\n",
       "      <td>9.3</td>\n",
       "    </tr>\n",
       "    <tr>\n",
       "      <th>4</th>\n",
       "      <td>151.5</td>\n",
       "      <td>41.3</td>\n",
       "      <td>58.5</td>\n",
       "      <td>18.5</td>\n",
       "    </tr>\n",
       "    <tr>\n",
       "      <th>5</th>\n",
       "      <td>180.8</td>\n",
       "      <td>10.8</td>\n",
       "      <td>58.4</td>\n",
       "      <td>12.9</td>\n",
       "    </tr>\n",
       "  </tbody>\n",
       "</table>\n",
       "</div>"
      ],
      "text/plain": [
       "      TV  Radio  Newspaper  Sales\n",
       "1  230.1   37.8       69.2   22.1\n",
       "2   44.5   39.3       45.1   10.4\n",
       "3   17.2   45.9       69.3    9.3\n",
       "4  151.5   41.3       58.5   18.5\n",
       "5  180.8   10.8       58.4   12.9"
      ]
     },
     "execution_count": 133,
     "metadata": {},
     "output_type": "execute_result"
    }
   ],
   "source": [
    "df = pd.read_csv(r\"C:\\Users\\DeLL\\Documents\\Python Files\\Stats and ML by Garvit\\ML\\Linear Regression\\Linear Regression\\Advertising.csv\",index_col=0)\n",
    "df.head()"
   ]
  },
  {
   "cell_type": "code",
   "execution_count": 137,
   "id": "4c2512cb-900d-4cfe-9e68-1697d79b9172",
   "metadata": {},
   "outputs": [],
   "source": [
    "x = df.iloc[:,:-1].values\n",
    "y = df.iloc[:,-1:].values"
   ]
  },
  {
   "cell_type": "code",
   "execution_count": 138,
   "id": "1fa2efb9-b23c-451f-950c-1aad486fe2fb",
   "metadata": {},
   "outputs": [],
   "source": [
    "import statsmodels.api as sm"
   ]
  },
  {
   "cell_type": "code",
   "execution_count": 139,
   "id": "f957b69b-498b-47fc-8b75-c78e111ac15b",
   "metadata": {},
   "outputs": [],
   "source": [
    "x_train,x_test,y_train,y_test = train_test_split(x,y,test_size=0.3)"
   ]
  },
  {
   "cell_type": "code",
   "execution_count": 140,
   "id": "378fb324-ae7e-45e4-9b54-3cb99e914f68",
   "metadata": {},
   "outputs": [],
   "source": [
    "x_train_sm = sm.add_constant(x_train)"
   ]
  },
  {
   "cell_type": "code",
   "execution_count": 141,
   "id": "04916c38-90cb-4a8d-9288-5f42f52d7795",
   "metadata": {},
   "outputs": [],
   "source": [
    "from sklearn.linear_model import LinearRegression"
   ]
  },
  {
   "cell_type": "code",
   "execution_count": 142,
   "id": "ad945b7d-bdc6-446f-90cf-46140edecab5",
   "metadata": {},
   "outputs": [],
   "source": [
    "model_lin_ol = sm.OLS(y_train,x_train_sm).fit()"
   ]
  },
  {
   "cell_type": "code",
   "execution_count": 143,
   "id": "a66ccffd-6de9-4e36-9010-a971dae641c1",
   "metadata": {},
   "outputs": [
    {
     "data": {
      "text/plain": [
       "array([ 3.25545482,  0.04629106,  0.1829963 , -0.00912229])"
      ]
     },
     "execution_count": 143,
     "metadata": {},
     "output_type": "execute_result"
    }
   ],
   "source": [
    "model_lin_ol.params"
   ]
  },
  {
   "cell_type": "code",
   "execution_count": 145,
   "id": "2844610d-9b25-4bcf-b4bd-4cea1365b650",
   "metadata": {},
   "outputs": [
    {
     "data": {
      "text/html": [
       "<table class=\"simpletable\">\n",
       "<caption>OLS Regression Results</caption>\n",
       "<tr>\n",
       "  <th>Dep. Variable:</th>            <td>y</td>        <th>  R-squared:         </th> <td>   0.892</td>\n",
       "</tr>\n",
       "<tr>\n",
       "  <th>Model:</th>                   <td>OLS</td>       <th>  Adj. R-squared:    </th> <td>   0.890</td>\n",
       "</tr>\n",
       "<tr>\n",
       "  <th>Method:</th>             <td>Least Squares</td>  <th>  F-statistic:       </th> <td>   374.2</td>\n",
       "</tr>\n",
       "<tr>\n",
       "  <th>Date:</th>             <td>Thu, 30 May 2024</td> <th>  Prob (F-statistic):</th> <td>1.72e-65</td>\n",
       "</tr>\n",
       "<tr>\n",
       "  <th>Time:</th>                 <td>19:38:59</td>     <th>  Log-Likelihood:    </th> <td> -272.26</td>\n",
       "</tr>\n",
       "<tr>\n",
       "  <th>No. Observations:</th>      <td>   140</td>      <th>  AIC:               </th> <td>   552.5</td>\n",
       "</tr>\n",
       "<tr>\n",
       "  <th>Df Residuals:</th>          <td>   136</td>      <th>  BIC:               </th> <td>   564.3</td>\n",
       "</tr>\n",
       "<tr>\n",
       "  <th>Df Model:</th>              <td>     3</td>      <th>                     </th>     <td> </td>   \n",
       "</tr>\n",
       "<tr>\n",
       "  <th>Covariance Type:</th>      <td>nonrobust</td>    <th>                     </th>     <td> </td>   \n",
       "</tr>\n",
       "</table>\n",
       "<table class=\"simpletable\">\n",
       "<tr>\n",
       "    <td></td>       <th>coef</th>     <th>std err</th>      <th>t</th>      <th>P>|t|</th>  <th>[0.025</th>    <th>0.975]</th>  \n",
       "</tr>\n",
       "<tr>\n",
       "  <th>const</th> <td>    3.2555</td> <td>    0.384</td> <td>    8.487</td> <td> 0.000</td> <td>    2.497</td> <td>    4.014</td>\n",
       "</tr>\n",
       "<tr>\n",
       "  <th>x1</th>    <td>    0.0463</td> <td>    0.002</td> <td>   27.121</td> <td> 0.000</td> <td>    0.043</td> <td>    0.050</td>\n",
       "</tr>\n",
       "<tr>\n",
       "  <th>x2</th>    <td>    0.1830</td> <td>    0.010</td> <td>   17.554</td> <td> 0.000</td> <td>    0.162</td> <td>    0.204</td>\n",
       "</tr>\n",
       "<tr>\n",
       "  <th>x3</th>    <td>   -0.0091</td> <td>    0.007</td> <td>   -1.271</td> <td> 0.206</td> <td>   -0.023</td> <td>    0.005</td>\n",
       "</tr>\n",
       "</table>\n",
       "<table class=\"simpletable\">\n",
       "<tr>\n",
       "  <th>Omnibus:</th>       <td>55.122</td> <th>  Durbin-Watson:     </th> <td>   2.134</td>\n",
       "</tr>\n",
       "<tr>\n",
       "  <th>Prob(Omnibus):</th> <td> 0.000</td> <th>  Jarque-Bera (JB):  </th> <td> 168.562</td>\n",
       "</tr>\n",
       "<tr>\n",
       "  <th>Skew:</th>          <td>-1.509</td> <th>  Prob(JB):          </th> <td>2.50e-37</td>\n",
       "</tr>\n",
       "<tr>\n",
       "  <th>Kurtosis:</th>      <td> 7.448</td> <th>  Cond. No.          </th> <td>    444.</td>\n",
       "</tr>\n",
       "</table><br/><br/>Notes:<br/>[1] Standard Errors assume that the covariance matrix of the errors is correctly specified."
      ],
      "text/latex": [
       "\\begin{center}\n",
       "\\begin{tabular}{lclc}\n",
       "\\toprule\n",
       "\\textbf{Dep. Variable:}    &        y         & \\textbf{  R-squared:         } &     0.892   \\\\\n",
       "\\textbf{Model:}            &       OLS        & \\textbf{  Adj. R-squared:    } &     0.890   \\\\\n",
       "\\textbf{Method:}           &  Least Squares   & \\textbf{  F-statistic:       } &     374.2   \\\\\n",
       "\\textbf{Date:}             & Thu, 30 May 2024 & \\textbf{  Prob (F-statistic):} &  1.72e-65   \\\\\n",
       "\\textbf{Time:}             &     19:38:59     & \\textbf{  Log-Likelihood:    } &   -272.26   \\\\\n",
       "\\textbf{No. Observations:} &         140      & \\textbf{  AIC:               } &     552.5   \\\\\n",
       "\\textbf{Df Residuals:}     &         136      & \\textbf{  BIC:               } &     564.3   \\\\\n",
       "\\textbf{Df Model:}         &           3      & \\textbf{                     } &             \\\\\n",
       "\\textbf{Covariance Type:}  &    nonrobust     & \\textbf{                     } &             \\\\\n",
       "\\bottomrule\n",
       "\\end{tabular}\n",
       "\\begin{tabular}{lcccccc}\n",
       "               & \\textbf{coef} & \\textbf{std err} & \\textbf{t} & \\textbf{P$> |$t$|$} & \\textbf{[0.025} & \\textbf{0.975]}  \\\\\n",
       "\\midrule\n",
       "\\textbf{const} &       3.2555  &        0.384     &     8.487  &         0.000        &        2.497    &        4.014     \\\\\n",
       "\\textbf{x1}    &       0.0463  &        0.002     &    27.121  &         0.000        &        0.043    &        0.050     \\\\\n",
       "\\textbf{x2}    &       0.1830  &        0.010     &    17.554  &         0.000        &        0.162    &        0.204     \\\\\n",
       "\\textbf{x3}    &      -0.0091  &        0.007     &    -1.271  &         0.206        &       -0.023    &        0.005     \\\\\n",
       "\\bottomrule\n",
       "\\end{tabular}\n",
       "\\begin{tabular}{lclc}\n",
       "\\textbf{Omnibus:}       & 55.122 & \\textbf{  Durbin-Watson:     } &    2.134  \\\\\n",
       "\\textbf{Prob(Omnibus):} &  0.000 & \\textbf{  Jarque-Bera (JB):  } &  168.562  \\\\\n",
       "\\textbf{Skew:}          & -1.509 & \\textbf{  Prob(JB):          } & 2.50e-37  \\\\\n",
       "\\textbf{Kurtosis:}      &  7.448 & \\textbf{  Cond. No.          } &     444.  \\\\\n",
       "\\bottomrule\n",
       "\\end{tabular}\n",
       "%\\caption{OLS Regression Results}\n",
       "\\end{center}\n",
       "\n",
       "Notes: \\newline\n",
       " [1] Standard Errors assume that the covariance matrix of the errors is correctly specified."
      ],
      "text/plain": [
       "<class 'statsmodels.iolib.summary.Summary'>\n",
       "\"\"\"\n",
       "                            OLS Regression Results                            \n",
       "==============================================================================\n",
       "Dep. Variable:                      y   R-squared:                       0.892\n",
       "Model:                            OLS   Adj. R-squared:                  0.890\n",
       "Method:                 Least Squares   F-statistic:                     374.2\n",
       "Date:                Thu, 30 May 2024   Prob (F-statistic):           1.72e-65\n",
       "Time:                        19:38:59   Log-Likelihood:                -272.26\n",
       "No. Observations:                 140   AIC:                             552.5\n",
       "Df Residuals:                     136   BIC:                             564.3\n",
       "Df Model:                           3                                         \n",
       "Covariance Type:            nonrobust                                         \n",
       "==============================================================================\n",
       "                 coef    std err          t      P>|t|      [0.025      0.975]\n",
       "------------------------------------------------------------------------------\n",
       "const          3.2555      0.384      8.487      0.000       2.497       4.014\n",
       "x1             0.0463      0.002     27.121      0.000       0.043       0.050\n",
       "x2             0.1830      0.010     17.554      0.000       0.162       0.204\n",
       "x3            -0.0091      0.007     -1.271      0.206      -0.023       0.005\n",
       "==============================================================================\n",
       "Omnibus:                       55.122   Durbin-Watson:                   2.134\n",
       "Prob(Omnibus):                  0.000   Jarque-Bera (JB):              168.562\n",
       "Skew:                          -1.509   Prob(JB):                     2.50e-37\n",
       "Kurtosis:                       7.448   Cond. No.                         444.\n",
       "==============================================================================\n",
       "\n",
       "Notes:\n",
       "[1] Standard Errors assume that the covariance matrix of the errors is correctly specified.\n",
       "\"\"\""
      ]
     },
     "execution_count": 145,
     "metadata": {},
     "output_type": "execute_result"
    }
   ],
   "source": [
    "model_lin_ol.summary()"
   ]
  },
  {
   "cell_type": "code",
   "execution_count": 148,
   "id": "6e211a3a-44e7-4fed-85c8-852b85d85a75",
   "metadata": {},
   "outputs": [
    {
     "data": {
      "text/plain": [
       "array([13.91938573, 15.12492342,  4.55283796, 15.62644799,  9.85469728,\n",
       "        8.15768317, 10.1595221 , 20.54136585, 10.66588383, 20.41686407,\n",
       "        4.02872788, 14.27284168, 23.01938919, 12.98923432, 15.10184863,\n",
       "       15.19108431, 20.54254349, 11.32155253, 18.30441334, 23.58016574,\n",
       "       12.24046007, 19.95061998, 20.6991039 ,  7.75577175,  9.79856755,\n",
       "       20.88970542, 12.28071061,  7.81718685, 21.1862267 , 19.19237624,\n",
       "       19.11315988,  6.62915931,  7.68590619,  8.27820338, 20.81945865,\n",
       "       15.72347645, 18.45547978, 14.2625605 , 10.35887278, 11.31373081,\n",
       "       16.9203101 , 11.42882957, 13.0924558 , 16.20892329, 14.96668529,\n",
       "       14.27350402, 17.71865929, 15.88797753,  9.6270017 , 22.66626187,\n",
       "       14.01459954, 19.17700601, 19.83270179, 20.54708244,  7.63698281,\n",
       "       12.05171181, 15.45690407, 21.8990881 ,  7.52491478, 10.17919293,\n",
       "       20.09546037, 10.4551479 ,  9.21512437, 18.32253513, 14.76972385,\n",
       "       11.8190161 , 10.04328244, 16.72623874,  9.8164082 ,  6.32367218,\n",
       "       12.30054935, 13.06849701, 12.75606632,  9.64647826,  9.19526312,\n",
       "       12.5906654 , 16.26888501, 12.40348826, 18.10615633, 16.64516127,\n",
       "       11.49252421,  9.09392477, 15.17244002, 12.65603909, 11.47466595,\n",
       "       23.07614215, 17.54956791, 15.49401467, 10.00306943, 16.42194794,\n",
       "       15.05539327,  8.67205629, 13.88318102, 12.92239636, 19.00459479,\n",
       "       14.05327254, 17.49080228,  7.15591307,  8.72536997,  6.15475851,\n",
       "       19.62715309, 15.2329961 , 18.92517975, 20.19302561, 14.10828118,\n",
       "       12.7868069 , 15.33652538,  7.87419937,  4.51368143, 13.95932594,\n",
       "        5.90280218, 12.26419875, 23.78262449, 11.92253388, 12.23337813,\n",
       "        4.63242164,  9.82356459, 16.8928203 , 17.59180515, 10.13729588,\n",
       "       11.21917883,  8.35791252,  3.70153554, 14.69313682, 14.93779274,\n",
       "       12.09574608, 17.2170766 , 22.39100308,  6.8034791 , 17.20801643,\n",
       "        8.89126623,  6.88407295,  6.87801501, 17.0198182 , 18.62827883,\n",
       "        8.14319363, 19.52297032, 14.27923274, 21.07676821,  9.8580505 ])"
      ]
     },
     "execution_count": 148,
     "metadata": {},
     "output_type": "execute_result"
    }
   ],
   "source": [
    "y_pred = model_lin_ol.predict(x_train_sm)\n",
    "y_pred"
   ]
  },
  {
   "cell_type": "code",
   "execution_count": 149,
   "id": "b9a3c81e-f15f-4d74-80da-3225c9eafca7",
   "metadata": {},
   "outputs": [],
   "source": [
    "from sklearn.metrics import r2_score,mean_squared_error"
   ]
  },
  {
   "cell_type": "code",
   "execution_count": 154,
   "id": "db961d36-9b08-4e1e-a94f-3bd88506d2c1",
   "metadata": {},
   "outputs": [
    {
     "data": {
      "text/plain": [
       "(140, 1)"
      ]
     },
     "execution_count": 154,
     "metadata": {},
     "output_type": "execute_result"
    }
   ],
   "source": [
    "y_train.shape"
   ]
  },
  {
   "cell_type": "code",
   "execution_count": 153,
   "id": "2a7c6ce2-457e-4c17-9324-9259e9843cff",
   "metadata": {},
   "outputs": [
    {
     "data": {
      "text/plain": [
       "(140,)"
      ]
     },
     "execution_count": 153,
     "metadata": {},
     "output_type": "execute_result"
    }
   ],
   "source": [
    "y_pred.shape"
   ]
  },
  {
   "cell_type": "code",
   "execution_count": 157,
   "id": "f69702e6-9434-4616-a826-ae5cba9ae489",
   "metadata": {},
   "outputs": [
    {
     "data": {
      "text/plain": [
       "0.8919400164535598"
      ]
     },
     "execution_count": 157,
     "metadata": {},
     "output_type": "execute_result"
    }
   ],
   "source": [
    "rscore = r2_score(y_train,y_pred)\n",
    "rscore"
   ]
  },
  {
   "cell_type": "code",
   "execution_count": 156,
   "id": "6b7fe43f-0d12-4c75-93bb-21997cc658c4",
   "metadata": {},
   "outputs": [
    {
     "data": {
      "text/plain": [
       "(200, 4)"
      ]
     },
     "execution_count": 156,
     "metadata": {},
     "output_type": "execute_result"
    }
   ],
   "source": [
    "df.shape"
   ]
  },
  {
   "cell_type": "code",
   "execution_count": 158,
   "id": "92ab2e38-ee29-481f-b574-e2e61c3a58dd",
   "metadata": {},
   "outputs": [],
   "source": [
    "adjr2 = 1-((1-rscore)*(199)/(196))"
   ]
  },
  {
   "cell_type": "code",
   "execution_count": 159,
   "id": "8bdd9696-fcec-4498-a937-8bdd49dc624a",
   "metadata": {},
   "outputs": [
    {
     "data": {
      "text/plain": [
       "0.8902860371135632"
      ]
     },
     "execution_count": 159,
     "metadata": {},
     "output_type": "execute_result"
    }
   ],
   "source": [
    "adjr2"
   ]
  },
  {
   "cell_type": "code",
   "execution_count": 160,
   "id": "853425f8-6ad1-458b-afdb-8f7fe9443bde",
   "metadata": {},
   "outputs": [
    {
     "data": {
      "text/plain": [
       "2.8619777059811953"
      ]
     },
     "execution_count": 160,
     "metadata": {},
     "output_type": "execute_result"
    }
   ],
   "source": [
    "mse = mean_squared_error(y_train,y_pred)\n",
    "mse"
   ]
  },
  {
   "cell_type": "code",
   "execution_count": 161,
   "id": "5231fd03-8206-4dcf-a928-61d5647e41d7",
   "metadata": {},
   "outputs": [
    {
     "data": {
      "text/plain": [
       "1.6917380725103977"
      ]
     },
     "execution_count": 161,
     "metadata": {},
     "output_type": "execute_result"
    }
   ],
   "source": [
    "rmse = np.sqrt(mse)\n",
    "rmse"
   ]
  },
  {
   "cell_type": "code",
   "execution_count": 162,
   "id": "0947081f-5c6c-4a49-9548-166a693614e8",
   "metadata": {},
   "outputs": [
    {
     "data": {
      "text/plain": [
       "27.0"
      ]
     },
     "execution_count": 162,
     "metadata": {},
     "output_type": "execute_result"
    }
   ],
   "source": [
    "y.max()"
   ]
  },
  {
   "cell_type": "code",
   "execution_count": 163,
   "id": "d271c113-f5a9-4f5c-a052-38bdf4079d9f",
   "metadata": {},
   "outputs": [
    {
     "data": {
      "text/plain": [
       "1.6"
      ]
     },
     "execution_count": 163,
     "metadata": {},
     "output_type": "execute_result"
    }
   ],
   "source": [
    "y.min()"
   ]
  },
  {
   "cell_type": "code",
   "execution_count": 164,
   "id": "e93dbabc-2f06-49d5-8a3d-f50a555ec5d1",
   "metadata": {},
   "outputs": [],
   "source": [
    "x_test_sm = sm.add_constant(x_test)"
   ]
  },
  {
   "cell_type": "code",
   "execution_count": 165,
   "id": "2e7c4078-cd5d-4703-8c06-f8c52736077f",
   "metadata": {},
   "outputs": [
    {
     "data": {
      "text/plain": [
       "array([21.74631663, 17.94728983, 16.67733775, 11.70509551, 14.18504399,\n",
       "        7.28342857,  9.07935499, 11.67390433, 10.27349294, 10.01568324,\n",
       "       13.92153621, 19.20755031,  8.89376059, 19.14919087, 15.10431905,\n",
       "        9.94958659, 21.59881918, 17.29264365, 20.51041075, 16.11489897,\n",
       "       16.61655054, 18.29738202, 13.32413719, 21.7862646 , 17.38501208,\n",
       "       14.12941603, 15.67027529,  8.82677197, 10.767684  , 23.46554879,\n",
       "       14.240345  ,  6.12189119, 13.60305484, 12.55219023, 13.34961004,\n",
       "       20.95542658, 23.93965756, 20.6693107 , 22.69845191, 10.062143  ,\n",
       "        8.60264216, 10.28418907, 16.63017672,  5.57497206, 10.90471058,\n",
       "       10.20607947, 17.18764485, 18.62980824, 16.53684594, 10.68963009,\n",
       "       24.64065707, 18.01045713,  8.4388642 ,  5.51600813, 15.11729824,\n",
       "       11.33978484, 14.96386033, 17.51617443, 12.08248706, 17.87925611])"
      ]
     },
     "execution_count": 165,
     "metadata": {},
     "output_type": "execute_result"
    }
   ],
   "source": [
    "y_pred = model_lin_ol.predict(x_test_sm)\n",
    "y_pred"
   ]
  },
  {
   "cell_type": "code",
   "execution_count": 166,
   "id": "f416f1cb-233d-4185-a6aa-cd375c177bbb",
   "metadata": {},
   "outputs": [
    {
     "data": {
      "text/plain": [
       "0.9010913578425196"
      ]
     },
     "execution_count": 166,
     "metadata": {},
     "output_type": "execute_result"
    }
   ],
   "source": [
    "rscore = r2_score(y_test,y_pred)\n",
    "rscore"
   ]
  },
  {
   "cell_type": "code",
   "execution_count": 167,
   "id": "0619c26e-0d1f-4771-b7a7-f8a1bf6cf4ea",
   "metadata": {},
   "outputs": [
    {
     "data": {
      "text/plain": [
       "0.8995774500543949"
      ]
     },
     "execution_count": 167,
     "metadata": {},
     "output_type": "execute_result"
    }
   ],
   "source": [
    "adjr2 = 1 - ((1-rscore)*(199)/(196))\n",
    "adjr2"
   ]
  },
  {
   "cell_type": "code",
   "execution_count": 168,
   "id": "912a5dfb-e64f-4402-822a-1d344498de3e",
   "metadata": {},
   "outputs": [
    {
     "data": {
      "text/plain": [
       "2.765205118824143"
      ]
     },
     "execution_count": 168,
     "metadata": {},
     "output_type": "execute_result"
    }
   ],
   "source": [
    "mse = mean_squared_error(y_test,y_pred)\n",
    "mse"
   ]
  },
  {
   "cell_type": "code",
   "execution_count": 169,
   "id": "c6156360-ccc4-4f4d-a618-fce3bbd3851b",
   "metadata": {},
   "outputs": [
    {
     "data": {
      "text/plain": [
       "1.6628905913571532"
      ]
     },
     "execution_count": 169,
     "metadata": {},
     "output_type": "execute_result"
    }
   ],
   "source": [
    "rmse = np.sqrt(mse)\n",
    "rmse"
   ]
  },
  {
   "cell_type": "code",
   "execution_count": 172,
   "id": "d4966547-0667-498c-88c2-ffc915fad568",
   "metadata": {},
   "outputs": [],
   "source": [
    "lin = LinearRegression()"
   ]
  },
  {
   "cell_type": "code",
   "execution_count": 173,
   "id": "a42dfc18-11aa-4ea1-b974-12a18468c0ca",
   "metadata": {},
   "outputs": [],
   "source": [
    "model_lin_skl = lin.fit(x_train,y_train)"
   ]
  },
  {
   "cell_type": "code",
   "execution_count": 174,
   "id": "7dce27fb-8592-408e-9ed9-07b3692f8687",
   "metadata": {},
   "outputs": [
    {
     "data": {
      "text/plain": [
       "array([[21.74631663],\n",
       "       [17.94728983],\n",
       "       [16.67733775],\n",
       "       [11.70509551],\n",
       "       [14.18504399],\n",
       "       [ 7.28342857],\n",
       "       [ 9.07935499],\n",
       "       [11.67390433],\n",
       "       [10.27349294],\n",
       "       [10.01568324],\n",
       "       [13.92153621],\n",
       "       [19.20755031],\n",
       "       [ 8.89376059],\n",
       "       [19.14919087],\n",
       "       [15.10431905],\n",
       "       [ 9.94958659],\n",
       "       [21.59881918],\n",
       "       [17.29264365],\n",
       "       [20.51041075],\n",
       "       [16.11489897],\n",
       "       [16.61655054],\n",
       "       [18.29738202],\n",
       "       [13.32413719],\n",
       "       [21.7862646 ],\n",
       "       [17.38501208],\n",
       "       [14.12941603],\n",
       "       [15.67027529],\n",
       "       [ 8.82677197],\n",
       "       [10.767684  ],\n",
       "       [23.46554879],\n",
       "       [14.240345  ],\n",
       "       [ 6.12189119],\n",
       "       [13.60305484],\n",
       "       [12.55219023],\n",
       "       [13.34961004],\n",
       "       [20.95542658],\n",
       "       [23.93965756],\n",
       "       [20.6693107 ],\n",
       "       [22.69845191],\n",
       "       [10.062143  ],\n",
       "       [ 8.60264216],\n",
       "       [10.28418907],\n",
       "       [16.63017672],\n",
       "       [ 5.57497206],\n",
       "       [10.90471058],\n",
       "       [10.20607947],\n",
       "       [17.18764485],\n",
       "       [18.62980824],\n",
       "       [16.53684594],\n",
       "       [10.68963009],\n",
       "       [24.64065707],\n",
       "       [18.01045713],\n",
       "       [ 8.4388642 ],\n",
       "       [ 5.51600813],\n",
       "       [15.11729824],\n",
       "       [11.33978484],\n",
       "       [14.96386033],\n",
       "       [17.51617443],\n",
       "       [12.08248706],\n",
       "       [17.87925611]])"
      ]
     },
     "execution_count": 174,
     "metadata": {},
     "output_type": "execute_result"
    }
   ],
   "source": [
    "y_pred = model_lin_skl.predict(x_test)\n",
    "y_pred"
   ]
  },
  {
   "cell_type": "code",
   "execution_count": 175,
   "id": "e144e217-afb8-45a0-8b1f-9529971fefb2",
   "metadata": {},
   "outputs": [
    {
     "data": {
      "text/plain": [
       "0.901091357842519"
      ]
     },
     "execution_count": 175,
     "metadata": {},
     "output_type": "execute_result"
    }
   ],
   "source": [
    "rscore = r2_score(y_test,y_pred)\n",
    "rscore"
   ]
  },
  {
   "cell_type": "code",
   "execution_count": 176,
   "id": "8e1f33cf-8847-410b-a435-1e77586fac10",
   "metadata": {},
   "outputs": [
    {
     "data": {
      "text/plain": [
       "0.8995774500543943"
      ]
     },
     "execution_count": 176,
     "metadata": {},
     "output_type": "execute_result"
    }
   ],
   "source": [
    "adjr2 = 1-((1-rscore)*(199)/(196))\n",
    "adjr2"
   ]
  },
  {
   "cell_type": "code",
   "execution_count": 177,
   "id": "31963388-c735-43fb-9945-b478d4dd6355",
   "metadata": {},
   "outputs": [
    {
     "data": {
      "text/plain": [
       "2.76520511882416"
      ]
     },
     "execution_count": 177,
     "metadata": {},
     "output_type": "execute_result"
    }
   ],
   "source": [
    "mse = mean_squared_error(y_test,y_pred)\n",
    "mse"
   ]
  },
  {
   "cell_type": "code",
   "execution_count": 178,
   "id": "e5dcc248-b9e5-43c9-bcd8-554e99c400d5",
   "metadata": {},
   "outputs": [
    {
     "data": {
      "text/plain": [
       "1.6628905913571586"
      ]
     },
     "execution_count": 178,
     "metadata": {},
     "output_type": "execute_result"
    }
   ],
   "source": [
    "rmse = np.sqrt(mse)\n",
    "rmse"
   ]
  },
  {
   "cell_type": "code",
   "execution_count": 181,
   "id": "5a094379-57be-466a-bf62-2b8fba78b5fc",
   "metadata": {},
   "outputs": [],
   "source": [
    "q1 = np.quantile(df,0.25)"
   ]
  },
  {
   "cell_type": "code",
   "execution_count": 182,
   "id": "27d612ac-dc85-468d-b7d5-89d1dfd2ca5e",
   "metadata": {},
   "outputs": [
    {
     "data": {
      "text/plain": [
       "11.9"
      ]
     },
     "execution_count": 182,
     "metadata": {},
     "output_type": "execute_result"
    }
   ],
   "source": [
    "q1"
   ]
  },
  {
   "cell_type": "code",
   "execution_count": 183,
   "id": "380719fd-d83f-4bb7-accf-c862c050af69",
   "metadata": {},
   "outputs": [],
   "source": [
    "q2 = np.quantile(df,0.5)\n",
    "q3 = np.quantile(df,0.75)"
   ]
  },
  {
   "cell_type": "code",
   "execution_count": 184,
   "id": "e3698c2c-8d34-4ec9-94c8-cec6c32eccbf",
   "metadata": {},
   "outputs": [],
   "source": [
    "iqr = q3-q1"
   ]
  },
  {
   "cell_type": "code",
   "execution_count": 185,
   "id": "8da858f3-fc2f-4263-b6e1-d6d53ac65373",
   "metadata": {},
   "outputs": [
    {
     "data": {
      "text/html": [
       "<div>\n",
       "<style scoped>\n",
       "    .dataframe tbody tr th:only-of-type {\n",
       "        vertical-align: middle;\n",
       "    }\n",
       "\n",
       "    .dataframe tbody tr th {\n",
       "        vertical-align: top;\n",
       "    }\n",
       "\n",
       "    .dataframe thead th {\n",
       "        text-align: right;\n",
       "    }\n",
       "</style>\n",
       "<table border=\"1\" class=\"dataframe\">\n",
       "  <thead>\n",
       "    <tr style=\"text-align: right;\">\n",
       "      <th></th>\n",
       "      <th>TV</th>\n",
       "      <th>Radio</th>\n",
       "      <th>Newspaper</th>\n",
       "      <th>Sales</th>\n",
       "    </tr>\n",
       "  </thead>\n",
       "  <tbody>\n",
       "  </tbody>\n",
       "</table>\n",
       "</div>"
      ],
      "text/plain": [
       "Empty DataFrame\n",
       "Columns: [TV, Radio, Newspaper, Sales]\n",
       "Index: []"
      ]
     },
     "execution_count": 185,
     "metadata": {},
     "output_type": "execute_result"
    }
   ],
   "source": [
    "df[(df.values > q3+1.5*iqr) & (df.values < q1 - 1.5*iqr)]"
   ]
  },
  {
   "cell_type": "code",
   "execution_count": 188,
   "id": "30a2d265-d07a-4394-a88e-edea07e53004",
   "metadata": {},
   "outputs": [
    {
     "data": {
      "text/plain": [
       "array([ 0.28061427, -0.52492342,  2.74716204, -2.42644799,  0.44530272,\n",
       "        1.54231683,  1.1404779 , -0.34136585,  1.73411617,  1.08313593,\n",
       "        0.77127212,  0.12715832,  1.38061081, -1.28923432,  0.19815137,\n",
       "       -0.29108431,  2.05745651,  0.57844747,  0.69558666,  1.81983426,\n",
       "       -0.54046007, -0.15061998,  1.0008961 ,  1.84422825, -0.19856755,\n",
       "        1.31029458, -1.38071061,  1.88281315,  0.6137733 ,  0.90762376,\n",
       "        0.58684012,  2.07084069, -0.08590619,  1.42179662,  1.78054135,\n",
       "       -0.12347645, -2.35547978,  0.2374395 , -1.55887278,  0.58626919,\n",
       "       -1.2203101 , -0.62882957, -0.2924558 , -1.40892329,  0.23331471,\n",
       "        0.32649598,  0.58134071, -3.88797753,  1.0729983 ,  1.53373813,\n",
       "       -2.41459954, -0.27700601,  0.86729821,  1.85291756, -0.63698281,\n",
       "        0.44828819,  0.04309593, -1.1990881 ,  0.87508522, -0.97919293,\n",
       "        0.10453963, -8.8551479 ,  1.38487563,  0.07746487, -2.46972385,\n",
       "       -2.5190161 ,  1.25671756,  0.47376126,  0.2835918 , -0.72367218,\n",
       "        0.89945065, -0.16849701, -1.35606632,  1.25352174,  0.30473688,\n",
       "        0.0093346 , -4.46888501,  0.49651174,  0.89384367,  0.65483873,\n",
       "       -1.99252421,  0.60607523,  0.02755998, -0.05603909,  0.32533405,\n",
       "        2.32385785, -0.14956791, -2.09401467,  0.99693057,  0.17805206,\n",
       "       -0.15539327,  1.22794371, -2.18318102,  0.27760364, -3.10459479,\n",
       "       -2.55327254,  0.50919772,  1.44408693, -0.22536997,  1.04524149,\n",
       "        1.57284691,  0.7670039 ,  0.47482025,  1.90697439, -1.90828118,\n",
       "       -2.1868069 , -0.63652538,  1.62580063,  1.38631857, -2.05932594,\n",
       "        2.19719782,  1.13580125,  2.41737551, -4.72253388, -0.53337813,\n",
       "        2.26757836,  1.17643541,  1.1071797 ,  1.60819485, -2.83729588,\n",
       "       -2.51917883, -2.85791252,  1.59846446, -1.29313682, -0.23779274,\n",
       "       -1.69574608, -1.3170766 ,  2.30899692,  2.5965209 , -0.10801643,\n",
       "       -3.59126623,  1.91592705, -0.27801501,  0.0801818 , -1.02827883,\n",
       "        1.15680637, -0.62297032,  1.22076726,  1.22323179,  0.2419495 ])"
      ]
     },
     "execution_count": 188,
     "metadata": {},
     "output_type": "execute_result"
    }
   ],
   "source": [
    "sales_residuals = model_lin_ol.resid\n",
    "sales_residuals"
   ]
  },
  {
   "cell_type": "code",
   "execution_count": 189,
   "id": "221eb57d-619f-403e-a005-01aaea7fd360",
   "metadata": {},
   "outputs": [
    {
     "data": {
      "image/png": "[encoded data removed]",
      "text/plain": [
       "<Figure size 640x480 with 1 Axes>"
      ]
     },
     "metadata": {},
     "output_type": "display_data"
    }
   ],
   "source": [
    "probplot = sm.ProbPlot(sales_residuals)\n",
    "probplot.ppplot(line='45')\n",
    "plt.show()\n",
    "                "
   ]
  },
  {
   "cell_type": "code",
   "execution_count": null,
   "id": "d314e6fd-e7a8-4eed-94ac-3196caacad10",
   "metadata": {},
   "outputs": [],
   "source": []
  }
 ],
 "metadata": {
  "kernelspec": {
   "display_name": "Python 3 (ipykernel)",
   "language": "python",
   "name": "python3"
  },
  "language_info": {
   "codemirror_mode": {
    "name": "ipython",
    "version": 3
   },
   "file_extension": ".py",
   "mimetype": "text/x-python",
   "name": "python",
   "nbconvert_exporter": "python",
   "pygments_lexer": "ipython3",
   "version": "3.11.5"
  }
 },
 "nbformat": 4,
 "nbformat_minor": 5
}
