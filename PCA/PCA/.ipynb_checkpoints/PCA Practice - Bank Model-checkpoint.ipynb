{
 "cells": [
  {
   "cell_type": "code",
   "execution_count": 1,
   "id": "d0ba4139-189d-4ccf-bc38-0e2a018fa2a9",
   "metadata": {},
   "outputs": [],
   "source": [
    "import pandas as pd\n",
    "import matplotlib.pyplot as plt\n",
    "import numpy as np\n",
    "import seaborn as sns"
   ]
  },
  {
   "cell_type": "code",
   "execution_count": 2,
   "id": "89daabae-f0a6-4950-97b5-1bb0d3d057f3",
   "metadata": {},
   "outputs": [],
   "source": [
    "df = pd.read_csv('bank.csv')"
   ]
  },
  {
   "cell_type": "code",
   "execution_count": 3,
   "id": "44216519-3fd4-46c0-9a09-0d872a932bfc",
   "metadata": {},
   "outputs": [
    {
     "data": {
      "text/html": [
       "<div>\n",
       "<style scoped>\n",
       "    .dataframe tbody tr th:only-of-type {\n",
       "        vertical-align: middle;\n",
       "    }\n",
       "\n",
       "    .dataframe tbody tr th {\n",
       "        vertical-align: top;\n",
       "    }\n",
       "\n",
       "    .dataframe thead th {\n",
       "        text-align: right;\n",
       "    }\n",
       "</style>\n",
       "<table border=\"1\" class=\"dataframe\">\n",
       "  <thead>\n",
       "    <tr style=\"text-align: right;\">\n",
       "      <th></th>\n",
       "      <th>age</th>\n",
       "      <th>job</th>\n",
       "      <th>marital</th>\n",
       "      <th>education</th>\n",
       "      <th>default</th>\n",
       "      <th>balance</th>\n",
       "      <th>housing-loan</th>\n",
       "      <th>personal-loan</th>\n",
       "      <th>current-campaign</th>\n",
       "      <th>previous-campaign</th>\n",
       "      <th>subscribed</th>\n",
       "    </tr>\n",
       "  </thead>\n",
       "  <tbody>\n",
       "    <tr>\n",
       "      <th>0</th>\n",
       "      <td>30</td>\n",
       "      <td>unemployed</td>\n",
       "      <td>married</td>\n",
       "      <td>primary</td>\n",
       "      <td>no</td>\n",
       "      <td>1787</td>\n",
       "      <td>no</td>\n",
       "      <td>no</td>\n",
       "      <td>1</td>\n",
       "      <td>0</td>\n",
       "      <td>no</td>\n",
       "    </tr>\n",
       "    <tr>\n",
       "      <th>1</th>\n",
       "      <td>33</td>\n",
       "      <td>services</td>\n",
       "      <td>married</td>\n",
       "      <td>secondary</td>\n",
       "      <td>no</td>\n",
       "      <td>4789</td>\n",
       "      <td>yes</td>\n",
       "      <td>yes</td>\n",
       "      <td>1</td>\n",
       "      <td>4</td>\n",
       "      <td>no</td>\n",
       "    </tr>\n",
       "    <tr>\n",
       "      <th>2</th>\n",
       "      <td>35</td>\n",
       "      <td>management</td>\n",
       "      <td>single</td>\n",
       "      <td>tertiary</td>\n",
       "      <td>no</td>\n",
       "      <td>1350</td>\n",
       "      <td>yes</td>\n",
       "      <td>no</td>\n",
       "      <td>1</td>\n",
       "      <td>1</td>\n",
       "      <td>no</td>\n",
       "    </tr>\n",
       "    <tr>\n",
       "      <th>3</th>\n",
       "      <td>30</td>\n",
       "      <td>management</td>\n",
       "      <td>married</td>\n",
       "      <td>tertiary</td>\n",
       "      <td>no</td>\n",
       "      <td>1476</td>\n",
       "      <td>yes</td>\n",
       "      <td>yes</td>\n",
       "      <td>4</td>\n",
       "      <td>0</td>\n",
       "      <td>no</td>\n",
       "    </tr>\n",
       "    <tr>\n",
       "      <th>4</th>\n",
       "      <td>59</td>\n",
       "      <td>blue-collar</td>\n",
       "      <td>married</td>\n",
       "      <td>secondary</td>\n",
       "      <td>no</td>\n",
       "      <td>0</td>\n",
       "      <td>yes</td>\n",
       "      <td>no</td>\n",
       "      <td>1</td>\n",
       "      <td>0</td>\n",
       "      <td>no</td>\n",
       "    </tr>\n",
       "  </tbody>\n",
       "</table>\n",
       "</div>"
      ],
      "text/plain": [
       "   age          job  marital  education default  balance housing-loan  \\\n",
       "0   30   unemployed  married    primary      no     1787           no   \n",
       "1   33     services  married  secondary      no     4789          yes   \n",
       "2   35   management   single   tertiary      no     1350          yes   \n",
       "3   30   management  married   tertiary      no     1476          yes   \n",
       "4   59  blue-collar  married  secondary      no        0          yes   \n",
       "\n",
       "  personal-loan  current-campaign  previous-campaign subscribed  \n",
       "0            no                 1                  0         no  \n",
       "1           yes                 1                  4         no  \n",
       "2            no                 1                  1         no  \n",
       "3           yes                 4                  0         no  \n",
       "4            no                 1                  0         no  "
      ]
     },
     "execution_count": 3,
     "metadata": {},
     "output_type": "execute_result"
    }
   ],
   "source": [
    "df.head()"
   ]
  },
  {
   "cell_type": "code",
   "execution_count": 6,
   "id": "e341db05-6cdb-4107-9906-1e79eb5a69ec",
   "metadata": {},
   "outputs": [],
   "source": [
    "df1 = pd.get_dummies(df,drop_first=True,dtype='int')"
   ]
  },
  {
   "cell_type": "code",
   "execution_count": 7,
   "id": "8e03c607-1581-436b-8dc9-d88fe56a4df5",
   "metadata": {},
   "outputs": [
    {
     "data": {
      "text/html": [
       "<div>\n",
       "<style scoped>\n",
       "    .dataframe tbody tr th:only-of-type {\n",
       "        vertical-align: middle;\n",
       "    }\n",
       "\n",
       "    .dataframe tbody tr th {\n",
       "        vertical-align: top;\n",
       "    }\n",
       "\n",
       "    .dataframe thead th {\n",
       "        text-align: right;\n",
       "    }\n",
       "</style>\n",
       "<table border=\"1\" class=\"dataframe\">\n",
       "  <thead>\n",
       "    <tr style=\"text-align: right;\">\n",
       "      <th></th>\n",
       "      <th>age</th>\n",
       "      <th>balance</th>\n",
       "      <th>current-campaign</th>\n",
       "      <th>previous-campaign</th>\n",
       "      <th>job_blue-collar</th>\n",
       "      <th>job_entrepreneur</th>\n",
       "      <th>job_housemaid</th>\n",
       "      <th>job_management</th>\n",
       "      <th>job_retired</th>\n",
       "      <th>job_self-employed</th>\n",
       "      <th>...</th>\n",
       "      <th>job_unknown</th>\n",
       "      <th>marital_married</th>\n",
       "      <th>marital_single</th>\n",
       "      <th>education_secondary</th>\n",
       "      <th>education_tertiary</th>\n",
       "      <th>education_unknown</th>\n",
       "      <th>default_yes</th>\n",
       "      <th>housing-loan_yes</th>\n",
       "      <th>personal-loan_yes</th>\n",
       "      <th>subscribed_yes</th>\n",
       "    </tr>\n",
       "  </thead>\n",
       "  <tbody>\n",
       "    <tr>\n",
       "      <th>0</th>\n",
       "      <td>30</td>\n",
       "      <td>1787</td>\n",
       "      <td>1</td>\n",
       "      <td>0</td>\n",
       "      <td>0</td>\n",
       "      <td>0</td>\n",
       "      <td>0</td>\n",
       "      <td>0</td>\n",
       "      <td>0</td>\n",
       "      <td>0</td>\n",
       "      <td>...</td>\n",
       "      <td>0</td>\n",
       "      <td>1</td>\n",
       "      <td>0</td>\n",
       "      <td>0</td>\n",
       "      <td>0</td>\n",
       "      <td>0</td>\n",
       "      <td>0</td>\n",
       "      <td>0</td>\n",
       "      <td>0</td>\n",
       "      <td>0</td>\n",
       "    </tr>\n",
       "    <tr>\n",
       "      <th>1</th>\n",
       "      <td>33</td>\n",
       "      <td>4789</td>\n",
       "      <td>1</td>\n",
       "      <td>4</td>\n",
       "      <td>0</td>\n",
       "      <td>0</td>\n",
       "      <td>0</td>\n",
       "      <td>0</td>\n",
       "      <td>0</td>\n",
       "      <td>0</td>\n",
       "      <td>...</td>\n",
       "      <td>0</td>\n",
       "      <td>1</td>\n",
       "      <td>0</td>\n",
       "      <td>1</td>\n",
       "      <td>0</td>\n",
       "      <td>0</td>\n",
       "      <td>0</td>\n",
       "      <td>1</td>\n",
       "      <td>1</td>\n",
       "      <td>0</td>\n",
       "    </tr>\n",
       "    <tr>\n",
       "      <th>2</th>\n",
       "      <td>35</td>\n",
       "      <td>1350</td>\n",
       "      <td>1</td>\n",
       "      <td>1</td>\n",
       "      <td>0</td>\n",
       "      <td>0</td>\n",
       "      <td>0</td>\n",
       "      <td>1</td>\n",
       "      <td>0</td>\n",
       "      <td>0</td>\n",
       "      <td>...</td>\n",
       "      <td>0</td>\n",
       "      <td>0</td>\n",
       "      <td>1</td>\n",
       "      <td>0</td>\n",
       "      <td>1</td>\n",
       "      <td>0</td>\n",
       "      <td>0</td>\n",
       "      <td>1</td>\n",
       "      <td>0</td>\n",
       "      <td>0</td>\n",
       "    </tr>\n",
       "    <tr>\n",
       "      <th>3</th>\n",
       "      <td>30</td>\n",
       "      <td>1476</td>\n",
       "      <td>4</td>\n",
       "      <td>0</td>\n",
       "      <td>0</td>\n",
       "      <td>0</td>\n",
       "      <td>0</td>\n",
       "      <td>1</td>\n",
       "      <td>0</td>\n",
       "      <td>0</td>\n",
       "      <td>...</td>\n",
       "      <td>0</td>\n",
       "      <td>1</td>\n",
       "      <td>0</td>\n",
       "      <td>0</td>\n",
       "      <td>1</td>\n",
       "      <td>0</td>\n",
       "      <td>0</td>\n",
       "      <td>1</td>\n",
       "      <td>1</td>\n",
       "      <td>0</td>\n",
       "    </tr>\n",
       "    <tr>\n",
       "      <th>4</th>\n",
       "      <td>59</td>\n",
       "      <td>0</td>\n",
       "      <td>1</td>\n",
       "      <td>0</td>\n",
       "      <td>1</td>\n",
       "      <td>0</td>\n",
       "      <td>0</td>\n",
       "      <td>0</td>\n",
       "      <td>0</td>\n",
       "      <td>0</td>\n",
       "      <td>...</td>\n",
       "      <td>0</td>\n",
       "      <td>1</td>\n",
       "      <td>0</td>\n",
       "      <td>1</td>\n",
       "      <td>0</td>\n",
       "      <td>0</td>\n",
       "      <td>0</td>\n",
       "      <td>1</td>\n",
       "      <td>0</td>\n",
       "      <td>0</td>\n",
       "    </tr>\n",
       "  </tbody>\n",
       "</table>\n",
       "<p>5 rows × 24 columns</p>\n",
       "</div>"
      ],
      "text/plain": [
       "   age  balance  current-campaign  previous-campaign  job_blue-collar  \\\n",
       "0   30     1787                 1                  0                0   \n",
       "1   33     4789                 1                  4                0   \n",
       "2   35     1350                 1                  1                0   \n",
       "3   30     1476                 4                  0                0   \n",
       "4   59        0                 1                  0                1   \n",
       "\n",
       "   job_entrepreneur  job_housemaid  job_management  job_retired  \\\n",
       "0                 0              0               0            0   \n",
       "1                 0              0               0            0   \n",
       "2                 0              0               1            0   \n",
       "3                 0              0               1            0   \n",
       "4                 0              0               0            0   \n",
       "\n",
       "   job_self-employed  ...  job_unknown  marital_married  marital_single  \\\n",
       "0                  0  ...            0                1               0   \n",
       "1                  0  ...            0                1               0   \n",
       "2                  0  ...            0                0               1   \n",
       "3                  0  ...            0                1               0   \n",
       "4                  0  ...            0                1               0   \n",
       "\n",
       "   education_secondary  education_tertiary  education_unknown  default_yes  \\\n",
       "0                    0                   0                  0            0   \n",
       "1                    1                   0                  0            0   \n",
       "2                    0                   1                  0            0   \n",
       "3                    0                   1                  0            0   \n",
       "4                    1                   0                  0            0   \n",
       "\n",
       "   housing-loan_yes  personal-loan_yes  subscribed_yes  \n",
       "0                 0                  0               0  \n",
       "1                 1                  1               0  \n",
       "2                 1                  0               0  \n",
       "3                 1                  1               0  \n",
       "4                 1                  0               0  \n",
       "\n",
       "[5 rows x 24 columns]"
      ]
     },
     "execution_count": 7,
     "metadata": {},
     "output_type": "execute_result"
    }
   ],
   "source": [
    "df1.head()"
   ]
  },
  {
   "cell_type": "code",
   "execution_count": 8,
   "id": "a189ac9e-eb97-499b-be89-8b7117324d8d",
   "metadata": {},
   "outputs": [],
   "source": [
    "from sklearn.preprocessing import StandardScaler"
   ]
  },
  {
   "cell_type": "code",
   "execution_count": 9,
   "id": "29e78729-ac9e-474a-9b60-c84cfff729c9",
   "metadata": {},
   "outputs": [],
   "source": [
    "scaler = StandardScaler()"
   ]
  },
  {
   "cell_type": "code",
   "execution_count": 10,
   "id": "a0be2d38-169d-47fe-942a-46637ce6da18",
   "metadata": {},
   "outputs": [],
   "source": [
    "df_scaled = scaler.fit_transform(df1)"
   ]
  },
  {
   "cell_type": "code",
   "execution_count": 13,
   "id": "1bcde421-a421-4556-b2dd-a74cdfcee822",
   "metadata": {},
   "outputs": [],
   "source": [
    "df_scaled = pd.DataFrame(df_scaled,columns=df1.columns)"
   ]
  },
  {
   "cell_type": "code",
   "execution_count": 14,
   "id": "782c8c06-0922-44e9-b6da-8ada35a5f431",
   "metadata": {},
   "outputs": [
    {
     "data": {
      "text/html": [
       "<div>\n",
       "<style scoped>\n",
       "    .dataframe tbody tr th:only-of-type {\n",
       "        vertical-align: middle;\n",
       "    }\n",
       "\n",
       "    .dataframe tbody tr th {\n",
       "        vertical-align: top;\n",
       "    }\n",
       "\n",
       "    .dataframe thead th {\n",
       "        text-align: right;\n",
       "    }\n",
       "</style>\n",
       "<table border=\"1\" class=\"dataframe\">\n",
       "  <thead>\n",
       "    <tr style=\"text-align: right;\">\n",
       "      <th></th>\n",
       "      <th>age</th>\n",
       "      <th>balance</th>\n",
       "      <th>current-campaign</th>\n",
       "      <th>previous-campaign</th>\n",
       "      <th>job_blue-collar</th>\n",
       "      <th>job_entrepreneur</th>\n",
       "      <th>job_housemaid</th>\n",
       "      <th>job_management</th>\n",
       "      <th>job_retired</th>\n",
       "      <th>job_self-employed</th>\n",
       "      <th>...</th>\n",
       "      <th>job_unknown</th>\n",
       "      <th>marital_married</th>\n",
       "      <th>marital_single</th>\n",
       "      <th>education_secondary</th>\n",
       "      <th>education_tertiary</th>\n",
       "      <th>education_unknown</th>\n",
       "      <th>default_yes</th>\n",
       "      <th>housing-loan_yes</th>\n",
       "      <th>personal-loan_yes</th>\n",
       "      <th>subscribed_yes</th>\n",
       "    </tr>\n",
       "  </thead>\n",
       "  <tbody>\n",
       "    <tr>\n",
       "      <th>0</th>\n",
       "      <td>-1.056270</td>\n",
       "      <td>0.121072</td>\n",
       "      <td>-0.576829</td>\n",
       "      <td>-0.320413</td>\n",
       "      <td>-0.514408</td>\n",
       "      <td>-0.196454</td>\n",
       "      <td>-0.159382</td>\n",
       "      <td>-0.522306</td>\n",
       "      <td>-0.231518</td>\n",
       "      <td>-0.205391</td>\n",
       "      <td>...</td>\n",
       "      <td>-0.092068</td>\n",
       "      <td>0.785095</td>\n",
       "      <td>-0.599749</td>\n",
       "      <td>-1.020335</td>\n",
       "      <td>-0.652482</td>\n",
       "      <td>-0.207719</td>\n",
       "      <td>-0.130759</td>\n",
       "      <td>-1.142051</td>\n",
       "      <td>-0.424756</td>\n",
       "      <td>-0.360902</td>\n",
       "    </tr>\n",
       "    <tr>\n",
       "      <th>1</th>\n",
       "      <td>-0.772583</td>\n",
       "      <td>1.118644</td>\n",
       "      <td>-0.576829</td>\n",
       "      <td>2.041734</td>\n",
       "      <td>-0.514408</td>\n",
       "      <td>-0.196454</td>\n",
       "      <td>-0.159382</td>\n",
       "      <td>-0.522306</td>\n",
       "      <td>-0.231518</td>\n",
       "      <td>-0.205391</td>\n",
       "      <td>...</td>\n",
       "      <td>-0.092068</td>\n",
       "      <td>0.785095</td>\n",
       "      <td>-0.599749</td>\n",
       "      <td>0.980070</td>\n",
       "      <td>-0.652482</td>\n",
       "      <td>-0.207719</td>\n",
       "      <td>-0.130759</td>\n",
       "      <td>0.875617</td>\n",
       "      <td>2.354292</td>\n",
       "      <td>-0.360902</td>\n",
       "    </tr>\n",
       "    <tr>\n",
       "      <th>2</th>\n",
       "      <td>-0.583458</td>\n",
       "      <td>-0.024144</td>\n",
       "      <td>-0.576829</td>\n",
       "      <td>0.270124</td>\n",
       "      <td>-0.514408</td>\n",
       "      <td>-0.196454</td>\n",
       "      <td>-0.159382</td>\n",
       "      <td>1.914585</td>\n",
       "      <td>-0.231518</td>\n",
       "      <td>-0.205391</td>\n",
       "      <td>...</td>\n",
       "      <td>-0.092068</td>\n",
       "      <td>-1.273731</td>\n",
       "      <td>1.667363</td>\n",
       "      <td>-1.020335</td>\n",
       "      <td>1.532609</td>\n",
       "      <td>-0.207719</td>\n",
       "      <td>-0.130759</td>\n",
       "      <td>0.875617</td>\n",
       "      <td>-0.424756</td>\n",
       "      <td>-0.360902</td>\n",
       "    </tr>\n",
       "    <tr>\n",
       "      <th>3</th>\n",
       "      <td>-1.056270</td>\n",
       "      <td>0.017726</td>\n",
       "      <td>0.387967</td>\n",
       "      <td>-0.320413</td>\n",
       "      <td>-0.514408</td>\n",
       "      <td>-0.196454</td>\n",
       "      <td>-0.159382</td>\n",
       "      <td>1.914585</td>\n",
       "      <td>-0.231518</td>\n",
       "      <td>-0.205391</td>\n",
       "      <td>...</td>\n",
       "      <td>-0.092068</td>\n",
       "      <td>0.785095</td>\n",
       "      <td>-0.599749</td>\n",
       "      <td>-1.020335</td>\n",
       "      <td>1.532609</td>\n",
       "      <td>-0.207719</td>\n",
       "      <td>-0.130759</td>\n",
       "      <td>0.875617</td>\n",
       "      <td>2.354292</td>\n",
       "      <td>-0.360902</td>\n",
       "    </tr>\n",
       "    <tr>\n",
       "      <th>4</th>\n",
       "      <td>1.686036</td>\n",
       "      <td>-0.472753</td>\n",
       "      <td>-0.576829</td>\n",
       "      <td>-0.320413</td>\n",
       "      <td>1.943983</td>\n",
       "      <td>-0.196454</td>\n",
       "      <td>-0.159382</td>\n",
       "      <td>-0.522306</td>\n",
       "      <td>-0.231518</td>\n",
       "      <td>-0.205391</td>\n",
       "      <td>...</td>\n",
       "      <td>-0.092068</td>\n",
       "      <td>0.785095</td>\n",
       "      <td>-0.599749</td>\n",
       "      <td>0.980070</td>\n",
       "      <td>-0.652482</td>\n",
       "      <td>-0.207719</td>\n",
       "      <td>-0.130759</td>\n",
       "      <td>0.875617</td>\n",
       "      <td>-0.424756</td>\n",
       "      <td>-0.360902</td>\n",
       "    </tr>\n",
       "  </tbody>\n",
       "</table>\n",
       "<p>5 rows × 24 columns</p>\n",
       "</div>"
      ],
      "text/plain": [
       "        age   balance  current-campaign  previous-campaign  job_blue-collar  \\\n",
       "0 -1.056270  0.121072         -0.576829          -0.320413        -0.514408   \n",
       "1 -0.772583  1.118644         -0.576829           2.041734        -0.514408   \n",
       "2 -0.583458 -0.024144         -0.576829           0.270124        -0.514408   \n",
       "3 -1.056270  0.017726          0.387967          -0.320413        -0.514408   \n",
       "4  1.686036 -0.472753         -0.576829          -0.320413         1.943983   \n",
       "\n",
       "   job_entrepreneur  job_housemaid  job_management  job_retired  \\\n",
       "0         -0.196454      -0.159382       -0.522306    -0.231518   \n",
       "1         -0.196454      -0.159382       -0.522306    -0.231518   \n",
       "2         -0.196454      -0.159382        1.914585    -0.231518   \n",
       "3         -0.196454      -0.159382        1.914585    -0.231518   \n",
       "4         -0.196454      -0.159382       -0.522306    -0.231518   \n",
       "\n",
       "   job_self-employed  ...  job_unknown  marital_married  marital_single  \\\n",
       "0          -0.205391  ...    -0.092068         0.785095       -0.599749   \n",
       "1          -0.205391  ...    -0.092068         0.785095       -0.599749   \n",
       "2          -0.205391  ...    -0.092068        -1.273731        1.667363   \n",
       "3          -0.205391  ...    -0.092068         0.785095       -0.599749   \n",
       "4          -0.205391  ...    -0.092068         0.785095       -0.599749   \n",
       "\n",
       "   education_secondary  education_tertiary  education_unknown  default_yes  \\\n",
       "0            -1.020335           -0.652482          -0.207719    -0.130759   \n",
       "1             0.980070           -0.652482          -0.207719    -0.130759   \n",
       "2            -1.020335            1.532609          -0.207719    -0.130759   \n",
       "3            -1.020335            1.532609          -0.207719    -0.130759   \n",
       "4             0.980070           -0.652482          -0.207719    -0.130759   \n",
       "\n",
       "   housing-loan_yes  personal-loan_yes  subscribed_yes  \n",
       "0         -1.142051          -0.424756       -0.360902  \n",
       "1          0.875617           2.354292       -0.360902  \n",
       "2          0.875617          -0.424756       -0.360902  \n",
       "3          0.875617           2.354292       -0.360902  \n",
       "4          0.875617          -0.424756       -0.360902  \n",
       "\n",
       "[5 rows x 24 columns]"
      ]
     },
     "execution_count": 14,
     "metadata": {},
     "output_type": "execute_result"
    }
   ],
   "source": [
    "df_scaled.head()"
   ]
  },
  {
   "cell_type": "code",
   "execution_count": 15,
   "id": "d5282f5c-b8c4-4024-8449-0641b06f818d",
   "metadata": {},
   "outputs": [],
   "source": [
    "from sklearn.decomposition import PCA"
   ]
  },
  {
   "cell_type": "code",
   "execution_count": 17,
   "id": "6cf7820e-9831-450c-961f-aebae917b2a0",
   "metadata": {},
   "outputs": [],
   "source": [
    "pca = PCA(n_components=0.95)"
   ]
  },
  {
   "cell_type": "code",
   "execution_count": 18,
   "id": "a7a27a25-8b7b-4e4f-a20e-62eb44eddda3",
   "metadata": {},
   "outputs": [],
   "source": [
    "pca_mod = pca.fit_transform(df_scaled)"
   ]
  },
  {
   "cell_type": "code",
   "execution_count": 20,
   "id": "1c0cf612-1b22-4475-b442-b8cb07f8bb2b",
   "metadata": {},
   "outputs": [
    {
     "data": {
      "text/plain": [
       "20"
      ]
     },
     "execution_count": 20,
     "metadata": {},
     "output_type": "execute_result"
    }
   ],
   "source": [
    "pca.n_components_"
   ]
  },
  {
   "cell_type": "code",
   "execution_count": 21,
   "id": "01bb95bd-4e3f-42db-9539-5b8d00ca6ed8",
   "metadata": {},
   "outputs": [
    {
     "data": {
      "text/plain": [
       "array([0.10126814, 0.09274364, 0.06531557, 0.055294  , 0.04951141,\n",
       "       0.0481161 , 0.04634465, 0.04610107, 0.04461343, 0.04381609,\n",
       "       0.04354764, 0.04242623, 0.03963107, 0.03892056, 0.03834185,\n",
       "       0.03761381, 0.03684789, 0.03354004, 0.03036179, 0.02519066])"
      ]
     },
     "execution_count": 21,
     "metadata": {},
     "output_type": "execute_result"
    }
   ],
   "source": [
    "pca.explained_variance_ratio_"
   ]
  },
  {
   "cell_type": "code",
   "execution_count": 22,
   "id": "d42da349-e9f4-4a62-97b3-d4e3469c1e23",
   "metadata": {},
   "outputs": [
    {
     "data": {
      "text/plain": [
       "array([2.43097315, 2.22633975, 1.5679206 , 1.3273496 , 1.18853678,\n",
       "       1.15504193, 1.11251774, 1.10667044, 1.0709591 , 1.05181881,\n",
       "       1.04537453, 1.01845488, 0.95135607, 0.93430011, 0.92040808,\n",
       "       0.90293105, 0.88454505, 0.80513902, 0.72884409, 0.60470969])"
      ]
     },
     "execution_count": 22,
     "metadata": {},
     "output_type": "execute_result"
    }
   ],
   "source": [
    "pca.explained_variance_"
   ]
  },
  {
   "cell_type": "code",
   "execution_count": null,
   "id": "bc7b8a9d-1557-48eb-b5e6-c4d2233a3bba",
   "metadata": {},
   "outputs": [],
   "source": []
  },
  {
   "cell_type": "code",
   "execution_count": 26,
   "id": "919fc752-411d-4b87-af0b-8bea8dc5fe49",
   "metadata": {},
   "outputs": [],
   "source": [
    "from sklearn.linear_model import LogisticRegression"
   ]
  },
  {
   "cell_type": "code",
   "execution_count": 27,
   "id": "8af49c8d-d37b-413e-a36d-7a0f9d952a5b",
   "metadata": {},
   "outputs": [],
   "source": [
    "lr = LogisticRegression()"
   ]
  },
  {
   "cell_type": "code",
   "execution_count": 28,
   "id": "fe22c1ac-90ad-45bc-b6d5-643c0d6e677a",
   "metadata": {},
   "outputs": [],
   "source": [
    "y = df.subscribed\n",
    "x = df.drop('subscribed',axis = 1)"
   ]
  },
  {
   "cell_type": "code",
   "execution_count": 56,
   "id": "b4cbbebe-4ec1-4d73-a64b-ceb6e3469060",
   "metadata": {},
   "outputs": [],
   "source": [
    "df2 = pd.get_dummies(x,drop_first=True)"
   ]
  },
  {
   "cell_type": "code",
   "execution_count": 57,
   "id": "b057b671-3459-42ae-b165-4acfd858be56",
   "metadata": {},
   "outputs": [],
   "source": [
    "df2_sc = scaler.fit_transform(df2)\n",
    "df2_f = pd.DataFrame(df2_sc,columns=df2.columns)"
   ]
  },
  {
   "cell_type": "code",
   "execution_count": 58,
   "id": "265d2e91-92fa-4d46-b8ef-843f941b6c80",
   "metadata": {},
   "outputs": [],
   "source": [
    "mod_pc = pca.fit_transform(df2_f)"
   ]
  },
  {
   "cell_type": "code",
   "execution_count": 34,
   "id": "f26c06d4-cb1f-406f-9bfb-276e053a943a",
   "metadata": {},
   "outputs": [],
   "source": [
    "from sklearn.model_selection import train_test_split"
   ]
  },
  {
   "cell_type": "code",
   "execution_count": 35,
   "id": "f396dd27-83db-4afb-ad5f-2fb3533f1600",
   "metadata": {},
   "outputs": [],
   "source": [
    "x_train,x_test,y_train,y_test = train_test_split(mod_pc,y,test_size=0.2,random_state=42)"
   ]
  },
  {
   "cell_type": "code",
   "execution_count": 36,
   "id": "e3c1c54a-2794-4685-9550-5794cfc06424",
   "metadata": {},
   "outputs": [],
   "source": [
    "mod_lr = lr.fit(x_train,y_train)"
   ]
  },
  {
   "cell_type": "code",
   "execution_count": 37,
   "id": "fb5900b3-55be-4980-977b-2702584fe551",
   "metadata": {},
   "outputs": [],
   "source": [
    "y_pred = mod_lr.predict(x_test)"
   ]
  },
  {
   "cell_type": "code",
   "execution_count": 38,
   "id": "cb9fdacb-8127-4f77-80a1-d72f96a0bdc8",
   "metadata": {},
   "outputs": [],
   "source": [
    "from sklearn import metrics"
   ]
  },
  {
   "cell_type": "code",
   "execution_count": 39,
   "id": "a6ec771a-7a67-420d-86c1-e15a2509b839",
   "metadata": {},
   "outputs": [
    {
     "data": {
      "text/plain": [
       "array([[807,   0],\n",
       "       [ 97,   1]], dtype=int64)"
      ]
     },
     "execution_count": 39,
     "metadata": {},
     "output_type": "execute_result"
    }
   ],
   "source": [
    "mat = metrics.confusion_matrix(y_test,y_pred)\n",
    "mat"
   ]
  },
  {
   "cell_type": "code",
   "execution_count": 40,
   "id": "cbf94180-1c37-4c1d-96f8-bbd396b050f0",
   "metadata": {},
   "outputs": [
    {
     "data": {
      "text/plain": [
       "0.6371671345117972"
      ]
     },
     "execution_count": 40,
     "metadata": {},
     "output_type": "execute_result"
    }
   ],
   "source": [
    "metrics.roc_auc_score(y_test,mod_lr.predict_proba(x_test)[:,1])"
   ]
  },
  {
   "cell_type": "code",
   "execution_count": 42,
   "id": "f69fdd09-e686-467c-a023-3c1164ca553f",
   "metadata": {},
   "outputs": [
    {
     "name": "stdout",
     "output_type": "stream",
     "text": [
      "              precision    recall  f1-score   support\n",
      "\n",
      "          no       0.89      1.00      0.94       807\n",
      "         yes       1.00      0.01      0.02        98\n",
      "\n",
      "    accuracy                           0.89       905\n",
      "   macro avg       0.95      0.51      0.48       905\n",
      "weighted avg       0.90      0.89      0.84       905\n",
      "\n"
     ]
    }
   ],
   "source": [
    "print(metrics.classification_report(y_test,y_pred))"
   ]
  },
  {
   "cell_type": "code",
   "execution_count": 44,
   "id": "6b94b9a7-f43f-49e5-bea9-3edcc397b445",
   "metadata": {},
   "outputs": [
    {
     "data": {
      "text/plain": [
       "0.8928176795580111"
      ]
     },
     "execution_count": 44,
     "metadata": {},
     "output_type": "execute_result"
    }
   ],
   "source": [
    "mod_lr.score(x_test,y_test)"
   ]
  },
  {
   "cell_type": "code",
   "execution_count": 46,
   "id": "3475a760-3c30-4fc4-b251-62eb07edbe7d",
   "metadata": {},
   "outputs": [],
   "source": [
    "df['subscribed'] = df['subscribed'].apply(lambda x : 1 if x == 'Yes' else 0)"
   ]
  },
  {
   "cell_type": "code",
   "execution_count": 47,
   "id": "be423614-11b7-4f3b-885a-28300dc92e26",
   "metadata": {},
   "outputs": [],
   "source": [
    "y = df.subscribed\n",
    "x = df.drop('subscribed',axis = 1)"
   ]
  },
  {
   "cell_type": "code",
   "execution_count": 48,
   "id": "ac9f7d25-af07-4160-a756-9fb88d91bfc5",
   "metadata": {},
   "outputs": [],
   "source": [
    "x_train,x_test,y_train,y_test = train_test_split(mod_pc,y,test_size=0.2,random_state=42)"
   ]
  },
  {
   "cell_type": "code",
   "execution_count": 59,
   "id": "4eae0c78-bb21-46b4-9b50-829b60fd6682",
   "metadata": {},
   "outputs": [
    {
     "ename": "ValueError",
     "evalue": "This solver needs samples of at least 2 classes in the data, but the data contains only one class: 0",
     "output_type": "error",
     "traceback": [
      "\u001b[1;31m---------------------------------------------------------------------------\u001b[0m",
      "\u001b[1;31mValueError\u001b[0m                                Traceback (most recent call last)",
      "Cell \u001b[1;32mIn[59], line 1\u001b[0m\n\u001b[1;32m----> 1\u001b[0m mod_lr \u001b[38;5;241m=\u001b[39m lr\u001b[38;5;241m.\u001b[39mfit(x_train,y_train)\n",
      "File \u001b[1;32m~\\anaconda3\\Lib\\site-packages\\sklearn\\base.py:1474\u001b[0m, in \u001b[0;36m_fit_context.<locals>.decorator.<locals>.wrapper\u001b[1;34m(estimator, *args, **kwargs)\u001b[0m\n\u001b[0;32m   1467\u001b[0m     estimator\u001b[38;5;241m.\u001b[39m_validate_params()\n\u001b[0;32m   1469\u001b[0m \u001b[38;5;28;01mwith\u001b[39;00m config_context(\n\u001b[0;32m   1470\u001b[0m     skip_parameter_validation\u001b[38;5;241m=\u001b[39m(\n\u001b[0;32m   1471\u001b[0m         prefer_skip_nested_validation \u001b[38;5;129;01mor\u001b[39;00m global_skip_validation\n\u001b[0;32m   1472\u001b[0m     )\n\u001b[0;32m   1473\u001b[0m ):\n\u001b[1;32m-> 1474\u001b[0m     \u001b[38;5;28;01mreturn\u001b[39;00m fit_method(estimator, \u001b[38;5;241m*\u001b[39margs, \u001b[38;5;241m*\u001b[39m\u001b[38;5;241m*\u001b[39mkwargs)\n",
      "File \u001b[1;32m~\\anaconda3\\Lib\\site-packages\\sklearn\\linear_model\\_logistic.py:1246\u001b[0m, in \u001b[0;36mLogisticRegression.fit\u001b[1;34m(self, X, y, sample_weight)\u001b[0m\n\u001b[0;32m   1244\u001b[0m classes_ \u001b[38;5;241m=\u001b[39m \u001b[38;5;28mself\u001b[39m\u001b[38;5;241m.\u001b[39mclasses_\n\u001b[0;32m   1245\u001b[0m \u001b[38;5;28;01mif\u001b[39;00m n_classes \u001b[38;5;241m<\u001b[39m \u001b[38;5;241m2\u001b[39m:\n\u001b[1;32m-> 1246\u001b[0m     \u001b[38;5;28;01mraise\u001b[39;00m \u001b[38;5;167;01mValueError\u001b[39;00m(\n\u001b[0;32m   1247\u001b[0m         \u001b[38;5;124m\"\u001b[39m\u001b[38;5;124mThis solver needs samples of at least 2 classes\u001b[39m\u001b[38;5;124m\"\u001b[39m\n\u001b[0;32m   1248\u001b[0m         \u001b[38;5;124m\"\u001b[39m\u001b[38;5;124m in the data, but the data contains only one\u001b[39m\u001b[38;5;124m\"\u001b[39m\n\u001b[0;32m   1249\u001b[0m         \u001b[38;5;124m\"\u001b[39m\u001b[38;5;124m class: \u001b[39m\u001b[38;5;132;01m%r\u001b[39;00m\u001b[38;5;124m\"\u001b[39m\n\u001b[0;32m   1250\u001b[0m         \u001b[38;5;241m%\u001b[39m classes_[\u001b[38;5;241m0\u001b[39m]\n\u001b[0;32m   1251\u001b[0m     )\n\u001b[0;32m   1253\u001b[0m \u001b[38;5;28;01mif\u001b[39;00m \u001b[38;5;28mlen\u001b[39m(\u001b[38;5;28mself\u001b[39m\u001b[38;5;241m.\u001b[39mclasses_) \u001b[38;5;241m==\u001b[39m \u001b[38;5;241m2\u001b[39m:\n\u001b[0;32m   1254\u001b[0m     n_classes \u001b[38;5;241m=\u001b[39m \u001b[38;5;241m1\u001b[39m\n",
      "\u001b[1;31mValueError\u001b[0m: This solver needs samples of at least 2 classes in the data, but the data contains only one class: 0"
     ]
    }
   ],
   "source": [
    "mod_lr = lr.fit(x_train,y_train)"
   ]
  },
  {
   "cell_type": "code",
   "execution_count": 54,
   "id": "9727b70a-e163-4812-bafb-aed143fcc5c4",
   "metadata": {},
   "outputs": [
    {
     "data": {
      "text/plain": [
       "array([[-0.08759946,  0.43223549,  0.32940259, ..., -0.91812659,\n",
       "        -0.51647582,  0.65546212],\n",
       "       [-1.73788483, -0.87548918, -0.79852911, ..., -1.20499063,\n",
       "        -0.29404266,  0.77389771],\n",
       "       [ 3.20186789, -0.72457836, -0.59555388, ..., -0.04873154,\n",
       "         0.64413668, -0.41731808],\n",
       "       ...,\n",
       "       [-1.34715628,  0.58921127,  0.91430104, ...,  0.49493442,\n",
       "        -0.72723262, -0.27643514],\n",
       "       [-1.41149715, -0.37908066, -0.70148596, ...,  1.25003029,\n",
       "        -1.63794887, -0.09212634],\n",
       "       [ 1.87338978, -0.49855028, -0.45267937, ...,  0.17216063,\n",
       "         0.20715763,  0.37027346]])"
      ]
     },
     "execution_count": 54,
     "metadata": {},
     "output_type": "execute_result"
    }
   ],
   "source": []
  },
  {
   "cell_type": "code",
   "execution_count": 60,
   "id": "0e4cdd69-a155-47d6-90d8-f60ec9f71c95",
   "metadata": {},
   "outputs": [],
   "source": [
    "pca = PCA()"
   ]
  },
  {
   "cell_type": "code",
   "execution_count": 61,
   "id": "114f87cd-1ecb-4cd5-a962-f96cfe058ce7",
   "metadata": {},
   "outputs": [],
   "source": [
    "mod_pc = pca.fit_transform(df2_f)"
   ]
  },
  {
   "cell_type": "code",
   "execution_count": 63,
   "id": "b6cf12d6-ecf9-407a-a0ed-9e2efc5e39f5",
   "metadata": {},
   "outputs": [
    {
     "data": {
      "text/plain": [
       "array([0.10522038, 0.09673222, 0.06610208, 0.05768943, 0.05042664,\n",
       "       0.05020805, 0.04823805, 0.04713019, 0.04637973, 0.04561303,\n",
       "       0.04520549, 0.0439007 , 0.04091262, 0.04061275, 0.03966493,\n",
       "       0.03854579, 0.03709986, 0.03180275, 0.02628675, 0.02034163,\n",
       "       0.00936447, 0.0075506 , 0.00497184])"
      ]
     },
     "execution_count": 63,
     "metadata": {},
     "output_type": "execute_result"
    }
   ],
   "source": [
    "pca.explained_variance_ratio_"
   ]
  },
  {
   "cell_type": "code",
   "execution_count": 64,
   "id": "1c7c22a7-641b-49f6-af35-e44df24231d4",
   "metadata": {},
   "outputs": [],
   "source": [
    "pca_ratio = pca.explained_variance_ratio_"
   ]
  },
  {
   "cell_type": "code",
   "execution_count": 74,
   "id": "c17cfc54-6d25-44fb-8f69-8e322f7bc090",
   "metadata": {},
   "outputs": [
    {
     "data": {
      "text/plain": [
       "[<matplotlib.lines.Line2D at 0x1bc9ed3d710>]"
      ]
     },
     "execution_count": 74,
     "metadata": {},
     "output_type": "execute_result"
    },
    {
     "data": {
      "image/png": "[encoded data removed]",
      "text/plain": [
       "<Figure size 800x500 with 1 Axes>"
      ]
     },
     "metadata": {},
     "output_type": "display_data"
    }
   ],
   "source": [
    "plt.figure(figsize = (8,5))\n",
    "plt.plot(range(1, len(pca_ratio)+1),pca_ratio,marker = 'o', markerfacecolor = 'r', markersize = 10)"
   ]
  },
  {
   "cell_type": "code",
   "execution_count": 68,
   "id": "6bede885-e9d7-466e-bab1-272417526af3",
   "metadata": {},
   "outputs": [],
   "source": [
    "pca_cum_ratio = np.cumsum(pca_ratio)"
   ]
  },
  {
   "cell_type": "code",
   "execution_count": 73,
   "id": "d01208a2-eaec-438d-8d27-e1db30a1f4cc",
   "metadata": {},
   "outputs": [
    {
     "data": {
      "text/plain": [
       "[<matplotlib.lines.Line2D at 0x1bc9e882590>]"
      ]
     },
     "execution_count": 73,
     "metadata": {},
     "output_type": "execute_result"
    },
    {
     "data": {
      "image/png": "[encoded data removed]",
      "text/plain": [
       "<Figure size 800x500 with 1 Axes>"
      ]
     },
     "metadata": {},
     "output_type": "display_data"
    }
   ],
   "source": [
    "plt.figure(figsize = (8,5))\n",
    "plt.plot(range(1, len(pca_cum_ratio)+1),pca_cum_ratio,marker = 'o', markerfacecolor = 'r', markersize = 10)"
   ]
  },
  {
   "cell_type": "code",
   "execution_count": 75,
   "id": "5b326e75-39e6-43ac-a42b-2be9d3825dcb",
   "metadata": {},
   "outputs": [
    {
     "data": {
      "text/plain": [
       "array([0.10522038, 0.20195261, 0.26805469, 0.32574411, 0.37617076,\n",
       "       0.4263788 , 0.47461686, 0.52174705, 0.56812679, 0.61373981,\n",
       "       0.6589453 , 0.702846  , 0.74375862, 0.78437138, 0.82403631,\n",
       "       0.8625821 , 0.89968196, 0.93148471, 0.95777146, 0.97811309,\n",
       "       0.98747756, 0.99502816, 1.        ])"
      ]
     },
     "execution_count": 75,
     "metadata": {},
     "output_type": "execute_result"
    }
   ],
   "source": [
    "pca_cum_ratio"
   ]
  },
  {
   "cell_type": "code",
   "execution_count": 76,
   "id": "4d5406a8-0a8f-4fb9-80dc-2d8221fb2ebc",
   "metadata": {},
   "outputs": [
    {
     "name": "stdout",
     "output_type": "stream",
     "text": [
      "Number of components explaining 95% variance: 19\n"
     ]
    }
   ],
   "source": [
    "n_components = np.argmax(pca_cum_ratio >= 0.95) + 1\n",
    "print(f'Number of components explaining 95% variance: {n_components}')"
   ]
  },
  {
   "cell_type": "code",
   "execution_count": 77,
   "id": "25673d23-cf24-4288-aa86-82c1570b801d",
   "metadata": {},
   "outputs": [
    {
     "data": {
      "text/plain": [
       "array([False, False, False, False, False, False, False, False, False,\n",
       "       False, False, False, False, False, False, False, False, False,\n",
       "        True,  True,  True,  True,  True])"
      ]
     },
     "execution_count": 77,
     "metadata": {},
     "output_type": "execute_result"
    }
   ],
   "source": [
    "pca_cum_ratio >= 0.95"
   ]
  },
  {
   "cell_type": "code",
   "execution_count": 80,
   "id": "da3ae3f6-dded-4087-8c7d-fbb86b10110e",
   "metadata": {},
   "outputs": [
    {
     "data": {
      "text/plain": [
       "18"
      ]
     },
     "execution_count": 80,
     "metadata": {},
     "output_type": "execute_result"
    }
   ],
   "source": [
    "np.argmax(pca_cum_ratio >= 0.95)"
   ]
  },
  {
   "cell_type": "code",
   "execution_count": null,
   "id": "cb47466e-0965-4b34-9753-255a75dc9576",
   "metadata": {},
   "outputs": [],
   "source": []
  },
  {
   "cell_type": "markdown",
   "id": "7b7c43b5-cd3e-47ce-ac04-ee5b8ee2902e",
   "metadata": {},
   "source": [
    "### Lets Try with Whiten = True"
   ]
  },
  {
   "cell_type": "code",
   "execution_count": 85,
   "id": "00de3925-92d5-4b54-b7d2-c889c0142e60",
   "metadata": {},
   "outputs": [],
   "source": [
    "pca = PCA(n_components=0.95,whiten=True)"
   ]
  },
  {
   "cell_type": "code",
   "execution_count": 86,
   "id": "aceec569-9f90-4456-abf7-f9df8f9951a6",
   "metadata": {},
   "outputs": [
    {
     "data": {
      "text/html": [
       "<div>\n",
       "<style scoped>\n",
       "    .dataframe tbody tr th:only-of-type {\n",
       "        vertical-align: middle;\n",
       "    }\n",
       "\n",
       "    .dataframe tbody tr th {\n",
       "        vertical-align: top;\n",
       "    }\n",
       "\n",
       "    .dataframe thead th {\n",
       "        text-align: right;\n",
       "    }\n",
       "</style>\n",
       "<table border=\"1\" class=\"dataframe\">\n",
       "  <thead>\n",
       "    <tr style=\"text-align: right;\">\n",
       "      <th></th>\n",
       "      <th>age</th>\n",
       "      <th>job</th>\n",
       "      <th>marital</th>\n",
       "      <th>education</th>\n",
       "      <th>default</th>\n",
       "      <th>balance</th>\n",
       "      <th>housing-loan</th>\n",
       "      <th>personal-loan</th>\n",
       "      <th>current-campaign</th>\n",
       "      <th>previous-campaign</th>\n",
       "    </tr>\n",
       "  </thead>\n",
       "  <tbody>\n",
       "    <tr>\n",
       "      <th>0</th>\n",
       "      <td>30</td>\n",
       "      <td>unemployed</td>\n",
       "      <td>married</td>\n",
       "      <td>primary</td>\n",
       "      <td>no</td>\n",
       "      <td>1787</td>\n",
       "      <td>no</td>\n",
       "      <td>no</td>\n",
       "      <td>1</td>\n",
       "      <td>0</td>\n",
       "    </tr>\n",
       "    <tr>\n",
       "      <th>1</th>\n",
       "      <td>33</td>\n",
       "      <td>services</td>\n",
       "      <td>married</td>\n",
       "      <td>secondary</td>\n",
       "      <td>no</td>\n",
       "      <td>4789</td>\n",
       "      <td>yes</td>\n",
       "      <td>yes</td>\n",
       "      <td>1</td>\n",
       "      <td>4</td>\n",
       "    </tr>\n",
       "    <tr>\n",
       "      <th>2</th>\n",
       "      <td>35</td>\n",
       "      <td>management</td>\n",
       "      <td>single</td>\n",
       "      <td>tertiary</td>\n",
       "      <td>no</td>\n",
       "      <td>1350</td>\n",
       "      <td>yes</td>\n",
       "      <td>no</td>\n",
       "      <td>1</td>\n",
       "      <td>1</td>\n",
       "    </tr>\n",
       "    <tr>\n",
       "      <th>3</th>\n",
       "      <td>30</td>\n",
       "      <td>management</td>\n",
       "      <td>married</td>\n",
       "      <td>tertiary</td>\n",
       "      <td>no</td>\n",
       "      <td>1476</td>\n",
       "      <td>yes</td>\n",
       "      <td>yes</td>\n",
       "      <td>4</td>\n",
       "      <td>0</td>\n",
       "    </tr>\n",
       "    <tr>\n",
       "      <th>4</th>\n",
       "      <td>59</td>\n",
       "      <td>blue-collar</td>\n",
       "      <td>married</td>\n",
       "      <td>secondary</td>\n",
       "      <td>no</td>\n",
       "      <td>0</td>\n",
       "      <td>yes</td>\n",
       "      <td>no</td>\n",
       "      <td>1</td>\n",
       "      <td>0</td>\n",
       "    </tr>\n",
       "    <tr>\n",
       "      <th>...</th>\n",
       "      <td>...</td>\n",
       "      <td>...</td>\n",
       "      <td>...</td>\n",
       "      <td>...</td>\n",
       "      <td>...</td>\n",
       "      <td>...</td>\n",
       "      <td>...</td>\n",
       "      <td>...</td>\n",
       "      <td>...</td>\n",
       "      <td>...</td>\n",
       "    </tr>\n",
       "    <tr>\n",
       "      <th>4516</th>\n",
       "      <td>33</td>\n",
       "      <td>services</td>\n",
       "      <td>married</td>\n",
       "      <td>secondary</td>\n",
       "      <td>no</td>\n",
       "      <td>-333</td>\n",
       "      <td>yes</td>\n",
       "      <td>no</td>\n",
       "      <td>5</td>\n",
       "      <td>0</td>\n",
       "    </tr>\n",
       "    <tr>\n",
       "      <th>4517</th>\n",
       "      <td>57</td>\n",
       "      <td>self-employed</td>\n",
       "      <td>married</td>\n",
       "      <td>tertiary</td>\n",
       "      <td>yes</td>\n",
       "      <td>-3313</td>\n",
       "      <td>yes</td>\n",
       "      <td>yes</td>\n",
       "      <td>1</td>\n",
       "      <td>0</td>\n",
       "    </tr>\n",
       "    <tr>\n",
       "      <th>4518</th>\n",
       "      <td>57</td>\n",
       "      <td>technician</td>\n",
       "      <td>married</td>\n",
       "      <td>secondary</td>\n",
       "      <td>no</td>\n",
       "      <td>295</td>\n",
       "      <td>no</td>\n",
       "      <td>no</td>\n",
       "      <td>11</td>\n",
       "      <td>0</td>\n",
       "    </tr>\n",
       "    <tr>\n",
       "      <th>4519</th>\n",
       "      <td>28</td>\n",
       "      <td>blue-collar</td>\n",
       "      <td>married</td>\n",
       "      <td>secondary</td>\n",
       "      <td>no</td>\n",
       "      <td>1137</td>\n",
       "      <td>no</td>\n",
       "      <td>no</td>\n",
       "      <td>4</td>\n",
       "      <td>3</td>\n",
       "    </tr>\n",
       "    <tr>\n",
       "      <th>4520</th>\n",
       "      <td>44</td>\n",
       "      <td>entrepreneur</td>\n",
       "      <td>single</td>\n",
       "      <td>tertiary</td>\n",
       "      <td>no</td>\n",
       "      <td>1136</td>\n",
       "      <td>yes</td>\n",
       "      <td>yes</td>\n",
       "      <td>2</td>\n",
       "      <td>7</td>\n",
       "    </tr>\n",
       "  </tbody>\n",
       "</table>\n",
       "<p>4521 rows × 10 columns</p>\n",
       "</div>"
      ],
      "text/plain": [
       "      age            job  marital  education default  balance housing-loan  \\\n",
       "0      30     unemployed  married    primary      no     1787           no   \n",
       "1      33       services  married  secondary      no     4789          yes   \n",
       "2      35     management   single   tertiary      no     1350          yes   \n",
       "3      30     management  married   tertiary      no     1476          yes   \n",
       "4      59    blue-collar  married  secondary      no        0          yes   \n",
       "...   ...            ...      ...        ...     ...      ...          ...   \n",
       "4516   33       services  married  secondary      no     -333          yes   \n",
       "4517   57  self-employed  married   tertiary     yes    -3313          yes   \n",
       "4518   57     technician  married  secondary      no      295           no   \n",
       "4519   28    blue-collar  married  secondary      no     1137           no   \n",
       "4520   44   entrepreneur   single   tertiary      no     1136          yes   \n",
       "\n",
       "     personal-loan  current-campaign  previous-campaign  \n",
       "0               no                 1                  0  \n",
       "1              yes                 1                  4  \n",
       "2               no                 1                  1  \n",
       "3              yes                 4                  0  \n",
       "4               no                 1                  0  \n",
       "...            ...               ...                ...  \n",
       "4516            no                 5                  0  \n",
       "4517           yes                 1                  0  \n",
       "4518            no                11                  0  \n",
       "4519            no                 4                  3  \n",
       "4520           yes                 2                  7  \n",
       "\n",
       "[4521 rows x 10 columns]"
      ]
     },
     "execution_count": 86,
     "metadata": {},
     "output_type": "execute_result"
    }
   ],
   "source": [
    "x"
   ]
  },
  {
   "cell_type": "code",
   "execution_count": 88,
   "id": "89930348-2c49-4423-8241-a10452a4eedd",
   "metadata": {},
   "outputs": [],
   "source": [
    "x_dum = pd.get_dummies(x,drop_first=True)"
   ]
  },
  {
   "cell_type": "code",
   "execution_count": 89,
   "id": "f8dd91e8-d725-48c4-81b3-d31f691cadde",
   "metadata": {},
   "outputs": [],
   "source": [
    "mod_pc = pca.fit_transform(x_dum)"
   ]
  },
  {
   "cell_type": "code",
   "execution_count": 92,
   "id": "ce0fb722-ac84-45ed-b206-f4d7e97cf58e",
   "metadata": {},
   "outputs": [
    {
     "data": {
      "text/plain": [
       "(4521, 1)"
      ]
     },
     "execution_count": 92,
     "metadata": {},
     "output_type": "execute_result"
    }
   ],
   "source": [
    "mod_pc.shape"
   ]
  },
  {
   "cell_type": "code",
   "execution_count": null,
   "id": "2f00670c-fb29-47b3-915f-1a899b1b6be0",
   "metadata": {},
   "outputs": [],
   "source": []
  }
 ],
 "metadata": {
  "kernelspec": {
   "display_name": "Python 3 (ipykernel)",
   "language": "python",
   "name": "python3"
  },
  "language_info": {
   "codemirror_mode": {
    "name": "ipython",
    "version": 3
   },
   "file_extension": ".py",
   "mimetype": "text/x-python",
   "name": "python",
   "nbconvert_exporter": "python",
   "pygments_lexer": "ipython3",
   "version": "3.11.5"
  }
 },
 "nbformat": 4,
 "nbformat_minor": 5
}
