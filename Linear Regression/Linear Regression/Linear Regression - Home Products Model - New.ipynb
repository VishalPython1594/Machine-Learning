{
 "cells": [
  {
   "cell_type": "code",
   "execution_count": 1,
   "id": "04e5dd94",
   "metadata": {},
   "outputs": [],
   "source": [
    "# Import the necessary lib.\n",
    "# Load the data into DF\n",
    "# Identify the X (feature) and Y (outcome/response) variables in the DF \n",
    "# Splitting the data into training and validation data\n",
    "# Model fitting\n",
    "# Model Diagnostics ###\n",
    "# Model Performance"
   ]
  },
  {
   "cell_type": "code",
   "execution_count": 2,
   "id": "92357428",
   "metadata": {},
   "outputs": [],
   "source": [
    "import pandas as pd\n",
    "import numpy as np\n",
    "import matplotlib.pyplot as plt\n",
    "import seaborn as sns"
   ]
  },
  {
   "cell_type": "code",
   "execution_count": 3,
   "id": "49c81f5a",
   "metadata": {},
   "outputs": [],
   "source": [
    "df = pd.read_csv('HomeProducts_raw_data.csv')"
   ]
  },
  {
   "cell_type": "code",
   "execution_count": 4,
   "id": "f8b0a9f4",
   "metadata": {},
   "outputs": [
    {
     "data": {
      "text/html": [
       "<div>\n",
       "<style scoped>\n",
       "    .dataframe tbody tr th:only-of-type {\n",
       "        vertical-align: middle;\n",
       "    }\n",
       "\n",
       "    .dataframe tbody tr th {\n",
       "        vertical-align: top;\n",
       "    }\n",
       "\n",
       "    .dataframe thead th {\n",
       "        text-align: right;\n",
       "    }\n",
       "</style>\n",
       "<table border=\"1\" class=\"dataframe\">\n",
       "  <thead>\n",
       "    <tr style=\"text-align: right;\">\n",
       "      <th></th>\n",
       "      <th>S.I</th>\n",
       "      <th>Advertisement</th>\n",
       "      <th>Sales</th>\n",
       "    </tr>\n",
       "  </thead>\n",
       "  <tbody>\n",
       "    <tr>\n",
       "      <th>0</th>\n",
       "      <td>1</td>\n",
       "      <td>62.00</td>\n",
       "      <td>270.0</td>\n",
       "    </tr>\n",
       "    <tr>\n",
       "      <th>1</th>\n",
       "      <td>2</td>\n",
       "      <td>76.33</td>\n",
       "      <td>200.0</td>\n",
       "    </tr>\n",
       "    <tr>\n",
       "      <th>2</th>\n",
       "      <td>3</td>\n",
       "      <td>72.00</td>\n",
       "      <td>240.0</td>\n",
       "    </tr>\n",
       "    <tr>\n",
       "      <th>3</th>\n",
       "      <td>4</td>\n",
       "      <td>60.00</td>\n",
       "      <td>250.0</td>\n",
       "    </tr>\n",
       "    <tr>\n",
       "      <th>4</th>\n",
       "      <td>5</td>\n",
       "      <td>61.00</td>\n",
       "      <td>180.0</td>\n",
       "    </tr>\n",
       "  </tbody>\n",
       "</table>\n",
       "</div>"
      ],
      "text/plain": [
       "   S.I  Advertisement  Sales\n",
       "0    1          62.00  270.0\n",
       "1    2          76.33  200.0\n",
       "2    3          72.00  240.0\n",
       "3    4          60.00  250.0\n",
       "4    5          61.00  180.0"
      ]
     },
     "execution_count": 4,
     "metadata": {},
     "output_type": "execute_result"
    }
   ],
   "source": [
    "df.head()"
   ]
  },
  {
   "cell_type": "code",
   "execution_count": 5,
   "id": "69d3bc0b",
   "metadata": {},
   "outputs": [],
   "source": [
    "import statsmodels.api as sm\n",
    "from sklearn.model_selection import train_test_split"
   ]
  },
  {
   "cell_type": "code",
   "execution_count": 6,
   "id": "6f4aa280",
   "metadata": {},
   "outputs": [],
   "source": [
    "x = sm.add_constant(df.Advertisement.values)\n",
    "y = df.Sales.values"
   ]
  },
  {
   "cell_type": "code",
   "execution_count": null,
   "id": "38a17c3a",
   "metadata": {},
   "outputs": [],
   "source": [
    "# training data > model learning (fit)\n",
    "# testing data > model evaluation/perf.metrics\n",
    "\n",
    "# Source: X and y data\n",
    "\n",
    "# training data > X and y > train_X and train_y [ model will learn from this..]\n",
    "# train_X, train_y are subsets of X and y respectively.\n",
    "\n",
    "# testing data > X and y > test_X and test_y [model will predict using test_X and perf. evaluation\n",
    "# will happen against test_y]\n",
    "\n",
    "# random_state is just a seed value for repeatability of results."
   ]
  },
  {
   "cell_type": "code",
   "execution_count": 7,
   "id": "0e57ae87",
   "metadata": {},
   "outputs": [],
   "source": [
    "x_train,x_test,y_train,y_test = train_test_split(x,y,train_size=0.8,random_state=101)"
   ]
  },
  {
   "cell_type": "code",
   "execution_count": 8,
   "id": "21eb2fd7",
   "metadata": {},
   "outputs": [],
   "source": [
    "# model learns from training data alone\n",
    "# OLS method takes in training y and training X data as parameters"
   ]
  },
  {
   "cell_type": "code",
   "execution_count": 9,
   "id": "21957a90",
   "metadata": {},
   "outputs": [],
   "source": [
    "model = sm.OLS(y_train, x_train).fit()"
   ]
  },
  {
   "cell_type": "code",
   "execution_count": 10,
   "id": "e382a271",
   "metadata": {},
   "outputs": [
    {
     "data": {
      "text/plain": [
       "array([26.21637012,  3.64022056])"
      ]
     },
     "execution_count": 10,
     "metadata": {},
     "output_type": "execute_result"
    }
   ],
   "source": [
    "# params gives you B0 and B1\n",
    "model.params"
   ]
  },
  {
   "cell_type": "code",
   "execution_count": 11,
   "id": "2b8427f3",
   "metadata": {},
   "outputs": [
    {
     "data": {
      "text/html": [
       "<table class=\"simpletable\">\n",
       "<caption>OLS Regression Results</caption>\n",
       "<tr>\n",
       "  <th>Dep. Variable:</th>            <td>y</td>        <th>  R-squared:         </th> <td>   0.190</td>\n",
       "</tr>\n",
       "<tr>\n",
       "  <th>Model:</th>                   <td>OLS</td>       <th>  Adj. R-squared:    </th> <td>   0.169</td>\n",
       "</tr>\n",
       "<tr>\n",
       "  <th>Method:</th>             <td>Least Squares</td>  <th>  F-statistic:       </th> <td>   8.925</td>\n",
       "</tr>\n",
       "<tr>\n",
       "  <th>Date:</th>             <td>Thu, 16 May 2024</td> <th>  Prob (F-statistic):</th>  <td>0.00491</td>\n",
       "</tr>\n",
       "<tr>\n",
       "  <th>Time:</th>                 <td>20:46:37</td>     <th>  Log-Likelihood:    </th> <td> -228.52</td>\n",
       "</tr>\n",
       "<tr>\n",
       "  <th>No. Observations:</th>      <td>    40</td>      <th>  AIC:               </th> <td>   461.0</td>\n",
       "</tr>\n",
       "<tr>\n",
       "  <th>Df Residuals:</th>          <td>    38</td>      <th>  BIC:               </th> <td>   464.4</td>\n",
       "</tr>\n",
       "<tr>\n",
       "  <th>Df Model:</th>              <td>     1</td>      <th>                     </th>     <td> </td>   \n",
       "</tr>\n",
       "<tr>\n",
       "  <th>Covariance Type:</th>      <td>nonrobust</td>    <th>                     </th>     <td> </td>   \n",
       "</tr>\n",
       "</table>\n",
       "<table class=\"simpletable\">\n",
       "<tr>\n",
       "    <td></td>       <th>coef</th>     <th>std err</th>      <th>t</th>      <th>P>|t|</th>  <th>[0.025</th>    <th>0.975]</th>  \n",
       "</tr>\n",
       "<tr>\n",
       "  <th>const</th> <td>   26.2164</td> <td>   79.018</td> <td>    0.332</td> <td> 0.742</td> <td> -133.747</td> <td>  186.180</td>\n",
       "</tr>\n",
       "<tr>\n",
       "  <th>x1</th>    <td>    3.6402</td> <td>    1.219</td> <td>    2.987</td> <td> 0.005</td> <td>    1.173</td> <td>    6.107</td>\n",
       "</tr>\n",
       "</table>\n",
       "<table class=\"simpletable\">\n",
       "<tr>\n",
       "  <th>Omnibus:</th>       <td> 2.389</td> <th>  Durbin-Watson:     </th> <td>   1.795</td>\n",
       "</tr>\n",
       "<tr>\n",
       "  <th>Prob(Omnibus):</th> <td> 0.303</td> <th>  Jarque-Bera (JB):  </th> <td>   1.681</td>\n",
       "</tr>\n",
       "<tr>\n",
       "  <th>Skew:</th>          <td> 0.296</td> <th>  Prob(JB):          </th> <td>   0.432</td>\n",
       "</tr>\n",
       "<tr>\n",
       "  <th>Kurtosis:</th>      <td> 2.189</td> <th>  Cond. No.          </th> <td>    431.</td>\n",
       "</tr>\n",
       "</table><br/><br/>Notes:<br/>[1] Standard Errors assume that the covariance matrix of the errors is correctly specified."
      ],
      "text/latex": [
       "\\begin{center}\n",
       "\\begin{tabular}{lclc}\n",
       "\\toprule\n",
       "\\textbf{Dep. Variable:}    &        y         & \\textbf{  R-squared:         } &     0.190   \\\\\n",
       "\\textbf{Model:}            &       OLS        & \\textbf{  Adj. R-squared:    } &     0.169   \\\\\n",
       "\\textbf{Method:}           &  Least Squares   & \\textbf{  F-statistic:       } &     8.925   \\\\\n",
       "\\textbf{Date:}             & Thu, 16 May 2024 & \\textbf{  Prob (F-statistic):} &  0.00491    \\\\\n",
       "\\textbf{Time:}             &     20:46:37     & \\textbf{  Log-Likelihood:    } &   -228.52   \\\\\n",
       "\\textbf{No. Observations:} &          40      & \\textbf{  AIC:               } &     461.0   \\\\\n",
       "\\textbf{Df Residuals:}     &          38      & \\textbf{  BIC:               } &     464.4   \\\\\n",
       "\\textbf{Df Model:}         &           1      & \\textbf{                     } &             \\\\\n",
       "\\textbf{Covariance Type:}  &    nonrobust     & \\textbf{                     } &             \\\\\n",
       "\\bottomrule\n",
       "\\end{tabular}\n",
       "\\begin{tabular}{lcccccc}\n",
       "               & \\textbf{coef} & \\textbf{std err} & \\textbf{t} & \\textbf{P$> |$t$|$} & \\textbf{[0.025} & \\textbf{0.975]}  \\\\\n",
       "\\midrule\n",
       "\\textbf{const} &      26.2164  &       79.018     &     0.332  &         0.742        &     -133.747    &      186.180     \\\\\n",
       "\\textbf{x1}    &       3.6402  &        1.219     &     2.987  &         0.005        &        1.173    &        6.107     \\\\\n",
       "\\bottomrule\n",
       "\\end{tabular}\n",
       "\\begin{tabular}{lclc}\n",
       "\\textbf{Omnibus:}       &  2.389 & \\textbf{  Durbin-Watson:     } &    1.795  \\\\\n",
       "\\textbf{Prob(Omnibus):} &  0.303 & \\textbf{  Jarque-Bera (JB):  } &    1.681  \\\\\n",
       "\\textbf{Skew:}          &  0.296 & \\textbf{  Prob(JB):          } &    0.432  \\\\\n",
       "\\textbf{Kurtosis:}      &  2.189 & \\textbf{  Cond. No.          } &     431.  \\\\\n",
       "\\bottomrule\n",
       "\\end{tabular}\n",
       "%\\caption{OLS Regression Results}\n",
       "\\end{center}\n",
       "\n",
       "Notes: \\newline\n",
       " [1] Standard Errors assume that the covariance matrix of the errors is correctly specified."
      ],
      "text/plain": [
       "<class 'statsmodels.iolib.summary.Summary'>\n",
       "\"\"\"\n",
       "                            OLS Regression Results                            \n",
       "==============================================================================\n",
       "Dep. Variable:                      y   R-squared:                       0.190\n",
       "Model:                            OLS   Adj. R-squared:                  0.169\n",
       "Method:                 Least Squares   F-statistic:                     8.925\n",
       "Date:                Thu, 16 May 2024   Prob (F-statistic):            0.00491\n",
       "Time:                        20:46:37   Log-Likelihood:                -228.52\n",
       "No. Observations:                  40   AIC:                             461.0\n",
       "Df Residuals:                      38   BIC:                             464.4\n",
       "Df Model:                           1                                         \n",
       "Covariance Type:            nonrobust                                         \n",
       "==============================================================================\n",
       "                 coef    std err          t      P>|t|      [0.025      0.975]\n",
       "------------------------------------------------------------------------------\n",
       "const         26.2164     79.018      0.332      0.742    -133.747     186.180\n",
       "x1             3.6402      1.219      2.987      0.005       1.173       6.107\n",
       "==============================================================================\n",
       "Omnibus:                        2.389   Durbin-Watson:                   1.795\n",
       "Prob(Omnibus):                  0.303   Jarque-Bera (JB):                1.681\n",
       "Skew:                           0.296   Prob(JB):                        0.432\n",
       "Kurtosis:                       2.189   Cond. No.                         431.\n",
       "==============================================================================\n",
       "\n",
       "Notes:\n",
       "[1] Standard Errors assume that the covariance matrix of the errors is correctly specified.\n",
       "\"\"\""
      ]
     },
     "execution_count": 11,
     "metadata": {},
     "output_type": "execute_result"
    }
   ],
   "source": [
    "# summary gives a list of statistical information\n",
    "model.summary()"
   ]
  },
  {
   "cell_type": "code",
   "execution_count": 12,
   "id": "dbc6f7a2",
   "metadata": {},
   "outputs": [
    {
     "data": {
      "text/plain": [
       "array([215.50783911, 273.75136802, 208.22739799, 226.42850078,\n",
       "       277.39158858, 304.07440527, 208.22739799, 273.75136802,\n",
       "       297.04877959, 277.39158858])"
      ]
     },
     "execution_count": 12,
     "metadata": {},
     "output_type": "execute_result"
    }
   ],
   "source": [
    "# Making prediction using x_test data\n",
    "\n",
    "y_pred = model.predict(x_test) \n",
    "y_pred"
   ]
  },
  {
   "cell_type": "markdown",
   "id": "79a9fa3e",
   "metadata": {},
   "source": [
    "### Import Performance metrics - R squared and MSE"
   ]
  },
  {
   "cell_type": "code",
   "execution_count": 13,
   "id": "1d7971fe",
   "metadata": {},
   "outputs": [],
   "source": [
    "# Evaluate the model using performance metrics from sklearn\n",
    "\n",
    "from sklearn.metrics import r2_score,mean_squared_error"
   ]
  },
  {
   "cell_type": "code",
   "execution_count": 14,
   "id": "06868042",
   "metadata": {},
   "outputs": [
    {
     "data": {
      "text/plain": [
       "-0.3168890782271627"
      ]
     },
     "execution_count": 14,
     "metadata": {},
     "output_type": "execute_result"
    }
   ],
   "source": [
    "r2_score(y_test,y_pred)"
   ]
  },
  {
   "cell_type": "code",
   "execution_count": 15,
   "id": "5b9037b9",
   "metadata": {},
   "outputs": [],
   "source": [
    "#MSE"
   ]
  },
  {
   "cell_type": "code",
   "execution_count": 16,
   "id": "65905a53",
   "metadata": {},
   "outputs": [
    {
     "data": {
      "text/plain": [
       "3019.415954122368"
      ]
     },
     "execution_count": 16,
     "metadata": {},
     "output_type": "execute_result"
    }
   ],
   "source": [
    "mse = mean_squared_error(y_test,y_pred)\n",
    "mse"
   ]
  },
  {
   "cell_type": "code",
   "execution_count": 17,
   "id": "0c589a4a",
   "metadata": {},
   "outputs": [],
   "source": [
    "#RMSE"
   ]
  },
  {
   "cell_type": "code",
   "execution_count": 18,
   "id": "b950f634",
   "metadata": {},
   "outputs": [
    {
     "data": {
      "text/plain": [
       "54.9492124977453"
      ]
     },
     "execution_count": 18,
     "metadata": {},
     "output_type": "execute_result"
    }
   ],
   "source": [
    "rmse = np.sqrt(mse)\n",
    "rmse"
   ]
  },
  {
   "cell_type": "markdown",
   "id": "299f90e6",
   "metadata": {},
   "source": [
    "### Predicting a single Outcome"
   ]
  },
  {
   "cell_type": "code",
   "execution_count": 19,
   "id": "7736e412",
   "metadata": {},
   "outputs": [],
   "source": [
    "x_new = [1,60]\n",
    "pred_y_new = model.predict(x_new)"
   ]
  },
  {
   "cell_type": "code",
   "execution_count": 20,
   "id": "5e6f403f",
   "metadata": {},
   "outputs": [
    {
     "data": {
      "text/plain": [
       "array([244.62960356])"
      ]
     },
     "execution_count": 20,
     "metadata": {},
     "output_type": "execute_result"
    }
   ],
   "source": [
    "pred_y_new"
   ]
  },
  {
   "cell_type": "markdown",
   "id": "5b116181",
   "metadata": {},
   "source": [
    "### Prediction Intervals"
   ]
  },
  {
   "cell_type": "code",
   "execution_count": 21,
   "id": "206e567e",
   "metadata": {},
   "outputs": [],
   "source": [
    "from statsmodels.sandbox.regression.predstd import wls_prediction_std"
   ]
  },
  {
   "cell_type": "code",
   "execution_count": 22,
   "id": "57a8bc81",
   "metadata": {},
   "outputs": [],
   "source": [
    "_, y_pred_low, y_pred_high = wls_prediction_std(model, x_new, alpha=0.05)"
   ]
  },
  {
   "cell_type": "code",
   "execution_count": 23,
   "id": "758e3313",
   "metadata": {},
   "outputs": [
    {
     "data": {
      "text/plain": [
       "(array([90.25770469]), array([399.00150244]))"
      ]
     },
     "execution_count": 23,
     "metadata": {},
     "output_type": "execute_result"
    }
   ],
   "source": [
    "y_pred_low, y_pred_high"
   ]
  },
  {
   "cell_type": "markdown",
   "id": "5baf2e7d",
   "metadata": {},
   "source": [
    "### Normal P-P Plot"
   ]
  },
  {
   "cell_type": "code",
   "execution_count": 24,
   "id": "ee4f33ea",
   "metadata": {},
   "outputs": [
    {
     "data": {
      "text/plain": [
       "array([ -61.79379415,  -84.58717743,  -38.75136802,  -55.82026982,\n",
       "        -50.03180914,    5.37039644,   97.89733776,  -49.23291193,\n",
       "         77.89419647, -135.55026524,  -47.41280165,   42.21171978,\n",
       "         66.22741891,  -15.50783911,   12.65083755,   52.45821999,\n",
       "        -11.37461813,   19.8464264 ,  -96.15136802,  -48.31225025,\n",
       "        -77.59269137,   56.48138437,  109.93127867,   97.37336773,\n",
       "        -16.98938301, -120.11114747,  161.52907309,   73.57149922,\n",
       "         18.08995532,  122.65083755,  -68.26982412,   90.12686752,\n",
       "        121.64532362,   -0.98938301,  -26.47092691,  -95.50783911,\n",
       "        -21.03180914,    4.79254375,  -64.62960356,  -44.62960356])"
      ]
     },
     "execution_count": 24,
     "metadata": {},
     "output_type": "execute_result"
    }
   ],
   "source": [
    "sales_residuals = model.resid\n",
    "sales_residuals"
   ]
  },
  {
   "cell_type": "code",
   "execution_count": 26,
   "id": "cb627f53",
   "metadata": {},
   "outputs": [
    {
     "data": {
      "text/plain": [
       "<Figure size 800x1600 with 0 Axes>"
      ]
     },
     "metadata": {},
     "output_type": "display_data"
    },
    {
     "data": {
      "image/png": "[encoded data removed]",
      "text/plain": [
       "<Figure size 640x480 with 1 Axes>"
      ]
     },
     "metadata": {},
     "output_type": "display_data"
    }
   ],
   "source": [
    "probplot = sm.ProbPlot(sales_residuals)\n",
    "plt.figure(figsize=(8,16))\n",
    "probplot.ppplot(line='45')\n",
    "plt.title('Normal P-P Plot of Regression Standardized Residuals')\n",
    "plt.show()"
   ]
  },
  {
   "cell_type": "code",
   "execution_count": null,
   "id": "282a60ef",
   "metadata": {},
   "outputs": [],
   "source": []
  }
 ],
 "metadata": {
  "kernelspec": {
   "display_name": "Python 3 (ipykernel)",
   "language": "python",
   "name": "python3"
  },
  "language_info": {
   "codemirror_mode": {
    "name": "ipython",
    "version": 3
   },
   "file_extension": ".py",
   "mimetype": "text/x-python",
   "name": "python",
   "nbconvert_exporter": "python",
   "pygments_lexer": "ipython3",
   "version": "3.11.5"
  }
 },
 "nbformat": 4,
 "nbformat_minor": 5
}
